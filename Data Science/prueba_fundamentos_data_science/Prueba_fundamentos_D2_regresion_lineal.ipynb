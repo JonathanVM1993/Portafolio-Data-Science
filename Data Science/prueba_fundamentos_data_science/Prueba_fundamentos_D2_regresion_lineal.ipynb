{
 "cells": [
  {
   "cell_type": "markdown",
   "metadata": {},
   "source": [
    "# Prueba Fundamentos de Data Science - Desafío 2\n",
    "\n",
    "### Alumno: Jonathan Varas Muñoz\n",
    "\n",
    "### Profresores: Alfonso Tobar, Sebastián Ulloa\n",
    "\n",
    "### Generación: G47\n",
    "\n",
    "---"
   ]
  },
  {
   "cell_type": "markdown",
   "metadata": {},
   "source": [
    "# Preliminares y Aspectos computacionales\n",
    "\n",
    "## **1- Descripción del problema**\n",
    "\n",
    "Nos contactaron desde una Escuela Portuguesa para generar un modelo que identifique los alumnos que tienen un mal desempeño académico, medido en el promedio final del año escolar. Para esto nos envían un dataset con registros sociodemográficos y conductuales de los alumnos de dos escuelas.\n",
    "\n",
    "A su vez la psicopedagoga nos sugiere revisar una batería de preguntas asociadas a los aspectos ambientales del alumno(desde la columna famrel a health) y ver si podemos abstraer cargas latentes.\n",
    "\n",
    "Para armar el modelo, nos entregan un dataset llamado 'students.csv', la cuál está en formato de valores separados por coma, pero no viene con el separador común, si no como separado \"|\" por lo que tendremos que tenerlo en cuenta al momento de la ingesta de datos. Los atributos disponibles en esta Base de Datos son:\n",
    "\n",
    "* school: Escuela del estudiante. (Binaria: GP[Gabriel Pereira] MS[Mousinho de Silveira])\n",
    "\n",
    "* sex: Sexo del estudiante. (Binaria: F[Mujer] M[Hombre])\n",
    "\n",
    "* age: Edad del estudiante. (Numérica)\n",
    "\n",
    "* address: Ubicación de la casa del estudiante. (Binaria: U[Urbana] R[Rural])\n",
    "\n",
    "* famsize: Tamaño de la familia (Binaria: LE3[Menor o igual a3] GT3[Más grande que 3])\n",
    "\n",
    "* Pstatus: Estado cohabitacional de los padres. (Binaria: T[Viviendo juntos] A[Viviendo separados])\n",
    "\n",
    "* Medu: Nivel educacional de la madre. (Numérica)\n",
    "\n",
    "* Fedu: Nivel educacional del padre. (Númerica)\n",
    "\n",
    "* Mjob: Ocupación de la madre (Nominal: 'Teacher'[Profesora] 'Health'[Relacionada a salud] 'Services'[Administración pública o policía]) 'At_home[Casa u otra]\n",
    "\n",
    "* job: Ocupación del padre (Nominal: 'Teacher'[Profesor] 'Health'[Relacionado a salud] 'Services'[Administración pública o policía]) 'At_home[Casa u otra]\n",
    "\n",
    "* reason: Razón para escoger la escuela (Nominal: 'home'[Cercano a casa] 'reputation'[Reputación de la escuela] 'course'[Preferencia de cursos] 'other'[Otra])\n",
    "\n",
    "* guardian: Aporerado del estudiante. (Nominal: 'mother'[Madre] 'father'[Padre] other[Otro])\n",
    "\n",
    "* traveltime: Tiempo de viaje entre el hogar. **Nos señalan que debemos recodificarla pero ya se encuentra realizada dentro del dataset**\n",
    "\n",
    "* studytime: Horas semanales dedicadas al estudio. **Nos señalan que debemos recodificarla pero ya se encuentra realizada dentro del dataset**\n",
    "\n",
    "* failures: Número de clases reprobadas.\n",
    "\n",
    "* schoolsup: Apoyo educacional del colegio. (Binaria: si - no)\n",
    "\n",
    "* famsup: Apoyo educacional familiar. (Binaria: si - no)\n",
    "\n",
    "* paid: Clases particulares pagadas. (Binaria: si - no)\n",
    "\n",
    "* activities: Actividades extracurriculares. (Binaria: si - no)\n",
    "\n",
    "* nursery: Asistió a guardería infantil. (Binaria: si - no)\n",
    "\n",
    "* higher: Desea proseguir estudios superiores. (Binaria: si - no)\n",
    "\n",
    "* romantic: Relación romántica. (Binaria: si - no)\n",
    "\n",
    "* famrel: Calidad de las relaciones familiares. (Numérica)\n",
    "\n",
    "* freetime: Tiempo libre fuera del colegio. (Numérica)\n",
    "\n",
    "* goout: Salidas con amigos. (Numérica)\n",
    "\n",
    "* Dalc: Consumo de alcohol en día de semana. (Numérica)\n",
    "\n",
    "* Walc: Consumo de alcohol en fines de semanas. (Numérica)\n",
    "\n",
    "* health: Estado de salud actual. (Numérica)\n",
    "\n",
    "* absences: Cantidad de ausencias escolares. (Numérica)\n",
    "\n",
    "* G1: Notas del primer semestre. (Numérica)\n",
    "\n",
    "* G2: Notas del segundo semestre. (Numérica)\n",
    "\n",
    "* G3: Promedio final. (Numérica)\n",
    "\n",
    "En este caso, tendremos 3 variables objetivos, las cuales serán G1, G2 y G3. Pero en este caso en particular, al momento de realizar cualquier modelo con alguna de las 3 variables, se excluirán las otras dos, por ejemplo: Si modelamos para G1, excluimos G2 y G3, si modelamos para G2, excluimos G1 y G3, lo mismo si modelamos en G3.\n",
    "\n",
    "Para G1 y G2 solo generaremos modelos descriptivos y para G3 se realizará tanto modelo descriptivo como predictivo.\n",
    "\n",
    "El modelo será desarrollado mediante un **Modelo de Regresión Lineal** esto porque las variables objetivos son continuas y no discretas. Siendo este el caso, para la modelación descriptiva utilizaremos el método de los mínimos cuadrados(OLS) y para el modelo predictivo LinealRegression().\n",
    "\n",
    "### **1.1- Métricas y métodos de depuración**\n",
    "\n",
    "Dividiremos las Métricas en dos tipos: Descriptivas y predictivas. Esto para diferenciar que métricas usaremos para medir el desempeño de cada modelamiento. Por lo que quedaría de la siguiente forma:\n",
    "\n",
    "**Métricas del modelo descriptivo y depuración**:\n",
    "\n",
    "Para el modelamiento descriptivo, nos fijaremos en los siguientes datos que nos entrega el sumario del modelo:\n",
    "\n",
    "* R2 Ajustado: Consideraremos un mejor desempeño si el R2 cuadrado se acerca al 1.\n",
    "\n",
    "* AIC, BIC: Consideraremos un mejor desempeño si el AIC y BIC es menor que los otros modelos descriptivos.\n",
    "\n",
    "* Cond. No: Consideraremos un buen modelo si no presenta Multicolinealidad.\n",
    "\n",
    "**Depuración del modelo descriptivo**:\n",
    "\n",
    "Depuraremos mediante una función que nos ayude a eliminar variables por el VIF, esto para evitar multicolinealidad y además haremos depuraciones por p-value, eliminando variables que no sean significativas al 95% de confianza, ósea que si tienen un pvalue mayor a 0.05, serán eliminadas.\n",
    "\n",
    "**Métricas del modelo predictivo**:\n",
    "\n",
    "Para comparar entre modelos predictivos, realizaremos validaciones cruzadas con LeaveOneOut() esto porque la data no es tan robusta y nos permite utilizar este método. En cuanto a medición, compararemos mediante la siguiente métrica:\n",
    "\n",
    "* RMSE: Error cuadrático medio. Nos dirá en cuanto se está equivocando el modelo aproximadamente, por lo que mientras más bajo el RMSE, mejor será el modelo.\n",
    "\n",
    "## **2- Aspectos Computacionales**\n",
    "\n",
    "A continuación, presentamos las librerías que utilizaremos para:\n",
    " \n",
    "#### **Ingesta de datos**"
   ]
  },
  {
   "cell_type": "code",
   "execution_count": 1,
   "metadata": {},
   "outputs": [],
   "source": [
    "import pandas as pd # Libería orientada al uso de DataFrames, el cual nos permite ingestar data, manipular data, exportar data ... etc."
   ]
  },
  {
   "cell_type": "markdown",
   "metadata": {},
   "source": [
    "#### **Preprocesamiento**"
   ]
  },
  {
   "cell_type": "code",
   "execution_count": 2,
   "metadata": {},
   "outputs": [],
   "source": [
    "from feature_engine.encoding import OneHotEncoder, OrdinalEncoder # Libreria utilizada para transformar variables categoricas en números. OneHot: Columnas, Ordinal: Números con orden de importancia.\n",
    "from feature_engine.imputation import CategoricalImputer, MeanMedianImputer # Librería para procesar datos nulos, imputamos por moda con Categorical y por media con MeanMedian\n",
    "from feature_engine.wrappers import SklearnTransformerWrapper # Librería que transformar array numpy en DataFrame\n",
    "from sklearn.preprocessing import StandardScaler # Librería que nos permite estandarizar variables númericas, esto nos ayuda a mejorar la Multicolinealidad y el desempeño de nuestro modelo"
   ]
  },
  {
   "cell_type": "markdown",
   "metadata": {},
   "source": [
    "#### **Visualización**"
   ]
  },
  {
   "cell_type": "code",
   "execution_count": 3,
   "metadata": {},
   "outputs": [],
   "source": [
    "import matplotlib.pyplot as plt # Librería que nos ayudará a visualizar las variables tanto continuas como categoricas y además dispersión entre dos variables.\n",
    "import seaborn as sns # Librería que nos ayudará a visualizar variables. La cual está construida a partir de matplotlib.\n",
    "import missingno as msngo # Librería para inspeccionar valores perdidos."
   ]
  },
  {
   "cell_type": "markdown",
   "metadata": {},
   "source": [
    "#### **Modelación**"
   ]
  },
  {
   "cell_type": "code",
   "execution_count": 4,
   "metadata": {},
   "outputs": [],
   "source": [
    "from sklearn.linear_model import LinearRegression # Librería que nos permite armar nuestro modelo predictivo con Regresión Líneal\n",
    "import statsmodels.api as sm # Librería que nos permite armar y exponer nuestro modelo descriptivo desde la Econometría."
   ]
  },
  {
   "cell_type": "markdown",
   "metadata": {},
   "source": [
    "#### **Evaluación**"
   ]
  },
  {
   "cell_type": "code",
   "execution_count": 5,
   "metadata": {},
   "outputs": [],
   "source": [
    "from sklearn.model_selection import cross_val_score, LeaveOneOut # Librería para medir mediante validación cruzada con KFolds."
   ]
  },
  {
   "cell_type": "markdown",
   "metadata": {},
   "source": [
    "**Factor Analyzer**"
   ]
  },
  {
   "cell_type": "code",
   "execution_count": 6,
   "metadata": {},
   "outputs": [],
   "source": [
    "import factor_analyzer as fact # Librería que nos permite buscar cargas latentes\n",
    "from factor_analyzer.factor_analyzer import calculate_kmo\n",
    "from factor_analyzer import FactorAnalyzer"
   ]
  },
  {
   "cell_type": "markdown",
   "metadata": {},
   "source": [
    "### **2.1- Detalles del proceso de recodificación e ingeniería de atributos**\n",
    "\n",
    "En esta sección veremos como se tratarán las variables que contengan valores perdidos y la recodificación de las variables binarias. Además, veremos la solución de como trataremos\n",
    "nuestras variables al momento de realizar los modelos descriptivos y predictivos. También, que método utilizaremos para verificar si existen cargas latentes con la batería de preguntas que nos señala la psicopedagoga.\n",
    "\n",
    "El preprocesamiento lo iremos realizando según vamos avanzando, ya que para facilitar la visualización de nuestras variables, las preferiremos en categorías en vez de numéricas, dicho esto, el preprocesamiento de las variables numéricas como Strings y el trato de valores perdidos lo realizaremos antes de la visualización y posteriormente, al llegar al modelamiento descriptivo y predictivo, realizaremos el preprocessing, imputando variables categóricas y continuas, según el método que corresponda (CategoricalImputer o MeanMedianImputer).\n",
    "\n",
    "#### **2.1.1- Trato de valores perdidos**\n",
    "\n",
    "Nos avisan previamente que los valores perdidos se encuentran establecidos en strings \"nulidade\", \"sem validade\" y \"zero\". Al estar de esa forma, no podemos tratar los datos perdidos como NaN y esto genera un problema, ya que no nos permite utilizar librerías de imputación o métodos de Pandas para el trato de estos. Por lo tanto, utilizaremos una función que recorra todas las columnas y que trabaje\n",
    "a nivel vectorial, reemplazando los valores \"nulidade\", \"sem validade\" y \"zero\" por valores NaN de numpy.\n",
    "\n",
    "#### **2.1.2- Binarización**\n",
    "\n",
    "Todas las variables binarias que se encuentren dentro del Dataset, serán recodificadas con un 0 a la case mayoritaría y con 1 a la clase minoritaría, esto mediante una función que reconozca cual categoría es mayor y según el resultado que asigne 1 a la que tenga minoría de clases.\n",
    "\n",
    "#### **2.1.3- Solución Variables numéricas registradas como Strings**\n",
    "\n",
    "Las variables numéricas registradas como Strings, serán tratadas con una función importada desde el archivo de utilidades llamada \"number_in_marks_to_number\". Lo que realiza esta función es quitar mediante un replace las doble comillas y a su vez, transforma el vector en tipo float64.\n",
    "\n",
    "#### **2.1.4- Columnas object a float64**\n",
    "\n",
    "Inspeccionando la data, nos damos cuenta que las variables que nos señalan como numéricas se encuentran en formato Object, por lo que serán transformadas a tipo de dato float64 al momento de la visualización de las variables.\n",
    "\n",
    "#### **2.1.5- Preprocesamiento en la modelación descriptiva y predictiva**\n",
    "\n",
    "Para los valores perdidos, utilizaremos librerías y métodos de imputación, en el cuál, las variables categóricas las imputaremos por moda con el método CategoricalImputer y para las variables continuas\n",
    "imputaremos con el método MeanMedianImputer.\n",
    "\n",
    "Luego de realizar la imputación, las variables categóricas las pasaremos a numéricas con los métodos OneHotEncoder y OrdinalEncoder. Si la data indica que hay un orden en la categoria, utilizamos\n",
    "OrdinalEncoder, si no, utilizamos OneHotEncoder. Los métodos abarcarian las siguientes columnas:\n",
    "\n",
    "Finalmente, una vez que pasamos nuestras variables categóricas a numéricas, procederemos a escalar las variables con StandarScaler(), para así, ir evaluando si esto mejora nuestro modelo\n",
    "descriptivo y predictivo.\n",
    "\n",
    "\n",
    "#### **2.1.6- Funciones generadas y su objetivo**"
   ]
  },
  {
   "cell_type": "code",
   "execution_count": 7,
   "metadata": {},
   "outputs": [
    {
     "name": "stdout",
     "output_type": "stream",
     "text": [
      "\n",
      "    replace_nullstring\n",
      "    Función que reemplaza valores Strings por Nulos de Numpy.\n",
      "\n",
      "    replace_nullstring_list    \n",
      "    Función que reemplaza valores Strings por Nulos de Numpy ingresando una lista de valores Strings.\n",
      "\n",
      "    obs_perdidas\n",
      "    Función que retorna la cantidad de datos perdidos de un vector. Se puede imprimir la lista al ingresar True como parámetro en print_list\n",
      "\n",
      "    change_nomenclature    \n",
      "    Función que reemplaza la nomenclatura de datos dentro de un Vector Serie Pandas a través de un diccionario ingresado.\n",
      "\n",
      "    countplot_sns\n",
      "    Función que crea un gráfico countplot de seaborn.\n",
      "\n",
      "    histplot_sns\n",
      "    Función que crea un gráfico histplot de seaborn.\n",
      "\n",
      "    histplot_log\n",
      "    Función que crea un gráfico histplot de seaborn, pero aplicando logaritmo.\n",
      "\n",
      "    number_in_marks_to_number\n",
      "    Función que quita doble comillas a datos dentro de un Vector Serie Pandas.\n",
      "\n",
      "    categorical_to_number\n",
      "    Función que transforma categorías en números, dejando la mayoritaria en el valor más alto y la minoritaria en el valor más bajo(0).\n",
      "\n",
      "    binarize_categorical\n",
      "    Función que binariza categorías dejando la mayoritaria como número 0 y categoría minoritaria como 1.\n",
      "\n",
      "    VIF\n",
      "    Función entrega el variance inflation factor de predictores. Opcionalmente se puede ignorar columnas ingresando en el parámetro vars_to_ignore.\n",
      "\n",
      "    model_metrics\n",
      "    Función que imprime las bondades de ajuste de modelos de Regresión Lineal.\n",
      "    \n"
     ]
    }
   ],
   "source": [
    "import utility_funcs as ut\n",
    "\n",
    "print(ut.info_utilidades_desafio2.__doc__)"
   ]
  },
  {
   "cell_type": "markdown",
   "metadata": {},
   "source": [
    "#### **2.2- Buscando cargas latentes**\n",
    "\n",
    "La psicopedagoga nos ha recomendado buscar cargas latentes en una batería de preguntas que van desde la columna \"famrel\" hasta \"health\". Para verificar la existencia de alguna, utilizaremos un Factor Analyzer, donde mediante kmo_all y kmo_model buscaremos si es factible realizar el método. El corte de criterio para continuar con el Factor Analizer es que kmo_model debe ser mayor o igual a 0.60, en caso de que las columnas no presenten esta condición, iremos eliminando variables que presenten un kmo bajo en los datos entregados desde kmo_all, hasta encontrar un kmo_model adecuado, en caso de no ser así, no continuaremos con Factor Analyzer y daremos con que no existen cargas latentes en la batería de preguntas."
   ]
  },
  {
   "cell_type": "code",
   "execution_count": 8,
   "metadata": {},
   "outputs": [],
   "source": [
    "import utility_funcs as ut"
   ]
  },
  {
   "cell_type": "markdown",
   "metadata": {},
   "source": [
    "---"
   ]
  },
  {
   "cell_type": "markdown",
   "metadata": {},
   "source": [
    "#### **2.2.1 Preprocesamiento**\n",
    "\n",
    "Primero, para realizar la búsqueda de cargas latentes, debemos normalizar nuestros datos, ya que dos columnas que deberían ser numéricas, se encuentran como Strings"
   ]
  },
  {
   "cell_type": "code",
   "execution_count": 9,
   "metadata": {},
   "outputs": [],
   "source": [
    "df = pd.read_csv('students.csv', sep='|')\n",
    "\n",
    "df = df.drop(columns='Unnamed: 0')"
   ]
  },
  {
   "cell_type": "markdown",
   "metadata": {},
   "source": [
    "#### **2.2.2 Tratando datos perdidos**\n",
    "\n",
    "Para tratar los datos perdidos en el dataset que se encuentran como \"nulidade\", \"sem validade\" y \"zero\" utilizaremos un for que recorre todas las columnas y va aplicando la función \"replace_nullstring_list\" la cual toma por parámetros la data, el vector y la lista de nulos que nos señalan"
   ]
  },
  {
   "cell_type": "code",
   "execution_count": 10,
   "metadata": {},
   "outputs": [],
   "source": [
    "lista_nulos = ['nulidade','sem validade','zero'] # Lista de nulos que se encuentran dentro del Dataset\n",
    "\n",
    "for column in df: # For que aplica la función alimentada con la lista anterior.\n",
    " df[column] = ut.replace_nullstring_list(df, column, lista_nulos)"
   ]
  },
  {
   "cell_type": "markdown",
   "metadata": {},
   "source": [
    "**Comprobamos en dos columnas**"
   ]
  },
  {
   "cell_type": "code",
   "execution_count": 11,
   "metadata": {},
   "outputs": [
    {
     "name": "stdout",
     "output_type": "stream",
     "text": [
      "Series([], Name: age, dtype: object)\n",
      "Series([], Name: health, dtype: object)\n"
     ]
    }
   ],
   "source": [
    "print(df[df.age == 'nulidade']['age'])\n",
    "print(df[df.age == 'sem validade']['health'])"
   ]
  },
  {
   "cell_type": "markdown",
   "metadata": {},
   "source": [
    "Como vemos, ninguna columna contiene datos nulidade, sem validade o zero"
   ]
  },
  {
   "cell_type": "markdown",
   "metadata": {},
   "source": [
    "#### **2.2.2 Tratando variables numéricas que se encuentran como Strings**\n",
    "\n",
    "Utilizamos la función number_in_marks_to_number para que las 3 variables con valores numéricos como Strings, les quite las doble comillas, para que así, posteriormente pasarlas a números"
   ]
  },
  {
   "cell_type": "code",
   "execution_count": 12,
   "metadata": {},
   "outputs": [],
   "source": [
    "df['age'] = ut.number_in_marks_to_number(df, 'age')\n",
    "\n",
    "df['goout'] = ut.number_in_marks_to_number(df, 'goout')\n",
    "\n",
    "df['health'] = ut.number_in_marks_to_number(df, 'health')"
   ]
  },
  {
   "cell_type": "markdown",
   "metadata": {},
   "source": [
    "Para buscar cargas latentes, trabajamos en las columnas correspondientes y además en una copia del dataframe original"
   ]
  },
  {
   "cell_type": "code",
   "execution_count": 13,
   "metadata": {},
   "outputs": [],
   "source": [
    "df_d = df.loc[:,'famrel':'health'].copy()"
   ]
  },
  {
   "cell_type": "markdown",
   "metadata": {},
   "source": [
    "Imputamos por moda los datos perdidos para que las columnas puedan ser transformadas en formato int64 y poder ser utilizadas en los métodos de FactorAnalyzer"
   ]
  },
  {
   "cell_type": "code",
   "execution_count": 14,
   "metadata": {},
   "outputs": [],
   "source": [
    "for column in df_d:\n",
    "    df_d[column] = df_d[column].fillna(df_d[column].mode()[0]) #Imputamos por moda\n",
    "\n",
    "# Transformamos todas las columnas a int64\n",
    "df_d['famrel'] = df_d['famrel'].astype('int64')\n",
    "df_d['freetime'] = df_d['freetime'].astype('int64')\n",
    "df_d['Walc'] = df_d['Walc'].astype('int64')\n",
    "df_d['Dalc'] = df_d['Dalc'].astype('int64')\n",
    "df_d['goout'] = df_d['goout'].astype('int64')\n",
    "df_d['health'] = df_d['health'].astype('int64')"
   ]
  },
  {
   "cell_type": "markdown",
   "metadata": {},
   "source": [
    "Primero realizamos la prueba de Esferacidad de Errores de Barlett, donde buscamos rechazar la nula para decir que nuestra matriz no es identidad."
   ]
  },
  {
   "cell_type": "code",
   "execution_count": 15,
   "metadata": {},
   "outputs": [
    {
     "data": {
      "text/plain": [
       "False"
      ]
     },
     "execution_count": 15,
     "metadata": {},
     "output_type": "execute_result"
    }
   ],
   "source": [
    "k, pvalue = fact.calculate_bartlett_sphericity(df_d)\n",
    "\n",
    "pvalue > 0.05"
   ]
  },
  {
   "cell_type": "markdown",
   "metadata": {},
   "source": [
    "Resultado pvalue no es mayor a 0.05, por lo tanto no es una matriz identidad y podemos continuar con el proceso de buscar cargas latentes"
   ]
  },
  {
   "cell_type": "markdown",
   "metadata": {},
   "source": [
    "Utilizamos kmo_all para ir eliminando variables con bajo puntaje y nos fijamos en el puntaje kmo_model, hasta que llegue a 60"
   ]
  },
  {
   "cell_type": "code",
   "execution_count": 16,
   "metadata": {},
   "outputs": [
    {
     "data": {
      "text/plain": [
       "(array([0.49763326, 0.61509749, 0.63155667, 0.58524423, 0.55528317,\n",
       "        0.56438089]),\n",
       " 0.5803029626301461)"
      ]
     },
     "execution_count": 16,
     "metadata": {},
     "output_type": "execute_result"
    }
   ],
   "source": [
    "kmo_all, kmo_model = calculate_kmo(df_d)\n",
    "\n",
    "kmo_all, kmo_model"
   ]
  },
  {
   "cell_type": "markdown",
   "metadata": {},
   "source": [
    "Eliminamos columnas una por una, hasta que el kmo_model sea mayor o igual a 0.60. Por efectos prácticos, ya encontramos que ir eliminando famrel, walc y health en orden, el kmo_model queda en 0.60"
   ]
  },
  {
   "cell_type": "code",
   "execution_count": 17,
   "metadata": {},
   "outputs": [],
   "source": [
    "df_d = df_d.drop(columns=['famrel','Walc','health'])"
   ]
  },
  {
   "cell_type": "code",
   "execution_count": 18,
   "metadata": {},
   "outputs": [
    {
     "data": {
      "text/plain": [
       "(array([0.61084303, 0.58484573, 0.61716874]), 0.6023807371908024)"
      ]
     },
     "execution_count": 18,
     "metadata": {},
     "output_type": "execute_result"
    }
   ],
   "source": [
    "kmo_all, kmo_model = calculate_kmo(df_d)\n",
    "\n",
    "kmo_all, kmo_model"
   ]
  },
  {
   "cell_type": "markdown",
   "metadata": {},
   "source": [
    "Buscamos la cantidad de n_factors que necesitamos mediante los eigenvalues y el gráfico ScreePlot"
   ]
  },
  {
   "cell_type": "code",
   "execution_count": 19,
   "metadata": {},
   "outputs": [
    {
     "data": {
      "text/plain": [
       "(3,)"
      ]
     },
     "execution_count": 19,
     "metadata": {},
     "output_type": "execute_result"
    }
   ],
   "source": [
    "fa = FactorAnalyzer() # Cargo mi clase factor\n",
    "\n",
    "fa.fit(df_d) # Ajusto a mi data de entrenamiento\n",
    "\n",
    "ev, _ = fa.get_eigenvalues() # Cantidad de valores propios\n",
    "\n",
    "ev.shape # Nos da uno por cada uno de los valores que yo tengo"
   ]
  },
  {
   "cell_type": "markdown",
   "metadata": {},
   "source": [
    "El gráfico nos dice que podemos realizar solo 1 n_factor, por lo que procederemos con esta cantidad"
   ]
  },
  {
   "cell_type": "code",
   "execution_count": 20,
   "metadata": {},
   "outputs": [
    {
     "data": {
      "image/png": "[encoded data removed]",
      "text/plain": [
       "<Figure size 432x288 with 1 Axes>"
      ]
     },
     "metadata": {
      "needs_background": "light"
     },
     "output_type": "display_data"
    }
   ],
   "source": [
    "plt.plot(range(1, ev.shape[0]+1), ev, '-o')\n",
    "plt.axhline(y = 1, c='red', ls='--') \n",
    "plt.title('Scree Plot');"
   ]
  },
  {
   "cell_type": "markdown",
   "metadata": {},
   "source": [
    "Ya con nuestro número de factores obtenido anteriormente, realizamos otro FactorAnalyzer, pero con n_factors 1 y analizaremos lo que nos entrega"
   ]
  },
  {
   "cell_type": "code",
   "execution_count": 21,
   "metadata": {},
   "outputs": [
    {
     "name": "stderr",
     "output_type": "stream",
     "text": [
      "c:\\Users\\Jony\\anaconda3\\lib\\site-packages\\factor_analyzer\\factor_analyzer.py:626: UserWarning: No rotation will be performed when the number of factors equals 1.\n",
      "  warnings.warn('No rotation will be performed when '\n"
     ]
    },
    {
     "data": {
      "text/plain": [
       "FactorAnalyzer(n_factors=1, rotation='varimax', rotation_kwargs={})"
      ]
     },
     "execution_count": 21,
     "metadata": {},
     "output_type": "execute_result"
    }
   ],
   "source": [
    "fa_2 = FactorAnalyzer(n_factors=1, rotation='varimax') # n_factors = en cuanto quiero dejarlos. # Varimax: Manera en como se va a transformar nuestra data\n",
    "\n",
    "fa_2.fit(df_d)"
   ]
  },
  {
   "cell_type": "markdown",
   "metadata": {},
   "source": [
    "Obtenemos los loadings para realizar una interpretación"
   ]
  },
  {
   "cell_type": "code",
   "execution_count": 22,
   "metadata": {},
   "outputs": [
    {
     "data": {
      "text/html": [
       "<div>\n",
       "<style scoped>\n",
       "    .dataframe tbody tr th:only-of-type {\n",
       "        vertical-align: middle;\n",
       "    }\n",
       "\n",
       "    .dataframe tbody tr th {\n",
       "        vertical-align: top;\n",
       "    }\n",
       "\n",
       "    .dataframe thead th {\n",
       "        text-align: right;\n",
       "    }\n",
       "</style>\n",
       "<table border=\"1\" class=\"dataframe\">\n",
       "  <thead>\n",
       "    <tr style=\"text-align: right;\">\n",
       "      <th></th>\n",
       "      <th>0</th>\n",
       "    </tr>\n",
       "  </thead>\n",
       "  <tbody>\n",
       "    <tr>\n",
       "      <th>freetime</th>\n",
       "      <td>0.464924</td>\n",
       "    </tr>\n",
       "    <tr>\n",
       "      <th>goout</th>\n",
       "      <td>0.592709</td>\n",
       "    </tr>\n",
       "    <tr>\n",
       "      <th>Dalc</th>\n",
       "      <td>0.449617</td>\n",
       "    </tr>\n",
       "  </tbody>\n",
       "</table>\n",
       "</div>"
      ],
      "text/plain": [
       "                 0\n",
       "freetime  0.464924\n",
       "goout     0.592709\n",
       "Dalc      0.449617"
      ]
     },
     "execution_count": 22,
     "metadata": {},
     "output_type": "execute_result"
    }
   ],
   "source": [
    "fa_2.loadings_\n",
    "\n",
    "loads = pd.DataFrame(fa_2.loadings_, index= df_d.columns)\n",
    "\n",
    "loads"
   ]
  },
  {
   "cell_type": "markdown",
   "metadata": {},
   "source": [
    "**Interpretamos:**\n",
    "\n",
    "Para interpretar primero veremos a que corresponde cada variable\n",
    "\n",
    "| Variable | Significado\n",
    "| :---: | :---: |\n",
    "| freetime | Tiempo libre fuera del colegio |\n",
    "| goout | Salidas con amigos |\n",
    "| Dalc | Consumo de alcohol en días de semana |\n",
    "\n",
    "Podríamos interpretar la carga latente como *tiempo que utiliza el estudiante para salir a tomar con amigos* por lo que categorizaremos la carga latente como \"Alcoholismo\". Puntajes más altos indicarán un nivel más alto de alcoholismo, ya que la encuesta va desde menor a menor (1 bajo 5 mucho).\n",
    "\n",
    "Transformamos y obtenemos nuestra carga latente en X_factor, este lo utilizaremos posteriormente en la modelación descriptiva y predictiva, para así, ver si mejora o no nuestros modelos."
   ]
  },
  {
   "cell_type": "code",
   "execution_count": 23,
   "metadata": {},
   "outputs": [
    {
     "data": {
      "text/html": [
       "<div>\n",
       "<style scoped>\n",
       "    .dataframe tbody tr th:only-of-type {\n",
       "        vertical-align: middle;\n",
       "    }\n",
       "\n",
       "    .dataframe tbody tr th {\n",
       "        vertical-align: top;\n",
       "    }\n",
       "\n",
       "    .dataframe thead th {\n",
       "        text-align: right;\n",
       "    }\n",
       "</style>\n",
       "<table border=\"1\" class=\"dataframe\">\n",
       "  <thead>\n",
       "    <tr style=\"text-align: right;\">\n",
       "      <th></th>\n",
       "      <th>alcoholismo</th>\n",
       "    </tr>\n",
       "  </thead>\n",
       "  <tbody>\n",
       "    <tr>\n",
       "      <th>0</th>\n",
       "      <td>0.145424</td>\n",
       "    </tr>\n",
       "    <tr>\n",
       "      <th>1</th>\n",
       "      <td>-0.252397</td>\n",
       "    </tr>\n",
       "    <tr>\n",
       "      <th>2</th>\n",
       "      <td>-0.344278</td>\n",
       "    </tr>\n",
       "    <tr>\n",
       "      <th>3</th>\n",
       "      <td>-0.938677</td>\n",
       "    </tr>\n",
       "    <tr>\n",
       "      <th>4</th>\n",
       "      <td>-0.650218</td>\n",
       "    </tr>\n",
       "    <tr>\n",
       "      <th>...</th>\n",
       "      <td>...</td>\n",
       "    </tr>\n",
       "    <tr>\n",
       "      <th>390</th>\n",
       "      <td>1.640162</td>\n",
       "    </tr>\n",
       "    <tr>\n",
       "      <th>391</th>\n",
       "      <td>1.443584</td>\n",
       "    </tr>\n",
       "    <tr>\n",
       "      <th>392</th>\n",
       "      <td>0.936401</td>\n",
       "    </tr>\n",
       "    <tr>\n",
       "      <th>393</th>\n",
       "      <td>-0.147700</td>\n",
       "    </tr>\n",
       "    <tr>\n",
       "      <th>394</th>\n",
       "      <td>0.071024</td>\n",
       "    </tr>\n",
       "  </tbody>\n",
       "</table>\n",
       "<p>395 rows × 1 columns</p>\n",
       "</div>"
      ],
      "text/plain": [
       "     alcoholismo\n",
       "0       0.145424\n",
       "1      -0.252397\n",
       "2      -0.344278\n",
       "3      -0.938677\n",
       "4      -0.650218\n",
       "..           ...\n",
       "390     1.640162\n",
       "391     1.443584\n",
       "392     0.936401\n",
       "393    -0.147700\n",
       "394     0.071024\n",
       "\n",
       "[395 rows x 1 columns]"
      ]
     },
     "execution_count": 23,
     "metadata": {},
     "output_type": "execute_result"
    }
   ],
   "source": [
    "X_factor = pd.DataFrame(fa_2.transform(df_d), columns=['alcoholismo'])\n",
    "\n",
    "X_factor"
   ]
  },
  {
   "cell_type": "markdown",
   "metadata": {},
   "source": [
    "# **3- Descripción**\n",
    "\n",
    "Sección donde generaremos el análisis descriptivo y visual de la variables, tendremos en consideración si estas son de tipo continua o discreta.\n",
    "\n",
    "Antes de comenzar la visualización, realizaremos un prepocesamiento del tipo de dato de las columnas, esto porque si nos fijamos, las columnas que deberían ser numéricas, están como tipo Object.\n",
    "\n",
    "La lista de estas columnas son: age, Medu, Fedu, traveltime, studytime, failures, famrel, freetime, goout, dalc, walc, health, absences, G1, G2 y G3"
   ]
  },
  {
   "cell_type": "code",
   "execution_count": 24,
   "metadata": {},
   "outputs": [
    {
     "data": {
      "text/plain": [
       "school         object\n",
       "sex            object\n",
       "age           float64\n",
       "address        object\n",
       "famsize        object\n",
       "Pstatus        object\n",
       "Medu           object\n",
       "Fedu           object\n",
       "Mjob           object\n",
       "Fjob           object\n",
       "reason         object\n",
       "guardian       object\n",
       "traveltime     object\n",
       "studytime      object\n",
       "failures       object\n",
       "schoolsup      object\n",
       "famsup         object\n",
       "paid           object\n",
       "activities     object\n",
       "nursery        object\n",
       "higher         object\n",
       "internet       object\n",
       "romantic       object\n",
       "famrel         object\n",
       "freetime       object\n",
       "goout         float64\n",
       "Dalc           object\n",
       "Walc           object\n",
       "health        float64\n",
       "absences       object\n",
       "G1             object\n",
       "G2            float64\n",
       "G3             object\n",
       "dtype: object"
      ]
     },
     "execution_count": 24,
     "metadata": {},
     "output_type": "execute_result"
    }
   ],
   "source": [
    "df.dtypes"
   ]
  },
  {
   "cell_type": "markdown",
   "metadata": {},
   "source": [
    "### 3.1 Transformando variables de tipo dato Object a Numéricas"
   ]
  },
  {
   "cell_type": "code",
   "execution_count": 25,
   "metadata": {},
   "outputs": [],
   "source": [
    "# Lista de columnas con tipo de dato Object\n",
    "lista_columnas = ['age','Medu','Fedu','traveltime','studytime','failures','famrel','freetime','goout','Dalc','Walc','health','absences','G1','G2','G3','failures']\n",
    "\n",
    "for item in lista_columnas: # Recorremos for y transformamos con astype\n",
    "    df[item] = df[item].astype('float64') "
   ]
  },
  {
   "cell_type": "markdown",
   "metadata": {},
   "source": [
    "**Comprobamos**"
   ]
  },
  {
   "cell_type": "code",
   "execution_count": 26,
   "metadata": {},
   "outputs": [
    {
     "data": {
      "text/plain": [
       "school         object\n",
       "sex            object\n",
       "age           float64\n",
       "address        object\n",
       "famsize        object\n",
       "Pstatus        object\n",
       "Medu          float64\n",
       "Fedu          float64\n",
       "Mjob           object\n",
       "Fjob           object\n",
       "reason         object\n",
       "guardian       object\n",
       "traveltime    float64\n",
       "studytime     float64\n",
       "failures      float64\n",
       "schoolsup      object\n",
       "famsup         object\n",
       "paid           object\n",
       "activities     object\n",
       "nursery        object\n",
       "higher         object\n",
       "internet       object\n",
       "romantic       object\n",
       "famrel        float64\n",
       "freetime      float64\n",
       "goout         float64\n",
       "Dalc          float64\n",
       "Walc          float64\n",
       "health        float64\n",
       "absences      float64\n",
       "G1            float64\n",
       "G2            float64\n",
       "G3            float64\n",
       "dtype: object"
      ]
     },
     "execution_count": 26,
     "metadata": {},
     "output_type": "execute_result"
    }
   ],
   "source": [
    "df.dtypes"
   ]
  },
  {
   "cell_type": "markdown",
   "metadata": {},
   "source": [
    "Como observamos, las columnas que se encontraban en la lista han sido pasadas a numéricas de tipo float64"
   ]
  },
  {
   "cell_type": "markdown",
   "metadata": {},
   "source": [
    "### 3.1 Inspección visual de variables objetivos"
   ]
  },
  {
   "cell_type": "code",
   "execution_count": 27,
   "metadata": {},
   "outputs": [
    {
     "data": {
      "image/png": "[encoded data removed]",
      "text/plain": [
       "<Figure size 720x576 with 1 Axes>"
      ]
     },
     "metadata": {
      "needs_background": "light"
     },
     "output_type": "display_data"
    }
   ],
   "source": [
    "ut.histplot_sns(df, 'G1', 'Promedio notas primer semestre')"
   ]
  },
  {
   "cell_type": "markdown",
   "metadata": {},
   "source": [
    "**Comentarios:**\n",
    "\n",
    "El promedio de los alumnos en sus notas el primer semestre fue de 11, a simple vista no podemos notar la cantidad de alumnos que están por sobre la media y cuales debajo de la media, por lo que integraremos código para obtener estos datos"
   ]
  },
  {
   "cell_type": "code",
   "execution_count": 28,
   "metadata": {},
   "outputs": [
    {
     "name": "stdout",
     "output_type": "stream",
     "text": [
      "Media de G2: 10.933503836317136\n",
      "Cantidad de alumnos sobre la media: 201\n",
      "Cantidad de alumnos bajo la media: 190\n"
     ]
    }
   ],
   "source": [
    "mean_g1 = df['G1'].mean() # Obtenemos la media de G1. Colocamos round en 0 para redondear hacía arriba o abajo\n",
    "\n",
    "over_mean = df[df['G1']>mean_g1].shape[0]\n",
    "under_mean = df[df['G1']<mean_g1].shape[0]\n",
    "\n",
    "print(f'Media de G2: {mean_g1}')\n",
    "print(f'Cantidad de alumnos sobre la media: {over_mean}')\n",
    "print(f'Cantidad de alumnos bajo la media: {under_mean}')"
   ]
  },
  {
   "cell_type": "markdown",
   "metadata": {},
   "source": [
    "La data nos indica que durante el primer semestre hubo una mayor cantidad de alumnos sobre la media, por lo que podemos decir que hubo una tendencia al alto rendimiento"
   ]
  },
  {
   "cell_type": "code",
   "execution_count": 29,
   "metadata": {},
   "outputs": [
    {
     "data": {
      "image/png": "[encoded data removed]",
      "text/plain": [
       "<Figure size 720x576 with 1 Axes>"
      ]
     },
     "metadata": {
      "needs_background": "light"
     },
     "output_type": "display_data"
    }
   ],
   "source": [
    "ut.histplot_sns(df, 'G2', 'Promedio notas segundo semestre')"
   ]
  },
  {
   "cell_type": "markdown",
   "metadata": {},
   "source": [
    "**Comentarios:**\n",
    "\n",
    "El promedio de los alumnos en sus notas el segundo semestre es de 11 aproximadamente. A simple vista no podemos notar la cantidad de alumnos que están por sobre la media y cuales debajo de la media, por lo que integraremos código para obtener estos datos."
   ]
  },
  {
   "cell_type": "code",
   "execution_count": 30,
   "metadata": {},
   "outputs": [
    {
     "name": "stdout",
     "output_type": "stream",
     "text": [
      "Media de G2: 10.713924050632912\n",
      "Cantidad de alumnos sobre la media: 203\n",
      "Cantidad de alumnos bajo la media: 192\n"
     ]
    }
   ],
   "source": [
    "mean_g2 = df['G2'].mean() # Obtenemos la media de G1. Colocamos round en 0 para redondear hacía arriba o abajo\n",
    "\n",
    "over_mean = df[df['G2']>mean_g2].shape[0]\n",
    "under_mean = df[df['G2']<mean_g2].shape[0]\n",
    "\n",
    "print(f'Media de G2: {mean_g2}')\n",
    "print(f'Cantidad de alumnos sobre la media: {over_mean}')\n",
    "print(f'Cantidad de alumnos bajo la media: {under_mean}')"
   ]
  },
  {
   "cell_type": "markdown",
   "metadata": {},
   "source": [
    "La data nos indica que durante el segundo semestre hubo una mayor cantidad de alumnos sobre la media, al igual que el semestre anterior, por lo que hay una tendencia al alto rendimiento."
   ]
  },
  {
   "cell_type": "code",
   "execution_count": 31,
   "metadata": {},
   "outputs": [
    {
     "data": {
      "image/png": "[encoded data removed]",
      "text/plain": [
       "<Figure size 720x576 with 1 Axes>"
      ]
     },
     "metadata": {
      "needs_background": "light"
     },
     "output_type": "display_data"
    }
   ],
   "source": [
    "ut.histplot_sns(df, 'G3', 'Promedio notas tercer semestre')"
   ]
  },
  {
   "cell_type": "markdown",
   "metadata": {},
   "source": [
    "**Comentarios:**\n",
    "\n",
    "El promedio final de los alumnos es de 11 aproximadamente, al igual que los anteriores. A simple vista no podemos notar la cantidad de alumnos que están por sobre la media y cuales debajo de la media, por lo que integraremos código para obtener estos datos."
   ]
  },
  {
   "cell_type": "code",
   "execution_count": 32,
   "metadata": {},
   "outputs": [
    {
     "name": "stdout",
     "output_type": "stream",
     "text": [
      "Media de G3: 10.713924050632912\n",
      "Cantidad de alumnos sobre la media: 209\n",
      "Cantidad de alumnos bajo la media: 128\n"
     ]
    }
   ],
   "source": [
    "mean_g3 = round(df['G3'].mean(),0) # Obtenemos la media de G1. Colocamos round en 0 para redondear hacía arriba o abajo\n",
    "\n",
    "over_mean = df[df['G3']>mean_g3].shape[0]\n",
    "under_mean = df[df['G3']<mean_g3].shape[0]\n",
    "\n",
    "print(f'Media de G3: {mean_g2}')\n",
    "print(f'Cantidad de alumnos sobre la media: {over_mean}')\n",
    "print(f'Cantidad de alumnos bajo la media: {under_mean}')"
   ]
  },
  {
   "cell_type": "markdown",
   "metadata": {},
   "source": [
    "> Ya con el promedio final podemos decir que hay una **mayor cantidad de alumnos con un rendimiento mayor a la media.**"
   ]
  },
  {
   "cell_type": "markdown",
   "metadata": {},
   "source": [
    "### 3.2 Inspección visual de variables atributos\n",
    "\n",
    "Dada la cantidad de variables atributos, graficaremos mediante grupos de columnas, los cuales serán 2. Contaremos con un diccionario que contenga como Key el nombre de la columna y como valor su título, para así, facilitar el entendimiento de este."
   ]
  },
  {
   "cell_type": "code",
   "execution_count": 33,
   "metadata": {},
   "outputs": [
    {
     "data": {
      "image/png": "[encoded data removed]",
      "text/plain": [
       "<Figure size 2016x1800 with 15 Axes>"
      ]
     },
     "metadata": {
      "needs_background": "light"
     },
     "output_type": "display_data"
    }
   ],
   "source": [
    "fig = plt.figure(figsize=(28, 25))\n",
    "fig.tight_layout()\n",
    "\n",
    "lista = ['school','sex','address','famsize','Pstatus','Medu','Fedu','Mjob','Fjob','reason','guardian','schoolsup','famsup','paid']\n",
    "\n",
    "dict_graphic = {\n",
    "    'school':'Escuela del estudiante',\n",
    "    'sex':'Sexo del estudiante',\n",
    "    'age':'Edad del estudiante',\n",
    "    'address':'Ubicación del estudiante',\n",
    "    'famsize':'Tamaño de la familia',\n",
    "    'Pstatus':'Estado cohabitacional de los padres',\n",
    "    'Medu':'Nivel educacional de la madre',\n",
    "    'Fedu':'Nivel educacional del padre',\n",
    "    'Mjob':'Ocupación de la madre',\n",
    "    'Fjob':'Ocupación del padre',\n",
    "    'reason':'Razón para escoger escuela',\n",
    "    'guardian':'Apoderado del estudiante',\n",
    "    'schoolsup':'Apoyo educacional del colegio',\n",
    "    'famsup':'Apoyo educacional familiar',\n",
    "    'paid':'Clases particulares pagadas'\n",
    "    }\n",
    "\n",
    "for i, item in enumerate(dict_graphic.items()):\n",
    "    plt.subplot(5, 6, i+1)\n",
    "    sns.countplot(data=df, x=df[item[0]])\n",
    "    plt.title(item[1])\n",
    "    plt.ylabel('Frecuencia')"
   ]
  },
  {
   "cell_type": "markdown",
   "metadata": {},
   "source": [
    "**Explorando primer grupo de columnas:**\n",
    "\n",
    "Iremos comentando columna por columna y obtendremos un insight resumido de estas.\n",
    "\n",
    "* school: Notablemente la data cuenta con una mayor cantidad de alumnos de la escuela Gabriel Pereira que la escuela Moushinho da Silveira.\n",
    "\n",
    "* sex: Existe un balance en cuanto al género de los estudiantes.\n",
    "\n",
    "* age: Mayor cantidad de alumnos desde los 15 hasta los 18 años. Esto es lo esperado, ya que comúnmente se termina a esta edad la colegiatura.\n",
    "\n",
    "* address: Contamos con mayor cantidad de alumnos del área urbana que la rural.\n",
    "\n",
    "* famsize: La mayoría de los estudiantes tiene un tamaño familiar mayor a 3.\n",
    "\n",
    "* Pstatus: En la mayoría de los estudiantes los padres cohabitan juntos.\n",
    "\n",
    "* Entre medu y fedu: Pareciera ser a la vista que las madres tienen un mayor nivel educacional en cuanto a los padres, ya que estas tienen más educación superior que los hombres.\n",
    "\n",
    "* Mjob: En cuanto a la ocupación de las madres, existe una mayoría en cuanto a ocupaciones no categorizadas.\n",
    "\n",
    "* Fjob: En cuanto a la ocupación de los padres, existe una mayoría en cuanto a ocupaciones no categorizadas, al igual que las madres.\n",
    "\n",
    "* reason: Observamos que la razón entre la reputación y la cercanía del hogar es parecida, pero la mayor razón es por la preferencia de cursos.\n",
    "\n",
    "* guardian: De forma obvia podemos decir que la mayoría de apoderados son las madres, responsabilizándolas más por sus hijos.\n",
    "\n",
    "* schoolsup: Sorpresivamente hay una notoriedad en cuanto al bajo apoyo de los colegios en sus estudiantes, esperaríamos que fuera lo contrario, pero no sucede.\n",
    "\n",
    "* famsup: Mayormente las familias apoyan a sus hijos en la educación, pero aún así, existe una cantidad notoria de familias que no apoyan.\n",
    "\n",
    "* paid: Mayormente los estudiantes no cuentan con clases particulares, aún así, la cantidad de clases pagadas igual es alta.\n"
   ]
  },
  {
   "cell_type": "code",
   "execution_count": 34,
   "metadata": {},
   "outputs": [
    {
     "data": {
      "image/png": "[encoded data removed]",
      "text/plain": [
       "<Figure size 2016x1800 with 14 Axes>"
      ]
     },
     "metadata": {
      "needs_background": "light"
     },
     "output_type": "display_data"
    }
   ],
   "source": [
    "fig = plt.figure(figsize=(28, 25))\n",
    "fig.tight_layout()\n",
    "\n",
    "lista = ['activities','nursery','higher','internet', 'romantic','traveltime','failures','famrel','freetime','goout','Dalc','Walc','health']\n",
    "\n",
    "dict_graphic = {    \n",
    "    'activities':'Actividades extracurriculares',\n",
    "    'nursery':'Asistió a guardería infantil',\n",
    "    'higher':'Desea proseguir estudios superiores',\n",
    "    'internet':'Acceso a internet desde el hogar',\n",
    "    'romantic':'Relación romántica',\n",
    "    'traveltime':'Tiempo de viaje entre hogar y colegio',\n",
    "    'failures':'Número de clases reprobadas',\n",
    "    'studytime':'Horas semanales dedicadas al estudio',\n",
    "    'famrel':'Calidad de relaciones familiares',\n",
    "    'freetime':'Tiempo libre fuera del colegio',\n",
    "    'goout':'Salidas con amigos',\n",
    "    'Dalc':'Consumo de alcohol en día de semana',\n",
    "    'Walc':'Consumo de alcohol en fines de semana',\n",
    "    'health':'Estado de salud actual'\n",
    "}\n",
    "\n",
    "for i, item in enumerate(dict_graphic.items()):\n",
    "    plt.subplot(5, 6, i+1)\n",
    "    sns.countplot(data=df, x=df[item[0]])\n",
    "    plt.title(item[1])\n",
    "    plt.ylabel('Frecuencia')"
   ]
  },
  {
   "cell_type": "markdown",
   "metadata": {},
   "source": [
    "**Explorando segundo grupo de columnas:**\n",
    "\n",
    "Insights encontrados en el segundo grupo de columnas:\n",
    "\n",
    "* activities: Hay un balance en la cantidad de alumnos que realizan actividades extracurriculares.\n",
    "\n",
    "* nursery: La mayoría de los estudiantes asistió a guardería infantil.\n",
    "\n",
    "* higher: La gran mayoría de los estudiantes desea seguir con estudios superiores.\n",
    "\n",
    "* internet: La mayoría de los estudiantes cuenta con internet en el hogar, lamentablemente existe un grupo a considerar que no tiene internet, analizaremos más en profundidad si esto afecta en las notas.\n",
    "\n",
    "* romantic: Mayormente los estudiantes no cuentan con una relación romántica.\n",
    "\n",
    "* traveltime: La mayoría de los estudiantes se demora menos de 15 minutos en llegar al colegio, esto es lo esperado, ya que habían muchos estudiantes en los cuales se eligió el colegio por la distancia.\n",
    "\n",
    "* failures: Contamos con una mayor cantidad de alumnos que no han reprobado ningún curso.\n",
    "\n",
    "* studytime: La mayoría de los estudiantes dedica de 2 a 5 horas a estudiar semanalmente y muy pocos más de 10 horas.\n",
    "\n",
    "**Desde las columnas famrel hasta health es la batería de preguntas, donde las preguntas se respondieron desde 1 hasta 5, siendo 1 muy poco y 5 mucho**\n",
    "\n",
    "* famrel: La mayoría de los estudiantes tiene una buena relación con sus familiares.\n",
    "\n",
    "* freetime: La mayoría de los estudiantes dice tener una mediana cantidad de tiempo libre fuera del colegio.\n",
    "\n",
    "* goout: La mayoría de los estudiantes dice tener una mediana cantidad de salidas con amigos.\n",
    "\n",
    "* Dalc: La mayoría de los estudiantes dice que no tiene un alto consumo de alcohol durante los días de semana, aún así, existen estudiantes que si toman durante los días.\n",
    "\n",
    "* Walc: La mayoría de los estudiantes dice que no toma alcohol durante los fines de semana.\n",
    "\n",
    "* health: La mayoría de los estudiantes dice gozar de buena salud, esto estaría dentro de lo esperado, ya que hablamos de personas jóvenes."
   ]
  },
  {
   "cell_type": "code",
   "execution_count": 35,
   "metadata": {},
   "outputs": [
    {
     "data": {
      "image/png": "[encoded data removed]",
      "text/plain": [
       "<Figure size 720x576 with 1 Axes>"
      ]
     },
     "metadata": {
      "needs_background": "light"
     },
     "output_type": "display_data"
    }
   ],
   "source": [
    "ut.histplot_sns(df, 'absences', 'Cantidad de ausencias escolares')"
   ]
  },
  {
   "cell_type": "code",
   "execution_count": 36,
   "metadata": {},
   "outputs": [
    {
     "data": {
      "text/plain": [
       "5.731457800511509"
      ]
     },
     "execution_count": 36,
     "metadata": {},
     "output_type": "execute_result"
    }
   ],
   "source": [
    "df['absences'].mean()"
   ]
  },
  {
   "cell_type": "markdown",
   "metadata": {},
   "source": [
    "**Analizando si Internet afecta en el promedio final (G3)**\n",
    "\n",
    "Realizamos un groupby para obtener la media de las notas de los estudiantes que tienen y no tienen internet"
   ]
  },
  {
   "cell_type": "code",
   "execution_count": 37,
   "metadata": {},
   "outputs": [
    {
     "data": {
      "text/html": [
       "<div>\n",
       "<style scoped>\n",
       "    .dataframe tbody tr th:only-of-type {\n",
       "        vertical-align: middle;\n",
       "    }\n",
       "\n",
       "    .dataframe tbody tr th {\n",
       "        vertical-align: top;\n",
       "    }\n",
       "\n",
       "    .dataframe thead tr th {\n",
       "        text-align: left;\n",
       "    }\n",
       "\n",
       "    .dataframe thead tr:last-of-type th {\n",
       "        text-align: right;\n",
       "    }\n",
       "</style>\n",
       "<table border=\"1\" class=\"dataframe\">\n",
       "  <thead>\n",
       "    <tr>\n",
       "      <th></th>\n",
       "      <th>G3</th>\n",
       "    </tr>\n",
       "    <tr>\n",
       "      <th></th>\n",
       "      <th>mean</th>\n",
       "    </tr>\n",
       "    <tr>\n",
       "      <th>internet</th>\n",
       "      <th></th>\n",
       "    </tr>\n",
       "  </thead>\n",
       "  <tbody>\n",
       "    <tr>\n",
       "      <th>no</th>\n",
       "      <td>9.484375</td>\n",
       "    </tr>\n",
       "    <tr>\n",
       "      <th>yes</th>\n",
       "      <td>10.621538</td>\n",
       "    </tr>\n",
       "  </tbody>\n",
       "</table>\n",
       "</div>"
      ],
      "text/plain": [
       "                 G3\n",
       "               mean\n",
       "internet           \n",
       "no         9.484375\n",
       "yes       10.621538"
      ]
     },
     "execution_count": 37,
     "metadata": {},
     "output_type": "execute_result"
    }
   ],
   "source": [
    "df.groupby(['internet'])[['G3']].agg(['mean'])"
   ]
  },
  {
   "cell_type": "markdown",
   "metadata": {},
   "source": [
    "> Al parecer no existe una gran diferencia que nos indique que en estos colegios el tener o no tener internet afecte en sus promedios finales"
   ]
  },
  {
   "cell_type": "markdown",
   "metadata": {},
   "source": [
    "**Comentarios:**\n",
    "\n",
    "En promedio los alumnos presentan 5 ausencias escolares durante el año. También podemos decir que existe un sesgo hacia una baja cantidad de ausencias escolares y que los estudiantes con una alta cantidad de ausencias estarían escapando de lo normal."
   ]
  },
  {
   "cell_type": "markdown",
   "metadata": {},
   "source": [
    "### 3.3 Inspección de correlaciones con mapa de calor\n",
    "\n",
    "A través del mapa de calor de correlaciones, tomaremos las variables más cercanas a 1 o -1, para ver que la relación que están teniendo contra las variables objetivos.\n",
    "\n",
    "Recordemos que no contrastaremos entre las mismas variables objetivos."
   ]
  },
  {
   "cell_type": "code",
   "execution_count": 38,
   "metadata": {},
   "outputs": [
    {
     "data": {
      "text/plain": [
       "<AxesSubplot:>"
      ]
     },
     "execution_count": 38,
     "metadata": {},
     "output_type": "execute_result"
    },
    {
     "data": {
      "image/png": "[encoded data removed]",
      "text/plain": [
       "<Figure size 1152x576 with 2 Axes>"
      ]
     },
     "metadata": {
      "needs_background": "light"
     },
     "output_type": "display_data"
    }
   ],
   "source": [
    "plt.figure(figsize=(16,8))\n",
    "sns.heatmap(df.corr(), annot = True)"
   ]
  },
  {
   "cell_type": "markdown",
   "metadata": {},
   "source": [
    "**Comentarios:**\n",
    "\n",
    "Contrastaremos con failures ya que es el que tiene una mayor proporción inversa y con Medu, ya que tiene una mayor proporción directa. Se aplicará de la misma forma para las 3 variables objetivos."
   ]
  },
  {
   "cell_type": "markdown",
   "metadata": {},
   "source": [
    "### 3.3.1 **Variable objetivo G1**"
   ]
  },
  {
   "cell_type": "code",
   "execution_count": 39,
   "metadata": {},
   "outputs": [
    {
     "data": {
      "text/plain": [
       "<Figure size 1152x576 with 0 Axes>"
      ]
     },
     "metadata": {},
     "output_type": "display_data"
    },
    {
     "data": {
      "image/png": "[encoded data removed]",
      "text/plain": [
       "<Figure size 1296x432 with 1 Axes>"
      ]
     },
     "metadata": {
      "needs_background": "light"
     },
     "output_type": "display_data"
    }
   ],
   "source": [
    "plt.figure(figsize=(16,8))\n",
    "sns.lmplot(data=df, x='failures', y='G1', height=6, aspect=3);\n",
    "plt.title('Gráfico de dispersión entre Número de clases reprobadas y promedio del primer semestre');"
   ]
  },
  {
   "cell_type": "code",
   "execution_count": 40,
   "metadata": {},
   "outputs": [
    {
     "data": {
      "text/plain": [
       "-0.3521401112006124"
      ]
     },
     "execution_count": 40,
     "metadata": {},
     "output_type": "execute_result"
    }
   ],
   "source": [
    "df['G1'].corr(df['failures'])"
   ]
  },
  {
   "cell_type": "markdown",
   "metadata": {},
   "source": [
    "**Comentarios:**\n",
    "\n",
    "El gráfico de dispersión nos informa una asociación negativa entre las variables. Aun que su su asociación es relativamente débil si nos fijamos en su R de pearson, esto se refleja en la nube de datos, ya que no está tan junta con respecto a la línea de regresión."
   ]
  },
  {
   "cell_type": "code",
   "execution_count": 41,
   "metadata": {},
   "outputs": [
    {
     "data": {
      "text/plain": [
       "<Figure size 1152x576 with 0 Axes>"
      ]
     },
     "metadata": {},
     "output_type": "display_data"
    },
    {
     "data": {
      "image/png": "[encoded data removed]",
      "text/plain": [
       "<Figure size 1296x432 with 1 Axes>"
      ]
     },
     "metadata": {
      "needs_background": "light"
     },
     "output_type": "display_data"
    }
   ],
   "source": [
    "plt.figure(figsize=(16,8))\n",
    "sns.lmplot(data=df, x='Medu', y='G1', height=6, aspect=3)\n",
    "plt.title('Gráfico de dispersión entre Nivel educacional de la madre y promedio del primer semestre');"
   ]
  },
  {
   "cell_type": "code",
   "execution_count": 42,
   "metadata": {},
   "outputs": [
    {
     "data": {
      "text/plain": [
       "0.1933887172176045"
      ]
     },
     "execution_count": 42,
     "metadata": {},
     "output_type": "execute_result"
    }
   ],
   "source": [
    "df['G1'].corr(df['Medu'])"
   ]
  },
  {
   "cell_type": "markdown",
   "metadata": {},
   "source": [
    "**Comentarios:**\n",
    "\n",
    "El gráfico de dispersión nos informa una asociación directa entre las variables, pero con una pendiente no tan inclinada, igualmente el valor r de pearson es bajo, esto se refleja en la nube de datos ya que no se encuentran tan juntos a la recta."
   ]
  },
  {
   "cell_type": "markdown",
   "metadata": {},
   "source": [
    "### 3.3.1 **Variable objetivo G2**"
   ]
  },
  {
   "cell_type": "code",
   "execution_count": 43,
   "metadata": {},
   "outputs": [
    {
     "data": {
      "text/plain": [
       "Text(0.5, 1.0, 'Gráfico de dispersión entre Número de clases reprobadas y promedio del segundo semestre')"
      ]
     },
     "execution_count": 43,
     "metadata": {},
     "output_type": "execute_result"
    },
    {
     "data": {
      "text/plain": [
       "<Figure size 1152x576 with 0 Axes>"
      ]
     },
     "metadata": {},
     "output_type": "display_data"
    },
    {
     "data": {
      "image/png": "[encoded data removed]",
      "text/plain": [
       "<Figure size 1296x432 with 1 Axes>"
      ]
     },
     "metadata": {
      "needs_background": "light"
     },
     "output_type": "display_data"
    }
   ],
   "source": [
    "plt.figure(figsize=(16,8))\n",
    "sns.lmplot(data=df, x='failures', y='G2', height=6, aspect=3);\n",
    "plt.title('Gráfico de dispersión entre Número de clases reprobadas y promedio del segundo semestre')"
   ]
  },
  {
   "cell_type": "code",
   "execution_count": 44,
   "metadata": {},
   "outputs": [
    {
     "data": {
      "text/plain": [
       "-0.3574221687900316"
      ]
     },
     "execution_count": 44,
     "metadata": {},
     "output_type": "execute_result"
    }
   ],
   "source": [
    "df['G2'].corr(df['failures'])"
   ]
  },
  {
   "cell_type": "markdown",
   "metadata": {},
   "source": [
    "**Comentarios:**\n",
    "\n",
    "El gráfico de dispersión nos informa una asociación negativa entre las variables. Aun que su su asociación es relativamente débil si nos fijamos en su R de pearson, esto se refleja en la nube de datos, ya que no está tan junta con respecto a la línea de regresión."
   ]
  },
  {
   "cell_type": "code",
   "execution_count": 45,
   "metadata": {},
   "outputs": [
    {
     "data": {
      "text/plain": [
       "Text(0.5, 1.0, 'Gráfico de dispersión entre Nivel educacional de la madre y promedio del segundo semestre')"
      ]
     },
     "execution_count": 45,
     "metadata": {},
     "output_type": "execute_result"
    },
    {
     "data": {
      "text/plain": [
       "<Figure size 1152x576 with 0 Axes>"
      ]
     },
     "metadata": {},
     "output_type": "display_data"
    },
    {
     "data": {
      "image/png": "[encoded data removed]",
      "text/plain": [
       "<Figure size 1296x432 with 1 Axes>"
      ]
     },
     "metadata": {
      "needs_background": "light"
     },
     "output_type": "display_data"
    }
   ],
   "source": [
    "plt.figure(figsize=(16,8))\n",
    "sns.lmplot(data=df, x='Medu', y='G2', height=6, aspect=3);\n",
    "plt.title('Gráfico de dispersión entre Nivel educacional de la madre y promedio del segundo semestre')"
   ]
  },
  {
   "cell_type": "code",
   "execution_count": 46,
   "metadata": {},
   "outputs": [
    {
     "data": {
      "text/plain": [
       "0.20936268295418686"
      ]
     },
     "execution_count": 46,
     "metadata": {},
     "output_type": "execute_result"
    }
   ],
   "source": [
    "df['G2'].corr(df['Medu'])"
   ]
  },
  {
   "cell_type": "markdown",
   "metadata": {},
   "source": [
    "**Comentarios:**\n",
    "\n",
    "El gráfico de dispersión nos informa una asociación directa entre las variables, pero con una pendiente no tan inclinada, igualmente el valor r de perason es bajo, esto se refleja en la nube de datos ya que no se encuentran tan juntos a la recta."
   ]
  },
  {
   "cell_type": "markdown",
   "metadata": {},
   "source": [
    "### 3.3.1 **Variable objetivo G3**"
   ]
  },
  {
   "cell_type": "code",
   "execution_count": 47,
   "metadata": {},
   "outputs": [
    {
     "data": {
      "text/plain": [
       "Text(0.5, 1.0, 'Gráfico de dispersión entre Número de clases reprobadas y promedio del tercer semestre')"
      ]
     },
     "execution_count": 47,
     "metadata": {},
     "output_type": "execute_result"
    },
    {
     "data": {
      "text/plain": [
       "<Figure size 1152x576 with 0 Axes>"
      ]
     },
     "metadata": {},
     "output_type": "display_data"
    },
    {
     "data": {
      "image/png": "[encoded data removed]",
      "text/plain": [
       "<Figure size 1296x432 with 1 Axes>"
      ]
     },
     "metadata": {
      "needs_background": "light"
     },
     "output_type": "display_data"
    }
   ],
   "source": [
    "plt.figure(figsize=(16,8))\n",
    "sns.lmplot(data=df, x='failures', y='G3', height=6, aspect=3);\n",
    "plt.title('Gráfico de dispersión entre Número de clases reprobadas y promedio del tercer semestre')"
   ]
  },
  {
   "cell_type": "code",
   "execution_count": 48,
   "metadata": {},
   "outputs": [
    {
     "data": {
      "text/plain": [
       "-0.36425777594934194"
      ]
     },
     "execution_count": 48,
     "metadata": {},
     "output_type": "execute_result"
    }
   ],
   "source": [
    "df['G3'].corr(df['failures'])"
   ]
  },
  {
   "cell_type": "markdown",
   "metadata": {},
   "source": [
    "**Comentarios:**\n",
    "\n",
    "El gráfico de dispersión nos informa una asociación negativa entre las variables. Aun que su asociación es relativamente débil si nos fijamos en su R de pearson, esto se refleja en la nube de datos, ya que no está tan junta con respecto a la línea de regresión."
   ]
  },
  {
   "cell_type": "code",
   "execution_count": 49,
   "metadata": {},
   "outputs": [
    {
     "data": {
      "text/plain": [
       "Text(0.5, 1.0, 'Gráfico de dispersión entre Nivel educacional de la madre y promedio del tercer semestre')"
      ]
     },
     "execution_count": 49,
     "metadata": {},
     "output_type": "execute_result"
    },
    {
     "data": {
      "text/plain": [
       "<Figure size 1152x576 with 0 Axes>"
      ]
     },
     "metadata": {},
     "output_type": "display_data"
    },
    {
     "data": {
      "image/png": "[encoded data removed]",
      "text/plain": [
       "<Figure size 1296x432 with 1 Axes>"
      ]
     },
     "metadata": {
      "needs_background": "light"
     },
     "output_type": "display_data"
    }
   ],
   "source": [
    "plt.figure(figsize=(16,8))\n",
    "sns.lmplot(data=df, x='Medu', y='G3', height=6, aspect=3);\n",
    "plt.title('Gráfico de dispersión entre Nivel educacional de la madre y promedio del tercer semestre')"
   ]
  },
  {
   "cell_type": "code",
   "execution_count": 50,
   "metadata": {},
   "outputs": [
    {
     "data": {
      "text/plain": [
       "0.2062739437051543"
      ]
     },
     "execution_count": 50,
     "metadata": {},
     "output_type": "execute_result"
    }
   ],
   "source": [
    "df['G3'].corr(df['Medu'])"
   ]
  },
  {
   "cell_type": "markdown",
   "metadata": {},
   "source": [
    "**Comentarios:**\n",
    "\n",
    "El gráfico de dispersión nos informa una asociación directa entre las variables, pero con una pendiente no tan inclinada, igualmente el valor r de pearson es bajo, esto se refleja en la nube de datos ya que no se encuentran tan juntos a la recta."
   ]
  },
  {
   "cell_type": "markdown",
   "metadata": {},
   "source": [
    "### 3.4 **Inspeccionando normalidad de variables objetivos**"
   ]
  },
  {
   "cell_type": "code",
   "execution_count": 51,
   "metadata": {},
   "outputs": [
    {
     "data": {
      "image/png": "[encoded data removed]",
      "text/plain": [
       "<Figure size 432x288 with 1 Axes>"
      ]
     },
     "metadata": {
      "needs_background": "light"
     },
     "output_type": "display_data"
    }
   ],
   "source": [
    "sm.qqplot(df['G1'],line='q');"
   ]
  },
  {
   "cell_type": "markdown",
   "metadata": {},
   "source": [
    "**Comentarios:**\n",
    "\n",
    "El gráfico nos dice que la variable escapa de los valores esperados en el extremo inferior de la distribución."
   ]
  },
  {
   "cell_type": "code",
   "execution_count": 52,
   "metadata": {},
   "outputs": [
    {
     "data": {
      "image/png": "[encoded data removed]",
      "text/plain": [
       "<Figure size 432x288 with 1 Axes>"
      ]
     },
     "metadata": {
      "needs_background": "light"
     },
     "output_type": "display_data"
    }
   ],
   "source": [
    "sm.qqplot(df['G2'],line='q');"
   ]
  },
  {
   "cell_type": "markdown",
   "metadata": {},
   "source": [
    "**Comentarios:**\n",
    "\n",
    "El gráfico nos dice que la variable escapa de los valores esperados en el extremo inferior de la distribución."
   ]
  },
  {
   "cell_type": "code",
   "execution_count": 53,
   "metadata": {},
   "outputs": [
    {
     "data": {
      "image/png": "[encoded data removed]",
      "text/plain": [
       "<Figure size 432x288 with 1 Axes>"
      ]
     },
     "metadata": {
      "needs_background": "light"
     },
     "output_type": "display_data"
    }
   ],
   "source": [
    "sm.qqplot(df['G3'],line='q');"
   ]
  },
  {
   "cell_type": "markdown",
   "metadata": {},
   "source": [
    "**Comentarios:**\n",
    "\n",
    "El gráfico nos dice que la variable escapa de los valores esperados en el extremo inferior de la distribución."
   ]
  },
  {
   "cell_type": "markdown",
   "metadata": {},
   "source": [
    "### 3.5 Inspección de las variables perdidas en el DataSet\n",
    "\n",
    "Para inspeccionar los datos perdidos en nuestro dataframe, contamos con una función llamada 'obs_perdidas', en la cual ingresamos el dataframe, el vector a inspeccionar y este nos retorna la cantidad de casos perdidos y el porcentaje de este, la función también cuenta con una opción que nos permite ver la lista de casos perdidos, por tema de tamaño de la data optaremos por dejar este valor en False, el cual ya está por defecto.\n",
    "\n",
    "Para facilitar la inspección, realizaremos un for junto con la función para obtener todos los datos perdidos en las columnas."
   ]
  },
  {
   "cell_type": "code",
   "execution_count": 54,
   "metadata": {},
   "outputs": [
    {
     "name": "stdout",
     "output_type": "stream",
     "text": [
      "Cantidad de casos perdidos en school: 5, 1.27%\n",
      "Cantidad de casos perdidos en sex: 3, 0.76%\n",
      "Cantidad de casos perdidos en age: 4, 1.01%\n",
      "Cantidad de casos perdidos en address: 2, 0.51%\n",
      "Cantidad de casos perdidos en famsize: 4, 1.01%\n",
      "Cantidad de casos perdidos en Pstatus: 6, 1.52%\n",
      "Cantidad de casos perdidos en Medu: 3, 0.76%\n",
      "Cantidad de casos perdidos en Fedu: 5, 1.27%\n",
      "Cantidad de casos perdidos en Mjob: 6, 1.52%\n",
      "Cantidad de casos perdidos en Fjob: 0, 0.00%\n",
      "Cantidad de casos perdidos en reason: 4, 1.01%\n",
      "Cantidad de casos perdidos en guardian: 4, 1.01%\n",
      "Cantidad de casos perdidos en traveltime: 3, 0.76%\n",
      "Cantidad de casos perdidos en studytime: 5, 1.27%\n",
      "Cantidad de casos perdidos en failures: 5, 1.27%\n",
      "Cantidad de casos perdidos en schoolsup: 8, 2.03%\n",
      "Cantidad de casos perdidos en famsup: 5, 1.27%\n",
      "Cantidad de casos perdidos en paid: 1, 0.25%\n",
      "Cantidad de casos perdidos en activities: 5, 1.27%\n",
      "Cantidad de casos perdidos en nursery: 6, 1.52%\n",
      "Cantidad de casos perdidos en higher: 6, 1.52%\n",
      "Cantidad de casos perdidos en internet: 3, 0.76%\n",
      "Cantidad de casos perdidos en romantic: 2, 0.51%\n",
      "Cantidad de casos perdidos en famrel: 5, 1.27%\n",
      "Cantidad de casos perdidos en freetime: 2, 0.51%\n",
      "Cantidad de casos perdidos en goout: 5, 1.27%\n",
      "Cantidad de casos perdidos en Dalc: 3, 0.76%\n",
      "Cantidad de casos perdidos en Walc: 5, 1.27%\n",
      "Cantidad de casos perdidos en health: 4, 1.01%\n",
      "Cantidad de casos perdidos en absences: 4, 1.01%\n",
      "Cantidad de casos perdidos en G1: 4, 1.01%\n",
      "Cantidad de casos perdidos en G2: 0, 0.00%\n",
      "Cantidad de casos perdidos en G3: 3, 0.76%\n"
     ]
    }
   ],
   "source": [
    "for column in df:\n",
    "    ut.obs_perdidas(df, column)"
   ]
  },
  {
   "cell_type": "markdown",
   "metadata": {},
   "source": [
    "**Inspeccionamos de manera visual**"
   ]
  },
  {
   "cell_type": "markdown",
   "metadata": {},
   "source": [
    "Realizamos un gráfico de datos perdidos con missingno para inspeccionar de manera visual"
   ]
  },
  {
   "cell_type": "code",
   "execution_count": 55,
   "metadata": {},
   "outputs": [
    {
     "data": {
      "text/plain": [
       "<Figure size 288x288 with 0 Axes>"
      ]
     },
     "metadata": {},
     "output_type": "display_data"
    },
    {
     "data": {
      "image/png": "[encoded data removed]",
      "text/plain": [
       "<Figure size 1800x720 with 2 Axes>"
      ]
     },
     "metadata": {
      "needs_background": "light"
     },
     "output_type": "display_data"
    }
   ],
   "source": [
    "import missingno as msngo\n",
    "\n",
    "plt.figure(figsize=(4,4))\n",
    "msngo.matrix(df);"
   ]
  },
  {
   "cell_type": "markdown",
   "metadata": {},
   "source": [
    "**Comentarios:**\n",
    "\n",
    "Observamos un equilibrio de datos perdidos en las columnas y no hay alguna variable que sea tentativa para su eliminación."
   ]
  },
  {
   "cell_type": "markdown",
   "metadata": {},
   "source": [
    "# **4- Modelación Descriptiva**\n",
    "\n",
    "En esta sección, inspeccionaremos el modelo de regresión líneal y describiremos como las variables atributos afectan en las notas de los alumnos.\n",
    "\n",
    "Tendremos 3 modelos descriptivos, los cuales serán para G1, G2 y G3, en su orden respectivo. Cada modelo tendrá uno de base, en el cuál iremos experimentando y depurando mediante el VIF de las variables, eliminando variables con p-value mayor a 0.05, escalamiento ... ETC. Todo esto para encontrar el mejor modelo posible.\n",
    "\n",
    "Antes de comenzar a modelar, definiremos las estrategias para el procesamiento métricas con las que mediremos el poder explicativo."
   ]
  },
  {
   "cell_type": "markdown",
   "metadata": {},
   "source": [
    "### 4.1 Estrategia para modelar\n",
    "\n",
    "Para realizar la modelación descriptiva, tendremos que tratar los datos perdidos, variables categóricas y binarización de las variables correspondientes, ya que generan error en la modelación, además de un escalamiento en los números. La estragia será la siguiente:\n",
    "\n",
    "* Binarización: Las variables categóricas binarias, serán llevadas a 0 y 1, en la cúal el 1 corresponderá a las categorías minoritarias.\n",
    "\n",
    "* Datos perdidos: Los datos perdidos en las variables categóricas serán imputadas por la moda y las variables continuas por la media.\n",
    "\n",
    "* Variables categóricas: Serán transformadas con una función que reconoce el orden y les asigna un número por categoría, desde la menor a la mayor.\n",
    "\n",
    "* Escalamiento de números: Utilizaremos un StandarEscaler, al cual le aplicaremos un SklearTransformerWrapper.\n",
    "\n",
    "Primero utilizaremos una copia de nuestro dataset en df_recod, esto para no seguir modificando la data original."
   ]
  },
  {
   "cell_type": "code",
   "execution_count": 56,
   "metadata": {},
   "outputs": [],
   "source": [
    "df_recod = df.copy()"
   ]
  },
  {
   "cell_type": "markdown",
   "metadata": {},
   "source": [
    "#### 4.1.1 Binarización de las variables binarias\n",
    "\n",
    "Las variables a binarizar son: school, sex, address, famsize, Pstatus, schoolsup, famsup, paid, activities, nursery, higher, internet, romantic.\n",
    "\n",
    "> La función binarize_categorical deja la clase mayoritaria en 1 y la minoritaria como 0"
   ]
  },
  {
   "cell_type": "code",
   "execution_count": 57,
   "metadata": {},
   "outputs": [],
   "source": [
    "lista_bin = ['school','sex','address','famsize','Pstatus','schoolsup','famsup','paid','activities','nursery','higher','internet','romantic']\n",
    "\n",
    "for item in lista_bin:\n",
    "    df_recod[item] = ut.binarize_categorical(df_recod, item)\n"
   ]
  },
  {
   "cell_type": "markdown",
   "metadata": {},
   "source": [
    "Comprobamos en una columna"
   ]
  },
  {
   "cell_type": "code",
   "execution_count": 58,
   "metadata": {},
   "outputs": [
    {
     "data": {
      "text/plain": [
       "0.0    345\n",
       "1.0     45\n",
       "Name: school, dtype: int64"
      ]
     },
     "execution_count": 58,
     "metadata": {},
     "output_type": "execute_result"
    }
   ],
   "source": [
    "df_recod['school'].value_counts()"
   ]
  },
  {
   "cell_type": "markdown",
   "metadata": {},
   "source": [
    "#### 4.1.2 Binarización de las variables categóricas\n",
    "\n",
    "Para binarizar las variables nominales que contengan más de 2 categorías, seguiremos la lógica inversa de la binarización anterior, en la cual 0 es la clase mayoritaria y 1 la clase minoritaria. Por lo tanto, si seguimos la lógica inversa, una variable nominal con 5 categorías quedaría de la siguiente forma:\n",
    "\n",
    ">0 Clase mayoritaria .... 1 Clase minoritaria **Ejemplo para seguir la lógica**\n",
    "\n",
    ">0(Categoría minoritaria) .... 5 (Categoría mayoritaria)\n",
    "\n",
    "Esto lo realizaremos con la misma función binarize_categorical que utilizamos anteriormente, que deja las clases mayoritarias en el número menor y las minoritarias en el número mayor."
   ]
  },
  {
   "cell_type": "code",
   "execution_count": 59,
   "metadata": {},
   "outputs": [],
   "source": [
    "lista_bin_categories = ['Mjob','Fjob','reason','guardian'] \n",
    "\n",
    "for item in lista_bin_categories:\n",
    "    df_recod[item] = ut.categorical_to_number(df_recod, item)"
   ]
  },
  {
   "cell_type": "markdown",
   "metadata": {},
   "source": [
    "Comprobamos en una columna"
   ]
  },
  {
   "cell_type": "code",
   "execution_count": 60,
   "metadata": {},
   "outputs": [
    {
     "data": {
      "text/plain": [
       "4.0    138\n",
       "3.0    102\n",
       "2.0     59\n",
       "1.0     57\n",
       "0.0     33\n",
       "Name: Mjob, dtype: int64"
      ]
     },
     "execution_count": 60,
     "metadata": {},
     "output_type": "execute_result"
    }
   ],
   "source": [
    "df_recod['Mjob'].value_counts()"
   ]
  },
  {
   "cell_type": "code",
   "execution_count": 61,
   "metadata": {},
   "outputs": [
    {
     "data": {
      "text/plain": [
       "other       138\n",
       "services    102\n",
       "at_home      59\n",
       "teacher      57\n",
       "health       33\n",
       "Name: Mjob, dtype: int64"
      ]
     },
     "execution_count": 61,
     "metadata": {},
     "output_type": "execute_result"
    }
   ],
   "source": [
    "df['Mjob'].value_counts()"
   ]
  },
  {
   "cell_type": "markdown",
   "metadata": {},
   "source": [
    "#### 4.1.3 Tratando datos perdidos\n",
    "\n",
    "Imputaremos los datos perdidos por la mediana, esto por el siguiente motivo. Si exploramos nuestros datos, nos damos cuenta que todas las variables son números enteros y están representando alguna categoría, por ejemplo, en traveltime, no podemos tener un dato decimal ya que está representando 1 si es menor a 15, 2 si es de 15 a 30 min y así en este orden, entonces un valor decimal en esta columna no se podría interpretar muy bien, de igual manera en la batería de preguntas, ya que van desde el 1 al 5 y cada uno de estos datos representa una categoría que va desde muy bajo a muy alto. En edad del estudiante no podemos interpretar un estudiante con 15.5 de edad. Por lo tanto, tomando este análisis, interpretamos a todas las variables como enteros y al ser de esta manera, las imputaremos por la mediana."
   ]
  },
  {
   "cell_type": "code",
   "execution_count": 62,
   "metadata": {},
   "outputs": [
    {
     "data": {
      "text/html": [
       "<div>\n",
       "<style scoped>\n",
       "    .dataframe tbody tr th:only-of-type {\n",
       "        vertical-align: middle;\n",
       "    }\n",
       "\n",
       "    .dataframe tbody tr th {\n",
       "        vertical-align: top;\n",
       "    }\n",
       "\n",
       "    .dataframe thead th {\n",
       "        text-align: right;\n",
       "    }\n",
       "</style>\n",
       "<table border=\"1\" class=\"dataframe\">\n",
       "  <thead>\n",
       "    <tr style=\"text-align: right;\">\n",
       "      <th></th>\n",
       "      <th>school</th>\n",
       "      <th>sex</th>\n",
       "      <th>age</th>\n",
       "      <th>address</th>\n",
       "      <th>famsize</th>\n",
       "      <th>Pstatus</th>\n",
       "      <th>Medu</th>\n",
       "      <th>Fedu</th>\n",
       "      <th>Mjob</th>\n",
       "      <th>Fjob</th>\n",
       "      <th>...</th>\n",
       "      <th>famrel</th>\n",
       "      <th>freetime</th>\n",
       "      <th>goout</th>\n",
       "      <th>Dalc</th>\n",
       "      <th>Walc</th>\n",
       "      <th>health</th>\n",
       "      <th>absences</th>\n",
       "      <th>G1</th>\n",
       "      <th>G2</th>\n",
       "      <th>G3</th>\n",
       "    </tr>\n",
       "  </thead>\n",
       "  <tbody>\n",
       "    <tr>\n",
       "      <th>0</th>\n",
       "      <td>0.0</td>\n",
       "      <td>0.0</td>\n",
       "      <td>17.0</td>\n",
       "      <td>0.0</td>\n",
       "      <td>0.0</td>\n",
       "      <td>1.0</td>\n",
       "      <td>4.0</td>\n",
       "      <td>4.0</td>\n",
       "      <td>2.0</td>\n",
       "      <td>2</td>\n",
       "      <td>...</td>\n",
       "      <td>4.0</td>\n",
       "      <td>3.0</td>\n",
       "      <td>4.0</td>\n",
       "      <td>1.0</td>\n",
       "      <td>1.0</td>\n",
       "      <td>3.0</td>\n",
       "      <td>6.0</td>\n",
       "      <td>5.0</td>\n",
       "      <td>6.0</td>\n",
       "      <td>6.0</td>\n",
       "    </tr>\n",
       "    <tr>\n",
       "      <th>1</th>\n",
       "      <td>0.0</td>\n",
       "      <td>0.0</td>\n",
       "      <td>17.0</td>\n",
       "      <td>0.0</td>\n",
       "      <td>0.0</td>\n",
       "      <td>0.0</td>\n",
       "      <td>1.0</td>\n",
       "      <td>1.0</td>\n",
       "      <td>2.0</td>\n",
       "      <td>4</td>\n",
       "      <td>...</td>\n",
       "      <td>5.0</td>\n",
       "      <td>3.0</td>\n",
       "      <td>3.0</td>\n",
       "      <td>1.0</td>\n",
       "      <td>1.0</td>\n",
       "      <td>3.0</td>\n",
       "      <td>4.0</td>\n",
       "      <td>5.0</td>\n",
       "      <td>5.0</td>\n",
       "      <td>6.0</td>\n",
       "    </tr>\n",
       "    <tr>\n",
       "      <th>2</th>\n",
       "      <td>0.0</td>\n",
       "      <td>0.0</td>\n",
       "      <td>15.0</td>\n",
       "      <td>0.0</td>\n",
       "      <td>1.0</td>\n",
       "      <td>0.0</td>\n",
       "      <td>1.0</td>\n",
       "      <td>1.0</td>\n",
       "      <td>2.0</td>\n",
       "      <td>4</td>\n",
       "      <td>...</td>\n",
       "      <td>4.0</td>\n",
       "      <td>3.0</td>\n",
       "      <td>2.0</td>\n",
       "      <td>2.0</td>\n",
       "      <td>3.0</td>\n",
       "      <td>3.0</td>\n",
       "      <td>10.0</td>\n",
       "      <td>11.0</td>\n",
       "      <td>8.0</td>\n",
       "      <td>10.0</td>\n",
       "    </tr>\n",
       "    <tr>\n",
       "      <th>3</th>\n",
       "      <td>0.0</td>\n",
       "      <td>0.0</td>\n",
       "      <td>15.0</td>\n",
       "      <td>0.0</td>\n",
       "      <td>0.0</td>\n",
       "      <td>0.0</td>\n",
       "      <td>4.0</td>\n",
       "      <td>2.0</td>\n",
       "      <td>0.0</td>\n",
       "      <td>3</td>\n",
       "      <td>...</td>\n",
       "      <td>3.0</td>\n",
       "      <td>2.0</td>\n",
       "      <td>2.0</td>\n",
       "      <td>1.0</td>\n",
       "      <td>1.0</td>\n",
       "      <td>5.0</td>\n",
       "      <td>2.0</td>\n",
       "      <td>15.0</td>\n",
       "      <td>14.0</td>\n",
       "      <td>15.0</td>\n",
       "    </tr>\n",
       "    <tr>\n",
       "      <th>4</th>\n",
       "      <td>0.0</td>\n",
       "      <td>0.0</td>\n",
       "      <td>17.0</td>\n",
       "      <td>0.0</td>\n",
       "      <td>0.0</td>\n",
       "      <td>0.0</td>\n",
       "      <td>3.0</td>\n",
       "      <td>3.0</td>\n",
       "      <td>4.0</td>\n",
       "      <td>4</td>\n",
       "      <td>...</td>\n",
       "      <td>4.0</td>\n",
       "      <td>3.0</td>\n",
       "      <td>2.0</td>\n",
       "      <td>1.0</td>\n",
       "      <td>2.0</td>\n",
       "      <td>5.0</td>\n",
       "      <td>4.0</td>\n",
       "      <td>6.0</td>\n",
       "      <td>10.0</td>\n",
       "      <td>10.0</td>\n",
       "    </tr>\n",
       "    <tr>\n",
       "      <th>...</th>\n",
       "      <td>...</td>\n",
       "      <td>...</td>\n",
       "      <td>...</td>\n",
       "      <td>...</td>\n",
       "      <td>...</td>\n",
       "      <td>...</td>\n",
       "      <td>...</td>\n",
       "      <td>...</td>\n",
       "      <td>...</td>\n",
       "      <td>...</td>\n",
       "      <td>...</td>\n",
       "      <td>...</td>\n",
       "      <td>...</td>\n",
       "      <td>...</td>\n",
       "      <td>...</td>\n",
       "      <td>...</td>\n",
       "      <td>...</td>\n",
       "      <td>...</td>\n",
       "      <td>...</td>\n",
       "      <td>...</td>\n",
       "      <td>...</td>\n",
       "    </tr>\n",
       "    <tr>\n",
       "      <th>390</th>\n",
       "      <td>1.0</td>\n",
       "      <td>1.0</td>\n",
       "      <td>20.0</td>\n",
       "      <td>0.0</td>\n",
       "      <td>1.0</td>\n",
       "      <td>1.0</td>\n",
       "      <td>2.0</td>\n",
       "      <td>2.0</td>\n",
       "      <td>3.0</td>\n",
       "      <td>3</td>\n",
       "      <td>...</td>\n",
       "      <td>5.0</td>\n",
       "      <td>5.0</td>\n",
       "      <td>4.0</td>\n",
       "      <td>4.0</td>\n",
       "      <td>5.0</td>\n",
       "      <td>4.0</td>\n",
       "      <td>11.0</td>\n",
       "      <td>9.0</td>\n",
       "      <td>9.0</td>\n",
       "      <td>9.0</td>\n",
       "    </tr>\n",
       "    <tr>\n",
       "      <th>391</th>\n",
       "      <td>1.0</td>\n",
       "      <td>1.0</td>\n",
       "      <td>17.0</td>\n",
       "      <td>0.0</td>\n",
       "      <td>1.0</td>\n",
       "      <td>0.0</td>\n",
       "      <td>3.0</td>\n",
       "      <td>1.0</td>\n",
       "      <td>3.0</td>\n",
       "      <td>3</td>\n",
       "      <td>...</td>\n",
       "      <td>2.0</td>\n",
       "      <td>4.0</td>\n",
       "      <td>5.0</td>\n",
       "      <td>3.0</td>\n",
       "      <td>4.0</td>\n",
       "      <td>2.0</td>\n",
       "      <td>3.0</td>\n",
       "      <td>14.0</td>\n",
       "      <td>16.0</td>\n",
       "      <td>16.0</td>\n",
       "    </tr>\n",
       "    <tr>\n",
       "      <th>392</th>\n",
       "      <td>1.0</td>\n",
       "      <td>1.0</td>\n",
       "      <td>21.0</td>\n",
       "      <td>1.0</td>\n",
       "      <td>0.0</td>\n",
       "      <td>0.0</td>\n",
       "      <td>1.0</td>\n",
       "      <td>1.0</td>\n",
       "      <td>4.0</td>\n",
       "      <td>4</td>\n",
       "      <td>...</td>\n",
       "      <td>5.0</td>\n",
       "      <td>5.0</td>\n",
       "      <td>3.0</td>\n",
       "      <td>3.0</td>\n",
       "      <td>3.0</td>\n",
       "      <td>3.0</td>\n",
       "      <td>3.0</td>\n",
       "      <td>10.0</td>\n",
       "      <td>8.0</td>\n",
       "      <td>7.0</td>\n",
       "    </tr>\n",
       "    <tr>\n",
       "      <th>393</th>\n",
       "      <td>1.0</td>\n",
       "      <td>1.0</td>\n",
       "      <td>18.0</td>\n",
       "      <td>1.0</td>\n",
       "      <td>1.0</td>\n",
       "      <td>0.0</td>\n",
       "      <td>3.0</td>\n",
       "      <td>2.0</td>\n",
       "      <td>3.0</td>\n",
       "      <td>4</td>\n",
       "      <td>...</td>\n",
       "      <td>4.0</td>\n",
       "      <td>4.0</td>\n",
       "      <td>1.0</td>\n",
       "      <td>3.0</td>\n",
       "      <td>4.0</td>\n",
       "      <td>5.0</td>\n",
       "      <td>0.0</td>\n",
       "      <td>11.0</td>\n",
       "      <td>12.0</td>\n",
       "      <td>10.0</td>\n",
       "    </tr>\n",
       "    <tr>\n",
       "      <th>394</th>\n",
       "      <td>1.0</td>\n",
       "      <td>1.0</td>\n",
       "      <td>19.0</td>\n",
       "      <td>0.0</td>\n",
       "      <td>1.0</td>\n",
       "      <td>0.0</td>\n",
       "      <td>1.0</td>\n",
       "      <td>1.0</td>\n",
       "      <td>4.0</td>\n",
       "      <td>1</td>\n",
       "      <td>...</td>\n",
       "      <td>3.0</td>\n",
       "      <td>2.0</td>\n",
       "      <td>3.0</td>\n",
       "      <td>3.0</td>\n",
       "      <td>3.0</td>\n",
       "      <td>5.0</td>\n",
       "      <td>5.0</td>\n",
       "      <td>8.0</td>\n",
       "      <td>9.0</td>\n",
       "      <td>9.0</td>\n",
       "    </tr>\n",
       "  </tbody>\n",
       "</table>\n",
       "<p>395 rows × 33 columns</p>\n",
       "</div>"
      ],
      "text/plain": [
       "     school  sex   age  address  famsize  Pstatus  Medu  Fedu  Mjob  Fjob  \\\n",
       "0       0.0  0.0  17.0      0.0      0.0      1.0   4.0   4.0   2.0     2   \n",
       "1       0.0  0.0  17.0      0.0      0.0      0.0   1.0   1.0   2.0     4   \n",
       "2       0.0  0.0  15.0      0.0      1.0      0.0   1.0   1.0   2.0     4   \n",
       "3       0.0  0.0  15.0      0.0      0.0      0.0   4.0   2.0   0.0     3   \n",
       "4       0.0  0.0  17.0      0.0      0.0      0.0   3.0   3.0   4.0     4   \n",
       "..      ...  ...   ...      ...      ...      ...   ...   ...   ...   ...   \n",
       "390     1.0  1.0  20.0      0.0      1.0      1.0   2.0   2.0   3.0     3   \n",
       "391     1.0  1.0  17.0      0.0      1.0      0.0   3.0   1.0   3.0     3   \n",
       "392     1.0  1.0  21.0      1.0      0.0      0.0   1.0   1.0   4.0     4   \n",
       "393     1.0  1.0  18.0      1.0      1.0      0.0   3.0   2.0   3.0     4   \n",
       "394     1.0  1.0  19.0      0.0      1.0      0.0   1.0   1.0   4.0     1   \n",
       "\n",
       "     ...  famrel  freetime  goout  Dalc  Walc  health  absences    G1    G2  \\\n",
       "0    ...     4.0       3.0    4.0   1.0   1.0     3.0       6.0   5.0   6.0   \n",
       "1    ...     5.0       3.0    3.0   1.0   1.0     3.0       4.0   5.0   5.0   \n",
       "2    ...     4.0       3.0    2.0   2.0   3.0     3.0      10.0  11.0   8.0   \n",
       "3    ...     3.0       2.0    2.0   1.0   1.0     5.0       2.0  15.0  14.0   \n",
       "4    ...     4.0       3.0    2.0   1.0   2.0     5.0       4.0   6.0  10.0   \n",
       "..   ...     ...       ...    ...   ...   ...     ...       ...   ...   ...   \n",
       "390  ...     5.0       5.0    4.0   4.0   5.0     4.0      11.0   9.0   9.0   \n",
       "391  ...     2.0       4.0    5.0   3.0   4.0     2.0       3.0  14.0  16.0   \n",
       "392  ...     5.0       5.0    3.0   3.0   3.0     3.0       3.0  10.0   8.0   \n",
       "393  ...     4.0       4.0    1.0   3.0   4.0     5.0       0.0  11.0  12.0   \n",
       "394  ...     3.0       2.0    3.0   3.0   3.0     5.0       5.0   8.0   9.0   \n",
       "\n",
       "       G3  \n",
       "0     6.0  \n",
       "1     6.0  \n",
       "2    10.0  \n",
       "3    15.0  \n",
       "4    10.0  \n",
       "..    ...  \n",
       "390   9.0  \n",
       "391  16.0  \n",
       "392   7.0  \n",
       "393  10.0  \n",
       "394   9.0  \n",
       "\n",
       "[395 rows x 33 columns]"
      ]
     },
     "execution_count": 62,
     "metadata": {},
     "output_type": "execute_result"
    }
   ],
   "source": [
    "mmi = MeanMedianImputer(imputation_method='median')\n",
    "\n",
    "df_final = mmi.fit_transform(df_recod)\n",
    "\n",
    "df_final"
   ]
  },
  {
   "cell_type": "markdown",
   "metadata": {},
   "source": [
    "### 4.2 Modelos descriptivos de G1, G2 y G3\n",
    "\n",
    "Para el modelamiento descriptivo, obtendremos un modelo base por cada variable objetivo y los iremos depurando por su VIF, PVALUE y realizaremos escalamiento de números.\n",
    "\n",
    "Por temas prácticos, analizaremos los coeficientes de los modelos en el mejor que encontremos por cada uno."
   ]
  },
  {
   "cell_type": "markdown",
   "metadata": {},
   "source": [
    "**4.2.1 G1 - Modelo base**"
   ]
  },
  {
   "cell_type": "code",
   "execution_count": 63,
   "metadata": {},
   "outputs": [
    {
     "data": {
      "text/html": [
       "<div>\n",
       "<style scoped>\n",
       "    .dataframe tbody tr th:only-of-type {\n",
       "        vertical-align: middle;\n",
       "    }\n",
       "\n",
       "    .dataframe tbody tr th {\n",
       "        vertical-align: top;\n",
       "    }\n",
       "\n",
       "    .dataframe thead th {\n",
       "        text-align: right;\n",
       "    }\n",
       "</style>\n",
       "<table border=\"1\" class=\"dataframe\">\n",
       "  <thead>\n",
       "    <tr style=\"text-align: right;\">\n",
       "      <th></th>\n",
       "      <th>school</th>\n",
       "      <th>sex</th>\n",
       "      <th>age</th>\n",
       "      <th>address</th>\n",
       "      <th>famsize</th>\n",
       "      <th>Pstatus</th>\n",
       "      <th>Medu</th>\n",
       "      <th>Fedu</th>\n",
       "      <th>Mjob</th>\n",
       "      <th>Fjob</th>\n",
       "      <th>...</th>\n",
       "      <th>higher</th>\n",
       "      <th>internet</th>\n",
       "      <th>romantic</th>\n",
       "      <th>famrel</th>\n",
       "      <th>freetime</th>\n",
       "      <th>goout</th>\n",
       "      <th>Dalc</th>\n",
       "      <th>Walc</th>\n",
       "      <th>health</th>\n",
       "      <th>absences</th>\n",
       "    </tr>\n",
       "  </thead>\n",
       "  <tbody>\n",
       "    <tr>\n",
       "      <th>0</th>\n",
       "      <td>0.0</td>\n",
       "      <td>0.0</td>\n",
       "      <td>17.0</td>\n",
       "      <td>0.0</td>\n",
       "      <td>0.0</td>\n",
       "      <td>1.0</td>\n",
       "      <td>4.0</td>\n",
       "      <td>4.0</td>\n",
       "      <td>2.0</td>\n",
       "      <td>2</td>\n",
       "      <td>...</td>\n",
       "      <td>0.0</td>\n",
       "      <td>1.0</td>\n",
       "      <td>0.0</td>\n",
       "      <td>4.0</td>\n",
       "      <td>3.0</td>\n",
       "      <td>4.0</td>\n",
       "      <td>1.0</td>\n",
       "      <td>1.0</td>\n",
       "      <td>3.0</td>\n",
       "      <td>6.0</td>\n",
       "    </tr>\n",
       "    <tr>\n",
       "      <th>1</th>\n",
       "      <td>0.0</td>\n",
       "      <td>0.0</td>\n",
       "      <td>17.0</td>\n",
       "      <td>0.0</td>\n",
       "      <td>0.0</td>\n",
       "      <td>0.0</td>\n",
       "      <td>1.0</td>\n",
       "      <td>1.0</td>\n",
       "      <td>2.0</td>\n",
       "      <td>4</td>\n",
       "      <td>...</td>\n",
       "      <td>0.0</td>\n",
       "      <td>0.0</td>\n",
       "      <td>0.0</td>\n",
       "      <td>5.0</td>\n",
       "      <td>3.0</td>\n",
       "      <td>3.0</td>\n",
       "      <td>1.0</td>\n",
       "      <td>1.0</td>\n",
       "      <td>3.0</td>\n",
       "      <td>4.0</td>\n",
       "    </tr>\n",
       "    <tr>\n",
       "      <th>2</th>\n",
       "      <td>0.0</td>\n",
       "      <td>0.0</td>\n",
       "      <td>15.0</td>\n",
       "      <td>0.0</td>\n",
       "      <td>1.0</td>\n",
       "      <td>0.0</td>\n",
       "      <td>1.0</td>\n",
       "      <td>1.0</td>\n",
       "      <td>2.0</td>\n",
       "      <td>4</td>\n",
       "      <td>...</td>\n",
       "      <td>0.0</td>\n",
       "      <td>0.0</td>\n",
       "      <td>0.0</td>\n",
       "      <td>4.0</td>\n",
       "      <td>3.0</td>\n",
       "      <td>2.0</td>\n",
       "      <td>2.0</td>\n",
       "      <td>3.0</td>\n",
       "      <td>3.0</td>\n",
       "      <td>10.0</td>\n",
       "    </tr>\n",
       "    <tr>\n",
       "      <th>3</th>\n",
       "      <td>0.0</td>\n",
       "      <td>0.0</td>\n",
       "      <td>15.0</td>\n",
       "      <td>0.0</td>\n",
       "      <td>0.0</td>\n",
       "      <td>0.0</td>\n",
       "      <td>4.0</td>\n",
       "      <td>2.0</td>\n",
       "      <td>0.0</td>\n",
       "      <td>3</td>\n",
       "      <td>...</td>\n",
       "      <td>0.0</td>\n",
       "      <td>0.0</td>\n",
       "      <td>1.0</td>\n",
       "      <td>3.0</td>\n",
       "      <td>2.0</td>\n",
       "      <td>2.0</td>\n",
       "      <td>1.0</td>\n",
       "      <td>1.0</td>\n",
       "      <td>5.0</td>\n",
       "      <td>2.0</td>\n",
       "    </tr>\n",
       "    <tr>\n",
       "      <th>4</th>\n",
       "      <td>0.0</td>\n",
       "      <td>0.0</td>\n",
       "      <td>17.0</td>\n",
       "      <td>0.0</td>\n",
       "      <td>0.0</td>\n",
       "      <td>0.0</td>\n",
       "      <td>3.0</td>\n",
       "      <td>3.0</td>\n",
       "      <td>4.0</td>\n",
       "      <td>4</td>\n",
       "      <td>...</td>\n",
       "      <td>0.0</td>\n",
       "      <td>1.0</td>\n",
       "      <td>0.0</td>\n",
       "      <td>4.0</td>\n",
       "      <td>3.0</td>\n",
       "      <td>2.0</td>\n",
       "      <td>1.0</td>\n",
       "      <td>2.0</td>\n",
       "      <td>5.0</td>\n",
       "      <td>4.0</td>\n",
       "    </tr>\n",
       "    <tr>\n",
       "      <th>...</th>\n",
       "      <td>...</td>\n",
       "      <td>...</td>\n",
       "      <td>...</td>\n",
       "      <td>...</td>\n",
       "      <td>...</td>\n",
       "      <td>...</td>\n",
       "      <td>...</td>\n",
       "      <td>...</td>\n",
       "      <td>...</td>\n",
       "      <td>...</td>\n",
       "      <td>...</td>\n",
       "      <td>...</td>\n",
       "      <td>...</td>\n",
       "      <td>...</td>\n",
       "      <td>...</td>\n",
       "      <td>...</td>\n",
       "      <td>...</td>\n",
       "      <td>...</td>\n",
       "      <td>...</td>\n",
       "      <td>...</td>\n",
       "      <td>...</td>\n",
       "    </tr>\n",
       "    <tr>\n",
       "      <th>390</th>\n",
       "      <td>1.0</td>\n",
       "      <td>1.0</td>\n",
       "      <td>20.0</td>\n",
       "      <td>0.0</td>\n",
       "      <td>1.0</td>\n",
       "      <td>1.0</td>\n",
       "      <td>2.0</td>\n",
       "      <td>2.0</td>\n",
       "      <td>3.0</td>\n",
       "      <td>3</td>\n",
       "      <td>...</td>\n",
       "      <td>0.0</td>\n",
       "      <td>1.0</td>\n",
       "      <td>0.0</td>\n",
       "      <td>5.0</td>\n",
       "      <td>5.0</td>\n",
       "      <td>4.0</td>\n",
       "      <td>4.0</td>\n",
       "      <td>5.0</td>\n",
       "      <td>4.0</td>\n",
       "      <td>11.0</td>\n",
       "    </tr>\n",
       "    <tr>\n",
       "      <th>391</th>\n",
       "      <td>1.0</td>\n",
       "      <td>1.0</td>\n",
       "      <td>17.0</td>\n",
       "      <td>0.0</td>\n",
       "      <td>1.0</td>\n",
       "      <td>0.0</td>\n",
       "      <td>3.0</td>\n",
       "      <td>1.0</td>\n",
       "      <td>3.0</td>\n",
       "      <td>3</td>\n",
       "      <td>...</td>\n",
       "      <td>0.0</td>\n",
       "      <td>0.0</td>\n",
       "      <td>0.0</td>\n",
       "      <td>2.0</td>\n",
       "      <td>4.0</td>\n",
       "      <td>5.0</td>\n",
       "      <td>3.0</td>\n",
       "      <td>4.0</td>\n",
       "      <td>2.0</td>\n",
       "      <td>3.0</td>\n",
       "    </tr>\n",
       "    <tr>\n",
       "      <th>392</th>\n",
       "      <td>1.0</td>\n",
       "      <td>1.0</td>\n",
       "      <td>21.0</td>\n",
       "      <td>1.0</td>\n",
       "      <td>0.0</td>\n",
       "      <td>0.0</td>\n",
       "      <td>1.0</td>\n",
       "      <td>1.0</td>\n",
       "      <td>4.0</td>\n",
       "      <td>4</td>\n",
       "      <td>...</td>\n",
       "      <td>0.0</td>\n",
       "      <td>1.0</td>\n",
       "      <td>0.0</td>\n",
       "      <td>5.0</td>\n",
       "      <td>5.0</td>\n",
       "      <td>3.0</td>\n",
       "      <td>3.0</td>\n",
       "      <td>3.0</td>\n",
       "      <td>3.0</td>\n",
       "      <td>3.0</td>\n",
       "    </tr>\n",
       "    <tr>\n",
       "      <th>393</th>\n",
       "      <td>1.0</td>\n",
       "      <td>1.0</td>\n",
       "      <td>18.0</td>\n",
       "      <td>1.0</td>\n",
       "      <td>1.0</td>\n",
       "      <td>0.0</td>\n",
       "      <td>3.0</td>\n",
       "      <td>2.0</td>\n",
       "      <td>3.0</td>\n",
       "      <td>4</td>\n",
       "      <td>...</td>\n",
       "      <td>0.0</td>\n",
       "      <td>0.0</td>\n",
       "      <td>0.0</td>\n",
       "      <td>4.0</td>\n",
       "      <td>4.0</td>\n",
       "      <td>1.0</td>\n",
       "      <td>3.0</td>\n",
       "      <td>4.0</td>\n",
       "      <td>5.0</td>\n",
       "      <td>0.0</td>\n",
       "    </tr>\n",
       "    <tr>\n",
       "      <th>394</th>\n",
       "      <td>1.0</td>\n",
       "      <td>1.0</td>\n",
       "      <td>19.0</td>\n",
       "      <td>0.0</td>\n",
       "      <td>1.0</td>\n",
       "      <td>0.0</td>\n",
       "      <td>1.0</td>\n",
       "      <td>1.0</td>\n",
       "      <td>4.0</td>\n",
       "      <td>1</td>\n",
       "      <td>...</td>\n",
       "      <td>0.0</td>\n",
       "      <td>0.0</td>\n",
       "      <td>0.0</td>\n",
       "      <td>3.0</td>\n",
       "      <td>2.0</td>\n",
       "      <td>3.0</td>\n",
       "      <td>3.0</td>\n",
       "      <td>3.0</td>\n",
       "      <td>5.0</td>\n",
       "      <td>5.0</td>\n",
       "    </tr>\n",
       "  </tbody>\n",
       "</table>\n",
       "<p>395 rows × 30 columns</p>\n",
       "</div>"
      ],
      "text/plain": [
       "     school  sex   age  address  famsize  Pstatus  Medu  Fedu  Mjob  Fjob  \\\n",
       "0       0.0  0.0  17.0      0.0      0.0      1.0   4.0   4.0   2.0     2   \n",
       "1       0.0  0.0  17.0      0.0      0.0      0.0   1.0   1.0   2.0     4   \n",
       "2       0.0  0.0  15.0      0.0      1.0      0.0   1.0   1.0   2.0     4   \n",
       "3       0.0  0.0  15.0      0.0      0.0      0.0   4.0   2.0   0.0     3   \n",
       "4       0.0  0.0  17.0      0.0      0.0      0.0   3.0   3.0   4.0     4   \n",
       "..      ...  ...   ...      ...      ...      ...   ...   ...   ...   ...   \n",
       "390     1.0  1.0  20.0      0.0      1.0      1.0   2.0   2.0   3.0     3   \n",
       "391     1.0  1.0  17.0      0.0      1.0      0.0   3.0   1.0   3.0     3   \n",
       "392     1.0  1.0  21.0      1.0      0.0      0.0   1.0   1.0   4.0     4   \n",
       "393     1.0  1.0  18.0      1.0      1.0      0.0   3.0   2.0   3.0     4   \n",
       "394     1.0  1.0  19.0      0.0      1.0      0.0   1.0   1.0   4.0     1   \n",
       "\n",
       "     ...  higher  internet  romantic  famrel  freetime  goout  Dalc  Walc  \\\n",
       "0    ...     0.0       1.0       0.0     4.0       3.0    4.0   1.0   1.0   \n",
       "1    ...     0.0       0.0       0.0     5.0       3.0    3.0   1.0   1.0   \n",
       "2    ...     0.0       0.0       0.0     4.0       3.0    2.0   2.0   3.0   \n",
       "3    ...     0.0       0.0       1.0     3.0       2.0    2.0   1.0   1.0   \n",
       "4    ...     0.0       1.0       0.0     4.0       3.0    2.0   1.0   2.0   \n",
       "..   ...     ...       ...       ...     ...       ...    ...   ...   ...   \n",
       "390  ...     0.0       1.0       0.0     5.0       5.0    4.0   4.0   5.0   \n",
       "391  ...     0.0       0.0       0.0     2.0       4.0    5.0   3.0   4.0   \n",
       "392  ...     0.0       1.0       0.0     5.0       5.0    3.0   3.0   3.0   \n",
       "393  ...     0.0       0.0       0.0     4.0       4.0    1.0   3.0   4.0   \n",
       "394  ...     0.0       0.0       0.0     3.0       2.0    3.0   3.0   3.0   \n",
       "\n",
       "     health  absences  \n",
       "0       3.0       6.0  \n",
       "1       3.0       4.0  \n",
       "2       3.0      10.0  \n",
       "3       5.0       2.0  \n",
       "4       5.0       4.0  \n",
       "..      ...       ...  \n",
       "390     4.0      11.0  \n",
       "391     2.0       3.0  \n",
       "392     3.0       3.0  \n",
       "393     5.0       0.0  \n",
       "394     5.0       5.0  \n",
       "\n",
       "[395 rows x 30 columns]"
      ]
     },
     "execution_count": 63,
     "metadata": {},
     "output_type": "execute_result"
    }
   ],
   "source": [
    "import statsmodels.api as sm \n",
    "\n",
    "X = df_final.drop(columns=['G1','G2','G3'])\n",
    "y = df_final.G1\n",
    "\n",
    "X_full = sm.add_constant(X) # Agregamos intercepto\n",
    "\n",
    "model_base = sm.OLS(y, X_full).fit()\n",
    "model_base.summary()\n",
    "\n",
    "X"
   ]
  },
  {
   "cell_type": "markdown",
   "metadata": {},
   "source": [
    "Depuraremos el modelo base mediante el VIF, tendremos un criterio de corte de 10, siendo que iremos eliminando las variables con un vif mayor a este y hasta que todas estén bajo 10"
   ]
  },
  {
   "cell_type": "code",
   "execution_count": 64,
   "metadata": {},
   "outputs": [
    {
     "data": {
      "text/plain": [
       "school        1.417309\n",
       "sex           2.494535\n",
       "address       1.627687\n",
       "famsize       1.536750\n",
       "Pstatus       1.217432\n",
       "Fedu          6.121222\n",
       "Mjob          5.293638\n",
       "reason        4.926792\n",
       "guardian      7.007607\n",
       "traveltime    5.912904\n",
       "studytime     6.500063\n",
       "failures      1.498159\n",
       "schoolsup     1.249099\n",
       "famsup        1.912389\n",
       "paid          2.231644\n",
       "activities    2.069085\n",
       "nursery       1.352621\n",
       "higher        1.264287\n",
       "internet      1.376280\n",
       "romantic      1.652550\n",
       "Dalc          6.983742\n",
       "Walc          7.841381\n",
       "health        7.687760\n",
       "absences      1.676372\n",
       "dtype: float64"
      ]
     },
     "execution_count": 64,
     "metadata": {},
     "output_type": "execute_result"
    }
   ],
   "source": [
    "vif, indices = ut.VIF(X,vars_to_ignore=['age','famrel','Medu','freetime','goout','Fjob'])\n",
    "\n",
    "vif"
   ]
  },
  {
   "cell_type": "markdown",
   "metadata": {},
   "source": [
    "Ya con las variables encontradas a ignorar para bajar la multicolinealidad en el modelo, procedemos a armarlo nuevamente, pero sin estas variables y ver en que cambiaron las métricas\n",
    "\n",
    "**G1 - Modelo Depurado por VIF**"
   ]
  },
  {
   "cell_type": "code",
   "execution_count": 65,
   "metadata": {},
   "outputs": [],
   "source": [
    "X = df_final.drop(columns=['G1','G2','G3','age','famrel','Medu','freetime','goout','Fjob'])\n",
    "y = df_final.G1\n",
    "\n",
    "X_full = sm.add_constant(X) # Agregamos intercepto\n",
    "\n",
    "model_vif = sm.OLS(y, X_full).fit()"
   ]
  },
  {
   "cell_type": "code",
   "execution_count": 66,
   "metadata": {},
   "outputs": [
    {
     "name": "stdout",
     "output_type": "stream",
     "text": [
      "Modelo base:\n",
      "R cuadrado ajustado: 0.21\n",
      "Model AIC: 2001.93\n",
      "Model BIC: 2125.28\n",
      "Model Cond. no: 400.69\n",
      "\n",
      "***********\n",
      "\n",
      "Modelo vif:\n",
      "R cuadrado ajustado: 0.20\n",
      "Model AIC: 2000.81\n",
      "Model BIC: 2100.29\n",
      "Model Cond. no: 90.19\n"
     ]
    }
   ],
   "source": [
    "print('Modelo base:')\n",
    "ut.model_metrics(model_base)\n",
    "print('')\n",
    "print('***********')\n",
    "print('')\n",
    "print('Modelo vif:')\n",
    "ut.model_metrics(model_vif)"
   ]
  },
  {
   "cell_type": "markdown",
   "metadata": {},
   "source": [
    "**Observaciones:**\n",
    "\n",
    "* La multicolinealidad bajó considerablemente desde 400 a 90.\n",
    "\n",
    "* A pesar de que nuestro R2 ajustado bajó una decima, el AIC y BIC indican que sería un mejor modelo que el anterior.\n",
    "\n",
    "**G1 - Modelo depurado por VIF y Pvalue**\n",
    "\n",
    "Tomaremos el modelo anterior y depuraremos eliminando las variables con un pvalue mayor a 0.05, ya que nos estarían indicando que no tienen significancia en la variable G1."
   ]
  },
  {
   "cell_type": "code",
   "execution_count": 67,
   "metadata": {},
   "outputs": [
    {
     "data": {
      "text/html": [
       "<table class=\"simpletable\">\n",
       "<caption>OLS Regression Results</caption>\n",
       "<tr>\n",
       "  <th>Dep. Variable:</th>           <td>G1</td>        <th>  R-squared:         </th> <td>   0.244</td>\n",
       "</tr>\n",
       "<tr>\n",
       "  <th>Model:</th>                   <td>OLS</td>       <th>  Adj. R-squared:    </th> <td>   0.226</td>\n",
       "</tr>\n",
       "<tr>\n",
       "  <th>Method:</th>             <td>Least Squares</td>  <th>  F-statistic:       </th> <td>   13.81</td>\n",
       "</tr>\n",
       "<tr>\n",
       "  <th>Date:</th>             <td>Fri, 05 Aug 2022</td> <th>  Prob (F-statistic):</th> <td>2.77e-19</td>\n",
       "</tr>\n",
       "<tr>\n",
       "  <th>Time:</th>                 <td>15:05:33</td>     <th>  Log-Likelihood:    </th> <td> -976.77</td>\n",
       "</tr>\n",
       "<tr>\n",
       "  <th>No. Observations:</th>      <td>   395</td>      <th>  AIC:               </th> <td>   1974.</td>\n",
       "</tr>\n",
       "<tr>\n",
       "  <th>Df Residuals:</th>          <td>   385</td>      <th>  BIC:               </th> <td>   2013.</td>\n",
       "</tr>\n",
       "<tr>\n",
       "  <th>Df Model:</th>              <td>     9</td>      <th>                     </th>     <td> </td>   \n",
       "</tr>\n",
       "<tr>\n",
       "  <th>Covariance Type:</th>      <td>nonrobust</td>    <th>                     </th>     <td> </td>   \n",
       "</tr>\n",
       "</table>\n",
       "<table class=\"simpletable\">\n",
       "<tr>\n",
       "      <td></td>         <th>coef</th>     <th>std err</th>      <th>t</th>      <th>P>|t|</th>  <th>[0.025</th>    <th>0.975]</th>  \n",
       "</tr>\n",
       "<tr>\n",
       "  <th>const</th>     <td>   12.8683</td> <td>    0.810</td> <td>   15.882</td> <td> 0.000</td> <td>   11.275</td> <td>   14.461</td>\n",
       "</tr>\n",
       "<tr>\n",
       "  <th>sex</th>       <td>    0.8265</td> <td>    0.315</td> <td>    2.626</td> <td> 0.009</td> <td>    0.208</td> <td>    1.445</td>\n",
       "</tr>\n",
       "<tr>\n",
       "  <th>Mjob</th>      <td>   -0.2556</td> <td>    0.117</td> <td>   -2.188</td> <td> 0.029</td> <td>   -0.485</td> <td>   -0.026</td>\n",
       "</tr>\n",
       "<tr>\n",
       "  <th>Fjob</th>      <td>   -0.3938</td> <td>    0.140</td> <td>   -2.811</td> <td> 0.005</td> <td>   -0.669</td> <td>   -0.118</td>\n",
       "</tr>\n",
       "<tr>\n",
       "  <th>studytime</th> <td>    0.5483</td> <td>    0.188</td> <td>    2.911</td> <td> 0.004</td> <td>    0.178</td> <td>    0.919</td>\n",
       "</tr>\n",
       "<tr>\n",
       "  <th>failures</th>  <td>   -1.2384</td> <td>    0.211</td> <td>   -5.871</td> <td> 0.000</td> <td>   -1.653</td> <td>   -0.824</td>\n",
       "</tr>\n",
       "<tr>\n",
       "  <th>schoolsup</th> <td>   -1.8168</td> <td>    0.452</td> <td>   -4.016</td> <td> 0.000</td> <td>   -2.706</td> <td>   -0.927</td>\n",
       "</tr>\n",
       "<tr>\n",
       "  <th>famsup</th>    <td>    0.7363</td> <td>    0.313</td> <td>    2.355</td> <td> 0.019</td> <td>    0.122</td> <td>    1.351</td>\n",
       "</tr>\n",
       "<tr>\n",
       "  <th>higher</th>    <td>   -1.5313</td> <td>    0.712</td> <td>   -2.151</td> <td> 0.032</td> <td>   -2.931</td> <td>   -0.132</td>\n",
       "</tr>\n",
       "<tr>\n",
       "  <th>goout</th>     <td>   -0.3382</td> <td>    0.133</td> <td>   -2.535</td> <td> 0.012</td> <td>   -0.600</td> <td>   -0.076</td>\n",
       "</tr>\n",
       "</table>\n",
       "<table class=\"simpletable\">\n",
       "<tr>\n",
       "  <th>Omnibus:</th>       <td> 7.510</td> <th>  Durbin-Watson:     </th> <td>   2.097</td>\n",
       "</tr>\n",
       "<tr>\n",
       "  <th>Prob(Omnibus):</th> <td> 0.023</td> <th>  Jarque-Bera (JB):  </th> <td>   5.823</td>\n",
       "</tr>\n",
       "<tr>\n",
       "  <th>Skew:</th>          <td> 0.194</td> <th>  Prob(JB):          </th> <td>  0.0544</td>\n",
       "</tr>\n",
       "<tr>\n",
       "  <th>Kurtosis:</th>      <td> 2.548</td> <th>  Cond. No.          </th> <td>    33.4</td>\n",
       "</tr>\n",
       "</table><br/><br/>Notes:<br/>[1] Standard Errors assume that the covariance matrix of the errors is correctly specified."
      ],
      "text/plain": [
       "<class 'statsmodels.iolib.summary.Summary'>\n",
       "\"\"\"\n",
       "                            OLS Regression Results                            \n",
       "==============================================================================\n",
       "Dep. Variable:                     G1   R-squared:                       0.244\n",
       "Model:                            OLS   Adj. R-squared:                  0.226\n",
       "Method:                 Least Squares   F-statistic:                     13.81\n",
       "Date:                Fri, 05 Aug 2022   Prob (F-statistic):           2.77e-19\n",
       "Time:                        15:05:33   Log-Likelihood:                -976.77\n",
       "No. Observations:                 395   AIC:                             1974.\n",
       "Df Residuals:                     385   BIC:                             2013.\n",
       "Df Model:                           9                                         \n",
       "Covariance Type:            nonrobust                                         \n",
       "==============================================================================\n",
       "                 coef    std err          t      P>|t|      [0.025      0.975]\n",
       "------------------------------------------------------------------------------\n",
       "const         12.8683      0.810     15.882      0.000      11.275      14.461\n",
       "sex            0.8265      0.315      2.626      0.009       0.208       1.445\n",
       "Mjob          -0.2556      0.117     -2.188      0.029      -0.485      -0.026\n",
       "Fjob          -0.3938      0.140     -2.811      0.005      -0.669      -0.118\n",
       "studytime      0.5483      0.188      2.911      0.004       0.178       0.919\n",
       "failures      -1.2384      0.211     -5.871      0.000      -1.653      -0.824\n",
       "schoolsup     -1.8168      0.452     -4.016      0.000      -2.706      -0.927\n",
       "famsup         0.7363      0.313      2.355      0.019       0.122       1.351\n",
       "higher        -1.5313      0.712     -2.151      0.032      -2.931      -0.132\n",
       "goout         -0.3382      0.133     -2.535      0.012      -0.600      -0.076\n",
       "==============================================================================\n",
       "Omnibus:                        7.510   Durbin-Watson:                   2.097\n",
       "Prob(Omnibus):                  0.023   Jarque-Bera (JB):                5.823\n",
       "Skew:                           0.194   Prob(JB):                       0.0544\n",
       "Kurtosis:                       2.548   Cond. No.                         33.4\n",
       "==============================================================================\n",
       "\n",
       "Notes:\n",
       "[1] Standard Errors assume that the covariance matrix of the errors is correctly specified.\n",
       "\"\"\""
      ]
     },
     "execution_count": 67,
     "metadata": {},
     "output_type": "execute_result"
    }
   ],
   "source": [
    "X = df_final.drop(columns=['G1','G2','G3','nursery','traveltime','Pstatus','age','school','Dalc','famrel','Medu','activities','guardian','internet','romantic','absences',\n",
    "'paid','Walc','reason','address','famsize','health','freetime','Fedu'])\n",
    "y = df_final.G1\n",
    "\n",
    "X_full = sm.add_constant(X)  # Agregamos intercepto\n",
    "\n",
    "model_vif_pvalue = sm.OLS(y, X_full).fit()\n",
    "model_vif_pvalue.summary()"
   ]
  },
  {
   "cell_type": "code",
   "execution_count": 68,
   "metadata": {},
   "outputs": [
    {
     "name": "stdout",
     "output_type": "stream",
     "text": [
      "Modelo VIF:\n",
      "R cuadrado ajustado: 0.20\n",
      "Model AIC: 2000.81\n",
      "Model BIC: 2100.29\n",
      "Model Cond. no: 90.19\n",
      "\n",
      "***********\n",
      "\n",
      "Modelo vif y pvalue:\n",
      "R cuadrado ajustado: 0.23\n",
      "Model AIC: 1973.55\n",
      "Model BIC: 2013.34\n",
      "Model Cond. no: 33.40\n"
     ]
    }
   ],
   "source": [
    "print('Modelo VIF:')\n",
    "ut.model_metrics(model_vif)\n",
    "print('')\n",
    "print('***********')\n",
    "print('')\n",
    "print('Modelo vif y pvalue:')\n",
    "ut.model_metrics(model_vif_pvalue)"
   ]
  },
  {
   "cell_type": "markdown",
   "metadata": {},
   "source": [
    "**Observaciones:**\n",
    "\n",
    "* R cuadrado ajustado mejoró mínimamente, pero aún así, subió.\n",
    "\n",
    "* AIC y BIC del model pvalue indican que el modelo vif-pvalue estaría siendo mejor.\n",
    "\n",
    "* Sigue bajando considerablemente el Conditional Number."
   ]
  },
  {
   "cell_type": "markdown",
   "metadata": {},
   "source": [
    "**G1- Modelo agregando carga latente**"
   ]
  },
  {
   "cell_type": "code",
   "execution_count": 69,
   "metadata": {},
   "outputs": [
    {
     "data": {
      "text/html": [
       "<table class=\"simpletable\">\n",
       "<caption>OLS Regression Results</caption>\n",
       "<tr>\n",
       "  <th>Dep. Variable:</th>           <td>G1</td>        <th>  R-squared:         </th> <td>   0.245</td>\n",
       "</tr>\n",
       "<tr>\n",
       "  <th>Model:</th>                   <td>OLS</td>       <th>  Adj. R-squared:    </th> <td>   0.225</td>\n",
       "</tr>\n",
       "<tr>\n",
       "  <th>Method:</th>             <td>Least Squares</td>  <th>  F-statistic:       </th> <td>   12.43</td>\n",
       "</tr>\n",
       "<tr>\n",
       "  <th>Date:</th>             <td>Fri, 05 Aug 2022</td> <th>  Prob (F-statistic):</th> <td>9.48e-19</td>\n",
       "</tr>\n",
       "<tr>\n",
       "  <th>Time:</th>                 <td>15:05:33</td>     <th>  Log-Likelihood:    </th> <td> -976.65</td>\n",
       "</tr>\n",
       "<tr>\n",
       "  <th>No. Observations:</th>      <td>   395</td>      <th>  AIC:               </th> <td>   1975.</td>\n",
       "</tr>\n",
       "<tr>\n",
       "  <th>Df Residuals:</th>          <td>   384</td>      <th>  BIC:               </th> <td>   2019.</td>\n",
       "</tr>\n",
       "<tr>\n",
       "  <th>Df Model:</th>              <td>    10</td>      <th>                     </th>     <td> </td>   \n",
       "</tr>\n",
       "<tr>\n",
       "  <th>Covariance Type:</th>      <td>nonrobust</td>    <th>                     </th>     <td> </td>   \n",
       "</tr>\n",
       "</table>\n",
       "<table class=\"simpletable\">\n",
       "<tr>\n",
       "       <td></td>          <th>coef</th>     <th>std err</th>      <th>t</th>      <th>P>|t|</th>  <th>[0.025</th>    <th>0.975]</th>  \n",
       "</tr>\n",
       "<tr>\n",
       "  <th>const</th>       <td>   13.1771</td> <td>    1.018</td> <td>   12.942</td> <td> 0.000</td> <td>   11.175</td> <td>   15.179</td>\n",
       "</tr>\n",
       "<tr>\n",
       "  <th>sex</th>         <td>    0.7794</td> <td>    0.329</td> <td>    2.371</td> <td> 0.018</td> <td>    0.133</td> <td>    1.426</td>\n",
       "</tr>\n",
       "<tr>\n",
       "  <th>Mjob</th>        <td>   -0.2584</td> <td>    0.117</td> <td>   -2.207</td> <td> 0.028</td> <td>   -0.489</td> <td>   -0.028</td>\n",
       "</tr>\n",
       "<tr>\n",
       "  <th>Fjob</th>        <td>   -0.3911</td> <td>    0.140</td> <td>   -2.787</td> <td> 0.006</td> <td>   -0.667</td> <td>   -0.115</td>\n",
       "</tr>\n",
       "<tr>\n",
       "  <th>studytime</th>   <td>    0.5602</td> <td>    0.190</td> <td>    2.948</td> <td> 0.003</td> <td>    0.187</td> <td>    0.934</td>\n",
       "</tr>\n",
       "<tr>\n",
       "  <th>failures</th>    <td>   -1.2473</td> <td>    0.212</td> <td>   -5.887</td> <td> 0.000</td> <td>   -1.664</td> <td>   -0.831</td>\n",
       "</tr>\n",
       "<tr>\n",
       "  <th>schoolsup</th>   <td>   -1.8167</td> <td>    0.453</td> <td>   -4.012</td> <td> 0.000</td> <td>   -2.707</td> <td>   -0.926</td>\n",
       "</tr>\n",
       "<tr>\n",
       "  <th>famsup</th>      <td>    0.7479</td> <td>    0.314</td> <td>    2.384</td> <td> 0.018</td> <td>    0.131</td> <td>    1.365</td>\n",
       "</tr>\n",
       "<tr>\n",
       "  <th>higher</th>      <td>   -1.5280</td> <td>    0.713</td> <td>   -2.144</td> <td> 0.033</td> <td>   -2.929</td> <td>   -0.127</td>\n",
       "</tr>\n",
       "<tr>\n",
       "  <th>goout</th>       <td>   -0.4393</td> <td>    0.242</td> <td>   -1.817</td> <td> 0.070</td> <td>   -0.915</td> <td>    0.036</td>\n",
       "</tr>\n",
       "<tr>\n",
       "  <th>alcoholismo</th> <td>    0.1936</td> <td>    0.386</td> <td>    0.502</td> <td> 0.616</td> <td>   -0.565</td> <td>    0.952</td>\n",
       "</tr>\n",
       "</table>\n",
       "<table class=\"simpletable\">\n",
       "<tr>\n",
       "  <th>Omnibus:</th>       <td> 7.309</td> <th>  Durbin-Watson:     </th> <td>   2.098</td>\n",
       "</tr>\n",
       "<tr>\n",
       "  <th>Prob(Omnibus):</th> <td> 0.026</td> <th>  Jarque-Bera (JB):  </th> <td>   5.834</td>\n",
       "</tr>\n",
       "<tr>\n",
       "  <th>Skew:</th>          <td> 0.202</td> <th>  Prob(JB):          </th> <td>  0.0541</td>\n",
       "</tr>\n",
       "<tr>\n",
       "  <th>Kurtosis:</th>      <td> 2.562</td> <th>  Cond. No.          </th> <td>    43.0</td>\n",
       "</tr>\n",
       "</table><br/><br/>Notes:<br/>[1] Standard Errors assume that the covariance matrix of the errors is correctly specified."
      ],
      "text/plain": [
       "<class 'statsmodels.iolib.summary.Summary'>\n",
       "\"\"\"\n",
       "                            OLS Regression Results                            \n",
       "==============================================================================\n",
       "Dep. Variable:                     G1   R-squared:                       0.245\n",
       "Model:                            OLS   Adj. R-squared:                  0.225\n",
       "Method:                 Least Squares   F-statistic:                     12.43\n",
       "Date:                Fri, 05 Aug 2022   Prob (F-statistic):           9.48e-19\n",
       "Time:                        15:05:33   Log-Likelihood:                -976.65\n",
       "No. Observations:                 395   AIC:                             1975.\n",
       "Df Residuals:                     384   BIC:                             2019.\n",
       "Df Model:                          10                                         \n",
       "Covariance Type:            nonrobust                                         \n",
       "===============================================================================\n",
       "                  coef    std err          t      P>|t|      [0.025      0.975]\n",
       "-------------------------------------------------------------------------------\n",
       "const          13.1771      1.018     12.942      0.000      11.175      15.179\n",
       "sex             0.7794      0.329      2.371      0.018       0.133       1.426\n",
       "Mjob           -0.2584      0.117     -2.207      0.028      -0.489      -0.028\n",
       "Fjob           -0.3911      0.140     -2.787      0.006      -0.667      -0.115\n",
       "studytime       0.5602      0.190      2.948      0.003       0.187       0.934\n",
       "failures       -1.2473      0.212     -5.887      0.000      -1.664      -0.831\n",
       "schoolsup      -1.8167      0.453     -4.012      0.000      -2.707      -0.926\n",
       "famsup          0.7479      0.314      2.384      0.018       0.131       1.365\n",
       "higher         -1.5280      0.713     -2.144      0.033      -2.929      -0.127\n",
       "goout          -0.4393      0.242     -1.817      0.070      -0.915       0.036\n",
       "alcoholismo     0.1936      0.386      0.502      0.616      -0.565       0.952\n",
       "==============================================================================\n",
       "Omnibus:                        7.309   Durbin-Watson:                   2.098\n",
       "Prob(Omnibus):                  0.026   Jarque-Bera (JB):                5.834\n",
       "Skew:                           0.202   Prob(JB):                       0.0541\n",
       "Kurtosis:                       2.562   Cond. No.                         43.0\n",
       "==============================================================================\n",
       "\n",
       "Notes:\n",
       "[1] Standard Errors assume that the covariance matrix of the errors is correctly specified.\n",
       "\"\"\""
      ]
     },
     "execution_count": 69,
     "metadata": {},
     "output_type": "execute_result"
    }
   ],
   "source": [
    "df_factor = pd.concat([df_final, X_factor], axis=1)\n",
    "\n",
    "X = df_factor.drop(columns=['G1','G2','G3','nursery','traveltime','Pstatus','age','school','Dalc','famrel','Medu','activities','guardian','internet','romantic','absences',\n",
    "'paid','Walc','reason','address','famsize','health','freetime','Fedu'])\n",
    "\n",
    "y = df_factor.G1\n",
    "\n",
    "X_full = sm.add_constant(X) # Agregamos intercepto\n",
    "\n",
    "model_factor = sm.OLS(y, X_full).fit()\n",
    "model_factor.summary()"
   ]
  },
  {
   "cell_type": "code",
   "execution_count": 70,
   "metadata": {},
   "outputs": [
    {
     "name": "stdout",
     "output_type": "stream",
     "text": [
      "Modelo vif-pvalue:\n",
      "R cuadrado ajustado: 0.23\n",
      "Model AIC: 1973.55\n",
      "Model BIC: 2013.34\n",
      "Model Cond. no: 33.40\n",
      "\n",
      "***********\n",
      "\n",
      "Modelo factor:\n",
      "R cuadrado ajustado: 0.22\n",
      "Model AIC: 1975.29\n",
      "Model BIC: 2019.06\n",
      "Model Cond. no: 43.00\n"
     ]
    }
   ],
   "source": [
    "print('Modelo vif-pvalue:')\n",
    "ut.model_metrics(model_vif_pvalue)\n",
    "print('')\n",
    "print('***********')\n",
    "print('')\n",
    "print('Modelo factor:')\n",
    "ut.model_metrics(model_factor)"
   ]
  },
  {
   "cell_type": "markdown",
   "metadata": {},
   "source": [
    "**Observaciones:**\n",
    "\n",
    "* Modelo con carga latente alcoholismo no mejora ni empeora substancialmente.\n",
    "\n",
    "* Conditional Number aumenta, esto es un downgrade.\n",
    "\n",
    "* Carga latente al parecer no es significativa, ya que es mayor a 0.05\n",
    "\n",
    "Ya encontrando nuestro mejor modelo por pvalue y vif, intentaremos mejorarlo con un escalamiento en los números\n",
    "\n",
    "**G1- Modelo vif-pvalue escalado**"
   ]
  },
  {
   "cell_type": "code",
   "execution_count": 71,
   "metadata": {},
   "outputs": [
    {
     "name": "stdout",
     "output_type": "stream",
     "text": [
      "Modelo pvalue:\n",
      "R cuadrado ajustado: 0.23\n",
      "Model AIC: 1973.55\n",
      "Model BIC: 2013.34\n",
      "Model Cond. no: 33.40\n",
      "\n",
      "***********\n",
      "\n",
      "Modelo pvalue escalado:\n",
      "R cuadrado ajustado: 0.23\n",
      "Model AIC: 1973.55\n",
      "Model BIC: 2013.34\n",
      "Model Cond. no: 1.71\n"
     ]
    }
   ],
   "source": [
    "X = df_final.drop(columns=['G1','G2','G3','nursery','traveltime','Pstatus','age','school','Dalc','famrel','Medu','activities','guardian','internet','romantic','absences',\n",
    "'paid','Walc','reason','address','famsize','health','freetime','Fedu'])\n",
    "y = df_final.G1\n",
    "\n",
    "\n",
    "sc = SklearnTransformerWrapper(StandardScaler())\n",
    "X_sc = sc.fit_transform(X)\n",
    "\n",
    "X_full = sm.add_constant(X_sc) # Estoy agregando el intercepto\n",
    "\n",
    "model_vif_pvalue_sc = sm.OLS(y, X_full).fit()\n",
    "model_vif_pvalue_sc.summary()\n",
    "\n",
    "print('Modelo pvalue:')\n",
    "ut.model_metrics(model_vif_pvalue)\n",
    "print('')\n",
    "print('***********')\n",
    "print('')\n",
    "print('Modelo pvalue escalado:')\n",
    "ut.model_metrics(model_vif_pvalue_sc)"
   ]
  },
  {
   "cell_type": "markdown",
   "metadata": {},
   "source": [
    "**Observaciones:**\n",
    "\n",
    "A pesar del escalamiento, no se nota ninguna mejora, las métricas del modelo se quedan estaticas, a excepción del Conditional Number que baja aún más, casi llegando a 0, por lo tanto, procederemos a interpretar los coeficientes del modelo vif-pvalue-escalado.\n",
    "\n",
    "**Interpretando coeficientes modelo vif-p-value-escalado**"
   ]
  },
  {
   "cell_type": "code",
   "execution_count": 72,
   "metadata": {},
   "outputs": [
    {
     "data": {
      "text/html": [
       "<table class=\"simpletable\">\n",
       "<caption>OLS Regression Results</caption>\n",
       "<tr>\n",
       "  <th>Dep. Variable:</th>           <td>G1</td>        <th>  R-squared:         </th> <td>   0.244</td>\n",
       "</tr>\n",
       "<tr>\n",
       "  <th>Model:</th>                   <td>OLS</td>       <th>  Adj. R-squared:    </th> <td>   0.226</td>\n",
       "</tr>\n",
       "<tr>\n",
       "  <th>Method:</th>             <td>Least Squares</td>  <th>  F-statistic:       </th> <td>   13.81</td>\n",
       "</tr>\n",
       "<tr>\n",
       "  <th>Date:</th>             <td>Fri, 05 Aug 2022</td> <th>  Prob (F-statistic):</th> <td>2.77e-19</td>\n",
       "</tr>\n",
       "<tr>\n",
       "  <th>Time:</th>                 <td>15:05:34</td>     <th>  Log-Likelihood:    </th> <td> -976.77</td>\n",
       "</tr>\n",
       "<tr>\n",
       "  <th>No. Observations:</th>      <td>   395</td>      <th>  AIC:               </th> <td>   1974.</td>\n",
       "</tr>\n",
       "<tr>\n",
       "  <th>Df Residuals:</th>          <td>   385</td>      <th>  BIC:               </th> <td>   2013.</td>\n",
       "</tr>\n",
       "<tr>\n",
       "  <th>Df Model:</th>              <td>     9</td>      <th>                     </th>     <td> </td>   \n",
       "</tr>\n",
       "<tr>\n",
       "  <th>Covariance Type:</th>      <td>nonrobust</td>    <th>                     </th>     <td> </td>   \n",
       "</tr>\n",
       "</table>\n",
       "<table class=\"simpletable\">\n",
       "<tr>\n",
       "      <td></td>         <th>coef</th>     <th>std err</th>      <th>t</th>      <th>P>|t|</th>  <th>[0.025</th>    <th>0.975]</th>  \n",
       "</tr>\n",
       "<tr>\n",
       "  <th>const</th>     <td>   10.9342</td> <td>    0.146</td> <td>   74.784</td> <td> 0.000</td> <td>   10.647</td> <td>   11.222</td>\n",
       "</tr>\n",
       "<tr>\n",
       "  <th>sex</th>       <td>    0.4125</td> <td>    0.157</td> <td>    2.626</td> <td> 0.009</td> <td>    0.104</td> <td>    0.721</td>\n",
       "</tr>\n",
       "<tr>\n",
       "  <th>Mjob</th>      <td>   -0.3345</td> <td>    0.153</td> <td>   -2.188</td> <td> 0.029</td> <td>   -0.635</td> <td>   -0.034</td>\n",
       "</tr>\n",
       "<tr>\n",
       "  <th>Fjob</th>      <td>   -0.4276</td> <td>    0.152</td> <td>   -2.811</td> <td> 0.005</td> <td>   -0.727</td> <td>   -0.128</td>\n",
       "</tr>\n",
       "<tr>\n",
       "  <th>studytime</th> <td>    0.4587</td> <td>    0.158</td> <td>    2.911</td> <td> 0.004</td> <td>    0.149</td> <td>    0.769</td>\n",
       "</tr>\n",
       "<tr>\n",
       "  <th>failures</th>  <td>   -0.9191</td> <td>    0.157</td> <td>   -5.871</td> <td> 0.000</td> <td>   -1.227</td> <td>   -0.611</td>\n",
       "</tr>\n",
       "<tr>\n",
       "  <th>schoolsup</th> <td>   -0.6041</td> <td>    0.150</td> <td>   -4.016</td> <td> 0.000</td> <td>   -0.900</td> <td>   -0.308</td>\n",
       "</tr>\n",
       "<tr>\n",
       "  <th>famsup</th>    <td>    0.3578</td> <td>    0.152</td> <td>    2.355</td> <td> 0.019</td> <td>    0.059</td> <td>    0.656</td>\n",
       "</tr>\n",
       "<tr>\n",
       "  <th>higher</th>    <td>   -0.3357</td> <td>    0.156</td> <td>   -2.151</td> <td> 0.032</td> <td>   -0.643</td> <td>   -0.029</td>\n",
       "</tr>\n",
       "<tr>\n",
       "  <th>goout</th>     <td>   -0.3751</td> <td>    0.148</td> <td>   -2.535</td> <td> 0.012</td> <td>   -0.666</td> <td>   -0.084</td>\n",
       "</tr>\n",
       "</table>\n",
       "<table class=\"simpletable\">\n",
       "<tr>\n",
       "  <th>Omnibus:</th>       <td> 7.510</td> <th>  Durbin-Watson:     </th> <td>   2.097</td>\n",
       "</tr>\n",
       "<tr>\n",
       "  <th>Prob(Omnibus):</th> <td> 0.023</td> <th>  Jarque-Bera (JB):  </th> <td>   5.823</td>\n",
       "</tr>\n",
       "<tr>\n",
       "  <th>Skew:</th>          <td> 0.194</td> <th>  Prob(JB):          </th> <td>  0.0544</td>\n",
       "</tr>\n",
       "<tr>\n",
       "  <th>Kurtosis:</th>      <td> 2.548</td> <th>  Cond. No.          </th> <td>    1.71</td>\n",
       "</tr>\n",
       "</table><br/><br/>Notes:<br/>[1] Standard Errors assume that the covariance matrix of the errors is correctly specified."
      ],
      "text/plain": [
       "<class 'statsmodels.iolib.summary.Summary'>\n",
       "\"\"\"\n",
       "                            OLS Regression Results                            \n",
       "==============================================================================\n",
       "Dep. Variable:                     G1   R-squared:                       0.244\n",
       "Model:                            OLS   Adj. R-squared:                  0.226\n",
       "Method:                 Least Squares   F-statistic:                     13.81\n",
       "Date:                Fri, 05 Aug 2022   Prob (F-statistic):           2.77e-19\n",
       "Time:                        15:05:34   Log-Likelihood:                -976.77\n",
       "No. Observations:                 395   AIC:                             1974.\n",
       "Df Residuals:                     385   BIC:                             2013.\n",
       "Df Model:                           9                                         \n",
       "Covariance Type:            nonrobust                                         \n",
       "==============================================================================\n",
       "                 coef    std err          t      P>|t|      [0.025      0.975]\n",
       "------------------------------------------------------------------------------\n",
       "const         10.9342      0.146     74.784      0.000      10.647      11.222\n",
       "sex            0.4125      0.157      2.626      0.009       0.104       0.721\n",
       "Mjob          -0.3345      0.153     -2.188      0.029      -0.635      -0.034\n",
       "Fjob          -0.4276      0.152     -2.811      0.005      -0.727      -0.128\n",
       "studytime      0.4587      0.158      2.911      0.004       0.149       0.769\n",
       "failures      -0.9191      0.157     -5.871      0.000      -1.227      -0.611\n",
       "schoolsup     -0.6041      0.150     -4.016      0.000      -0.900      -0.308\n",
       "famsup         0.3578      0.152      2.355      0.019       0.059       0.656\n",
       "higher        -0.3357      0.156     -2.151      0.032      -0.643      -0.029\n",
       "goout         -0.3751      0.148     -2.535      0.012      -0.666      -0.084\n",
       "==============================================================================\n",
       "Omnibus:                        7.510   Durbin-Watson:                   2.097\n",
       "Prob(Omnibus):                  0.023   Jarque-Bera (JB):                5.823\n",
       "Skew:                           0.194   Prob(JB):                       0.0544\n",
       "Kurtosis:                       2.548   Cond. No.                         1.71\n",
       "==============================================================================\n",
       "\n",
       "Notes:\n",
       "[1] Standard Errors assume that the covariance matrix of the errors is correctly specified.\n",
       "\"\"\""
      ]
     },
     "execution_count": 72,
     "metadata": {},
     "output_type": "execute_result"
    }
   ],
   "source": [
    "model_vif_pvalue_sc.summary()"
   ]
  },
  {
   "cell_type": "code",
   "execution_count": 73,
   "metadata": {},
   "outputs": [
    {
     "data": {
      "text/plain": [
       "10.933503836317136"
      ]
     },
     "execution_count": 73,
     "metadata": {},
     "output_type": "execute_result"
    }
   ],
   "source": [
    "df['G1'].mean()"
   ]
  },
  {
   "cell_type": "markdown",
   "metadata": {},
   "source": [
    "**Interpretaciones:**\n",
    "\n",
    "* Nuestra constante quedó igual a la media de G1, esto es bueno ya que es donde comienza a predecir.\n",
    "\n",
    "* sex: Afecta de manera positiva, cuando sex aumenta en una unidad la nota sube en 0.41, ósea que cuando el estudiante es hombre[clase 1] nos dice que la nota subirá en 0.4606.\n",
    "\n",
    "* Mjob: A medida que Mjob sube en 1 unidad, la nota promedio del primer semestre debería disminuir en -0.3345.\n",
    "\n",
    "* Fjob: A medida que Fjob sube en 1 unidad, la nota promedio del primer semestre debería disminuir en -0.4276.\n",
    "\n",
    "* studytime: A medida que el estudiante aumenta su tiempo de estudio, la nota va a ir en aumento en 0.4587, esto sería lo lógico, ya que si lo pensamos, mientras más tiempo estudiamos, mejor nos debería ir en las pruebas. \n",
    "\n",
    "* failures: A medida que el estudiante aumenta el Número de clases reprobada, sus notas van a bajar en -0.9191, esto también es lógico, si me va mal en los cursos, se verá reflejado en mis notas.\n",
    "\n",
    "* schoolsup: Sorpresivamente si el colegio presta apoyo al estudiante, su promedio de nota baja en -0.6041. Quizás estamos hablando de colegios con estudiantes de riesgo social, donde si es necesario prestar ayuda al estudiante, es porque están con un rendimiento bajo.\n",
    "\n",
    "* famsup: Si famsup aumenta en 1, la nota del estudiante aumentará en 0.3578. Esto quiere que decir que un alumno que cuente con apoyo educacional familiar, aumentará su nota.\n",
    "\n",
    "* higher: Sorpresivamente si el estudiante desea proseguir con estudios superiores, su nota promedio va a descender en -0.3357. Quizás los estudiantes se ven presionados a responder que desean seguir con estudios superiores y esto no tiene un reflejo correspondiente al que esperaríamos.\n",
    "\n",
    "* goout: A medida que el estudiante aumenta sus salidas con amigos, su nota promedio descenderá en -0.3751."
   ]
  },
  {
   "cell_type": "markdown",
   "metadata": {},
   "source": [
    "**4.2.2 G2 - Modelo base**\n",
    "\n",
    "Por temas prácticos revisaremos los coeficientes hasta encontrar "
   ]
  },
  {
   "cell_type": "code",
   "execution_count": 74,
   "metadata": {},
   "outputs": [
    {
     "data": {
      "text/html": [
       "<table class=\"simpletable\">\n",
       "<caption>OLS Regression Results</caption>\n",
       "<tr>\n",
       "  <th>Dep. Variable:</th>           <td>G2</td>        <th>  R-squared:         </th> <td>   0.262</td>\n",
       "</tr>\n",
       "<tr>\n",
       "  <th>Model:</th>                   <td>OLS</td>       <th>  Adj. R-squared:    </th> <td>   0.201</td>\n",
       "</tr>\n",
       "<tr>\n",
       "  <th>Method:</th>             <td>Least Squares</td>  <th>  F-statistic:       </th> <td>   4.309</td>\n",
       "</tr>\n",
       "<tr>\n",
       "  <th>Date:</th>             <td>Fri, 05 Aug 2022</td> <th>  Prob (F-statistic):</th> <td>7.69e-12</td>\n",
       "</tr>\n",
       "<tr>\n",
       "  <th>Time:</th>                 <td>15:05:34</td>     <th>  Log-Likelihood:    </th> <td> -1023.3</td>\n",
       "</tr>\n",
       "<tr>\n",
       "  <th>No. Observations:</th>      <td>   395</td>      <th>  AIC:               </th> <td>   2109.</td>\n",
       "</tr>\n",
       "<tr>\n",
       "  <th>Df Residuals:</th>          <td>   364</td>      <th>  BIC:               </th> <td>   2232.</td>\n",
       "</tr>\n",
       "<tr>\n",
       "  <th>Df Model:</th>              <td>    30</td>      <th>                     </th>     <td> </td>   \n",
       "</tr>\n",
       "<tr>\n",
       "  <th>Covariance Type:</th>      <td>nonrobust</td>    <th>                     </th>     <td> </td>   \n",
       "</tr>\n",
       "</table>\n",
       "<table class=\"simpletable\">\n",
       "<tr>\n",
       "       <td></td>         <th>coef</th>     <th>std err</th>      <th>t</th>      <th>P>|t|</th>  <th>[0.025</th>    <th>0.975]</th>  \n",
       "</tr>\n",
       "<tr>\n",
       "  <th>const</th>      <td>   16.3979</td> <td>    3.283</td> <td>    4.995</td> <td> 0.000</td> <td>    9.942</td> <td>   22.854</td>\n",
       "</tr>\n",
       "<tr>\n",
       "  <th>school</th>     <td>    0.3839</td> <td>    0.634</td> <td>    0.605</td> <td> 0.545</td> <td>   -0.863</td> <td>    1.631</td>\n",
       "</tr>\n",
       "<tr>\n",
       "  <th>sex</th>        <td>    0.8464</td> <td>    0.403</td> <td>    2.098</td> <td> 0.037</td> <td>    0.053</td> <td>    1.640</td>\n",
       "</tr>\n",
       "<tr>\n",
       "  <th>age</th>        <td>   -0.1928</td> <td>    0.170</td> <td>   -1.137</td> <td> 0.256</td> <td>   -0.526</td> <td>    0.141</td>\n",
       "</tr>\n",
       "<tr>\n",
       "  <th>address</th>    <td>   -0.5353</td> <td>    0.469</td> <td>   -1.142</td> <td> 0.254</td> <td>   -1.457</td> <td>    0.386</td>\n",
       "</tr>\n",
       "<tr>\n",
       "  <th>famsize</th>    <td>    0.5690</td> <td>    0.396</td> <td>    1.438</td> <td> 0.151</td> <td>   -0.209</td> <td>    1.347</td>\n",
       "</tr>\n",
       "<tr>\n",
       "  <th>Pstatus</th>    <td>    0.3772</td> <td>    0.593</td> <td>    0.636</td> <td> 0.525</td> <td>   -0.788</td> <td>    1.543</td>\n",
       "</tr>\n",
       "<tr>\n",
       "  <th>Medu</th>       <td>    0.2707</td> <td>    0.226</td> <td>    1.199</td> <td> 0.231</td> <td>   -0.173</td> <td>    0.714</td>\n",
       "</tr>\n",
       "<tr>\n",
       "  <th>Fedu</th>       <td>    0.0445</td> <td>    0.219</td> <td>    0.204</td> <td> 0.839</td> <td>   -0.385</td> <td>    0.474</td>\n",
       "</tr>\n",
       "<tr>\n",
       "  <th>Mjob</th>       <td>   -0.0763</td> <td>    0.148</td> <td>   -0.514</td> <td> 0.607</td> <td>   -0.368</td> <td>    0.216</td>\n",
       "</tr>\n",
       "<tr>\n",
       "  <th>Fjob</th>       <td>   -0.1933</td> <td>    0.175</td> <td>   -1.105</td> <td> 0.270</td> <td>   -0.537</td> <td>    0.151</td>\n",
       "</tr>\n",
       "<tr>\n",
       "  <th>reason</th>     <td>   -0.2924</td> <td>    0.179</td> <td>   -1.638</td> <td> 0.102</td> <td>   -0.643</td> <td>    0.059</td>\n",
       "</tr>\n",
       "<tr>\n",
       "  <th>guardian</th>   <td>   -0.3241</td> <td>    0.302</td> <td>   -1.074</td> <td> 0.283</td> <td>   -0.917</td> <td>    0.269</td>\n",
       "</tr>\n",
       "<tr>\n",
       "  <th>traveltime</th> <td>   -0.3544</td> <td>    0.274</td> <td>   -1.295</td> <td> 0.196</td> <td>   -0.892</td> <td>    0.184</td>\n",
       "</tr>\n",
       "<tr>\n",
       "  <th>studytime</th>  <td>    0.5079</td> <td>    0.231</td> <td>    2.198</td> <td> 0.029</td> <td>    0.053</td> <td>    0.962</td>\n",
       "</tr>\n",
       "<tr>\n",
       "  <th>failures</th>   <td>   -1.2919</td> <td>    0.266</td> <td>   -4.862</td> <td> 0.000</td> <td>   -1.815</td> <td>   -0.769</td>\n",
       "</tr>\n",
       "<tr>\n",
       "  <th>schoolsup</th>  <td>   -1.3280</td> <td>    0.551</td> <td>   -2.410</td> <td> 0.016</td> <td>   -2.412</td> <td>   -0.244</td>\n",
       "</tr>\n",
       "<tr>\n",
       "  <th>famsup</th>     <td>    0.7756</td> <td>    0.388</td> <td>    1.999</td> <td> 0.046</td> <td>    0.013</td> <td>    1.538</td>\n",
       "</tr>\n",
       "<tr>\n",
       "  <th>paid</th>       <td>    0.1713</td> <td>    0.384</td> <td>    0.446</td> <td> 0.656</td> <td>   -0.584</td> <td>    0.926</td>\n",
       "</tr>\n",
       "<tr>\n",
       "  <th>activities</th> <td>    0.1076</td> <td>    0.358</td> <td>    0.300</td> <td> 0.764</td> <td>   -0.597</td> <td>    0.813</td>\n",
       "</tr>\n",
       "<tr>\n",
       "  <th>nursery</th>    <td>   -0.0952</td> <td>    0.445</td> <td>   -0.214</td> <td> 0.831</td> <td>   -0.970</td> <td>    0.780</td>\n",
       "</tr>\n",
       "<tr>\n",
       "  <th>higher</th>     <td>   -0.9926</td> <td>    0.861</td> <td>   -1.153</td> <td> 0.250</td> <td>   -2.686</td> <td>    0.701</td>\n",
       "</tr>\n",
       "<tr>\n",
       "  <th>internet</th>   <td>   -0.7487</td> <td>    0.496</td> <td>   -1.508</td> <td> 0.132</td> <td>   -1.725</td> <td>    0.228</td>\n",
       "</tr>\n",
       "<tr>\n",
       "  <th>romantic</th>   <td>   -0.8077</td> <td>    0.381</td> <td>   -2.121</td> <td> 0.035</td> <td>   -1.556</td> <td>   -0.059</td>\n",
       "</tr>\n",
       "<tr>\n",
       "  <th>famrel</th>     <td>   -0.0929</td> <td>    0.201</td> <td>   -0.462</td> <td> 0.644</td> <td>   -0.488</td> <td>    0.302</td>\n",
       "</tr>\n",
       "<tr>\n",
       "  <th>freetime</th>   <td>    0.1298</td> <td>    0.190</td> <td>    0.683</td> <td> 0.495</td> <td>   -0.244</td> <td>    0.504</td>\n",
       "</tr>\n",
       "<tr>\n",
       "  <th>goout</th>      <td>   -0.4915</td> <td>    0.182</td> <td>   -2.700</td> <td> 0.007</td> <td>   -0.849</td> <td>   -0.133</td>\n",
       "</tr>\n",
       "<tr>\n",
       "  <th>Dalc</th>       <td>   -0.0898</td> <td>    0.267</td> <td>   -0.337</td> <td> 0.737</td> <td>   -0.614</td> <td>    0.434</td>\n",
       "</tr>\n",
       "<tr>\n",
       "  <th>Walc</th>       <td>    0.0840</td> <td>    0.199</td> <td>    0.422</td> <td> 0.673</td> <td>   -0.307</td> <td>    0.475</td>\n",
       "</tr>\n",
       "<tr>\n",
       "  <th>health</th>     <td>   -0.1200</td> <td>    0.130</td> <td>   -0.921</td> <td> 0.358</td> <td>   -0.376</td> <td>    0.136</td>\n",
       "</tr>\n",
       "<tr>\n",
       "  <th>absences</th>   <td>    0.0035</td> <td>    0.023</td> <td>    0.150</td> <td> 0.881</td> <td>   -0.042</td> <td>    0.049</td>\n",
       "</tr>\n",
       "</table>\n",
       "<table class=\"simpletable\">\n",
       "<tr>\n",
       "  <th>Omnibus:</th>       <td>18.186</td> <th>  Durbin-Watson:     </th> <td>   2.036</td>\n",
       "</tr>\n",
       "<tr>\n",
       "  <th>Prob(Omnibus):</th> <td> 0.000</td> <th>  Jarque-Bera (JB):  </th> <td>  21.487</td>\n",
       "</tr>\n",
       "<tr>\n",
       "  <th>Skew:</th>          <td>-0.440</td> <th>  Prob(JB):          </th> <td>2.16e-05</td>\n",
       "</tr>\n",
       "<tr>\n",
       "  <th>Kurtosis:</th>      <td> 3.730</td> <th>  Cond. No.          </th> <td>    401.</td>\n",
       "</tr>\n",
       "</table><br/><br/>Notes:<br/>[1] Standard Errors assume that the covariance matrix of the errors is correctly specified."
      ],
      "text/plain": [
       "<class 'statsmodels.iolib.summary.Summary'>\n",
       "\"\"\"\n",
       "                            OLS Regression Results                            \n",
       "==============================================================================\n",
       "Dep. Variable:                     G2   R-squared:                       0.262\n",
       "Model:                            OLS   Adj. R-squared:                  0.201\n",
       "Method:                 Least Squares   F-statistic:                     4.309\n",
       "Date:                Fri, 05 Aug 2022   Prob (F-statistic):           7.69e-12\n",
       "Time:                        15:05:34   Log-Likelihood:                -1023.3\n",
       "No. Observations:                 395   AIC:                             2109.\n",
       "Df Residuals:                     364   BIC:                             2232.\n",
       "Df Model:                          30                                         \n",
       "Covariance Type:            nonrobust                                         \n",
       "==============================================================================\n",
       "                 coef    std err          t      P>|t|      [0.025      0.975]\n",
       "------------------------------------------------------------------------------\n",
       "const         16.3979      3.283      4.995      0.000       9.942      22.854\n",
       "school         0.3839      0.634      0.605      0.545      -0.863       1.631\n",
       "sex            0.8464      0.403      2.098      0.037       0.053       1.640\n",
       "age           -0.1928      0.170     -1.137      0.256      -0.526       0.141\n",
       "address       -0.5353      0.469     -1.142      0.254      -1.457       0.386\n",
       "famsize        0.5690      0.396      1.438      0.151      -0.209       1.347\n",
       "Pstatus        0.3772      0.593      0.636      0.525      -0.788       1.543\n",
       "Medu           0.2707      0.226      1.199      0.231      -0.173       0.714\n",
       "Fedu           0.0445      0.219      0.204      0.839      -0.385       0.474\n",
       "Mjob          -0.0763      0.148     -0.514      0.607      -0.368       0.216\n",
       "Fjob          -0.1933      0.175     -1.105      0.270      -0.537       0.151\n",
       "reason        -0.2924      0.179     -1.638      0.102      -0.643       0.059\n",
       "guardian      -0.3241      0.302     -1.074      0.283      -0.917       0.269\n",
       "traveltime    -0.3544      0.274     -1.295      0.196      -0.892       0.184\n",
       "studytime      0.5079      0.231      2.198      0.029       0.053       0.962\n",
       "failures      -1.2919      0.266     -4.862      0.000      -1.815      -0.769\n",
       "schoolsup     -1.3280      0.551     -2.410      0.016      -2.412      -0.244\n",
       "famsup         0.7756      0.388      1.999      0.046       0.013       1.538\n",
       "paid           0.1713      0.384      0.446      0.656      -0.584       0.926\n",
       "activities     0.1076      0.358      0.300      0.764      -0.597       0.813\n",
       "nursery       -0.0952      0.445     -0.214      0.831      -0.970       0.780\n",
       "higher        -0.9926      0.861     -1.153      0.250      -2.686       0.701\n",
       "internet      -0.7487      0.496     -1.508      0.132      -1.725       0.228\n",
       "romantic      -0.8077      0.381     -2.121      0.035      -1.556      -0.059\n",
       "famrel        -0.0929      0.201     -0.462      0.644      -0.488       0.302\n",
       "freetime       0.1298      0.190      0.683      0.495      -0.244       0.504\n",
       "goout         -0.4915      0.182     -2.700      0.007      -0.849      -0.133\n",
       "Dalc          -0.0898      0.267     -0.337      0.737      -0.614       0.434\n",
       "Walc           0.0840      0.199      0.422      0.673      -0.307       0.475\n",
       "health        -0.1200      0.130     -0.921      0.358      -0.376       0.136\n",
       "absences       0.0035      0.023      0.150      0.881      -0.042       0.049\n",
       "==============================================================================\n",
       "Omnibus:                       18.186   Durbin-Watson:                   2.036\n",
       "Prob(Omnibus):                  0.000   Jarque-Bera (JB):               21.487\n",
       "Skew:                          -0.440   Prob(JB):                     2.16e-05\n",
       "Kurtosis:                       3.730   Cond. No.                         401.\n",
       "==============================================================================\n",
       "\n",
       "Notes:\n",
       "[1] Standard Errors assume that the covariance matrix of the errors is correctly specified.\n",
       "\"\"\""
      ]
     },
     "execution_count": 74,
     "metadata": {},
     "output_type": "execute_result"
    }
   ],
   "source": [
    "X_base = df_final.drop(columns=['G1','G2','G3'])\n",
    "y = df_final.G2\n",
    "\n",
    "X_full = sm.add_constant(X_base) # Agregamos intercepto\n",
    "modelg2_base = sm.OLS(y, X_full).fit()\n",
    "\n",
    "modelg2_base.summary()"
   ]
  },
  {
   "cell_type": "markdown",
   "metadata": {},
   "source": [
    "Depuramos el modelo mediante VIF"
   ]
  },
  {
   "cell_type": "code",
   "execution_count": 75,
   "metadata": {},
   "outputs": [
    {
     "data": {
      "text/plain": [
       "school        1.417309\n",
       "sex           2.494535\n",
       "address       1.627687\n",
       "famsize       1.536750\n",
       "Pstatus       1.217432\n",
       "Fedu          6.121222\n",
       "Mjob          5.293638\n",
       "reason        4.926792\n",
       "guardian      7.007607\n",
       "traveltime    5.912904\n",
       "studytime     6.500063\n",
       "failures      1.498159\n",
       "schoolsup     1.249099\n",
       "famsup        1.912389\n",
       "paid          2.231644\n",
       "activities    2.069085\n",
       "nursery       1.352621\n",
       "higher        1.264287\n",
       "internet      1.376280\n",
       "romantic      1.652550\n",
       "Dalc          6.983742\n",
       "Walc          7.841381\n",
       "health        7.687760\n",
       "absences      1.676372\n",
       "dtype: float64"
      ]
     },
     "execution_count": 75,
     "metadata": {},
     "output_type": "execute_result"
    }
   ],
   "source": [
    "vif, indices = ut.VIF(X_base,vars_to_ignore=['age','famrel','Medu','freetime','goout','Fjob']) #['age','famrel','Medu','freetime','goout']\n",
    "\n",
    "vif"
   ]
  },
  {
   "cell_type": "markdown",
   "metadata": {},
   "source": [
    "Ya obteniendo las columnas a ignorar, modelamos sin estas.\n",
    "\n",
    "**G2 - Modelo Depurado por VIF**"
   ]
  },
  {
   "cell_type": "code",
   "execution_count": 76,
   "metadata": {},
   "outputs": [
    {
     "name": "stdout",
     "output_type": "stream",
     "text": [
      "Modelo base:\n",
      "R cuadrado ajustado: 0.20\n",
      "Model AIC: 2108.53\n",
      "Model BIC: 2231.88\n",
      "Model Cond. no: 400.69\n",
      "\n",
      "***********\n",
      "\n",
      "Modelo vif:\n",
      "R cuadrado ajustado: 0.19\n",
      "Model AIC: 2110.04\n",
      "Model BIC: 2209.52\n",
      "Model Cond. no: 90.19\n"
     ]
    }
   ],
   "source": [
    "X = df_final.drop(columns=['G1','G2','G3','age','famrel','Medu','freetime','goout','Fjob'])\n",
    "y = df_final.G2\n",
    "\n",
    "X_full = sm.add_constant(X) # Estoy agregando el intercepto\n",
    "\n",
    "modelg2_vif = sm.OLS(y, X_full).fit()\n",
    "modelg2_vif.summary()\n",
    "\n",
    "print('Modelo base:')\n",
    "ut.model_metrics(modelg2_base)\n",
    "print('')\n",
    "print('***********')\n",
    "print('')\n",
    "print('Modelo vif:')\n",
    "ut.model_metrics(modelg2_vif)"
   ]
  },
  {
   "cell_type": "markdown",
   "metadata": {},
   "source": [
    "**Observaciones:**\n",
    "\n",
    "Modelo parece haber mejorado solo en el Conditional Number y BIC, pero no en las demás medidas, por lo tanto, seguiremos con el modelo base y lo depuraremos por pvalue"
   ]
  },
  {
   "cell_type": "markdown",
   "metadata": {},
   "source": [
    "**G2- Modelo base depurado por pvalue**"
   ]
  },
  {
   "cell_type": "code",
   "execution_count": 77,
   "metadata": {},
   "outputs": [
    {
     "data": {
      "text/html": [
       "<table class=\"simpletable\">\n",
       "<caption>OLS Regression Results</caption>\n",
       "<tr>\n",
       "  <th>Dep. Variable:</th>           <td>G2</td>        <th>  R-squared:         </th> <td>   0.222</td>\n",
       "</tr>\n",
       "<tr>\n",
       "  <th>Model:</th>                   <td>OLS</td>       <th>  Adj. R-squared:    </th> <td>   0.204</td>\n",
       "</tr>\n",
       "<tr>\n",
       "  <th>Method:</th>             <td>Least Squares</td>  <th>  F-statistic:       </th> <td>   12.20</td>\n",
       "</tr>\n",
       "<tr>\n",
       "  <th>Date:</th>             <td>Fri, 05 Aug 2022</td> <th>  Prob (F-statistic):</th> <td>5.06e-17</td>\n",
       "</tr>\n",
       "<tr>\n",
       "  <th>Time:</th>                 <td>15:05:35</td>     <th>  Log-Likelihood:    </th> <td> -1033.7</td>\n",
       "</tr>\n",
       "<tr>\n",
       "  <th>No. Observations:</th>      <td>   395</td>      <th>  AIC:               </th> <td>   2087.</td>\n",
       "</tr>\n",
       "<tr>\n",
       "  <th>Df Residuals:</th>          <td>   385</td>      <th>  BIC:               </th> <td>   2127.</td>\n",
       "</tr>\n",
       "<tr>\n",
       "  <th>Df Model:</th>              <td>     9</td>      <th>                     </th>     <td> </td>   \n",
       "</tr>\n",
       "<tr>\n",
       "  <th>Covariance Type:</th>      <td>nonrobust</td>    <th>                     </th>     <td> </td>   \n",
       "</tr>\n",
       "</table>\n",
       "<table class=\"simpletable\">\n",
       "<tr>\n",
       "      <td></td>         <th>coef</th>     <th>std err</th>      <th>t</th>      <th>P>|t|</th>  <th>[0.025</th>    <th>0.975]</th>  \n",
       "</tr>\n",
       "<tr>\n",
       "  <th>const</th>     <td>   11.4720</td> <td>    0.920</td> <td>   12.470</td> <td> 0.000</td> <td>    9.663</td> <td>   13.281</td>\n",
       "</tr>\n",
       "<tr>\n",
       "  <th>sex</th>       <td>    0.9177</td> <td>    0.364</td> <td>    2.523</td> <td> 0.012</td> <td>    0.202</td> <td>    1.633</td>\n",
       "</tr>\n",
       "<tr>\n",
       "  <th>address</th>   <td>   -0.9951</td> <td>    0.413</td> <td>   -2.411</td> <td> 0.016</td> <td>   -1.807</td> <td>   -0.184</td>\n",
       "</tr>\n",
       "<tr>\n",
       "  <th>Medu</th>      <td>    0.3904</td> <td>    0.163</td> <td>    2.389</td> <td> 0.017</td> <td>    0.069</td> <td>    0.712</td>\n",
       "</tr>\n",
       "<tr>\n",
       "  <th>reason</th>    <td>   -0.3480</td> <td>    0.172</td> <td>   -2.019</td> <td> 0.044</td> <td>   -0.687</td> <td>   -0.009</td>\n",
       "</tr>\n",
       "<tr>\n",
       "  <th>studytime</th> <td>    0.5024</td> <td>    0.216</td> <td>    2.326</td> <td> 0.021</td> <td>    0.078</td> <td>    0.927</td>\n",
       "</tr>\n",
       "<tr>\n",
       "  <th>failures</th>  <td>   -1.4017</td> <td>    0.242</td> <td>   -5.797</td> <td> 0.000</td> <td>   -1.877</td> <td>   -0.926</td>\n",
       "</tr>\n",
       "<tr>\n",
       "  <th>schoolsup</th> <td>   -1.3066</td> <td>    0.518</td> <td>   -2.523</td> <td> 0.012</td> <td>   -2.325</td> <td>   -0.288</td>\n",
       "</tr>\n",
       "<tr>\n",
       "  <th>romantic</th>  <td>   -0.7909</td> <td>    0.367</td> <td>   -2.157</td> <td> 0.032</td> <td>   -1.512</td> <td>   -0.070</td>\n",
       "</tr>\n",
       "<tr>\n",
       "  <th>goout</th>     <td>   -0.4845</td> <td>    0.155</td> <td>   -3.123</td> <td> 0.002</td> <td>   -0.789</td> <td>   -0.179</td>\n",
       "</tr>\n",
       "</table>\n",
       "<table class=\"simpletable\">\n",
       "<tr>\n",
       "  <th>Omnibus:</th>       <td>20.285</td> <th>  Durbin-Watson:     </th> <td>   2.025</td>\n",
       "</tr>\n",
       "<tr>\n",
       "  <th>Prob(Omnibus):</th> <td> 0.000</td> <th>  Jarque-Bera (JB):  </th> <td>  24.443</td>\n",
       "</tr>\n",
       "<tr>\n",
       "  <th>Skew:</th>          <td>-0.469</td> <th>  Prob(JB):          </th> <td>4.92e-06</td>\n",
       "</tr>\n",
       "<tr>\n",
       "  <th>Kurtosis:</th>      <td> 3.779</td> <th>  Cond. No.          </th> <td>    29.5</td>\n",
       "</tr>\n",
       "</table><br/><br/>Notes:<br/>[1] Standard Errors assume that the covariance matrix of the errors is correctly specified."
      ],
      "text/plain": [
       "<class 'statsmodels.iolib.summary.Summary'>\n",
       "\"\"\"\n",
       "                            OLS Regression Results                            \n",
       "==============================================================================\n",
       "Dep. Variable:                     G2   R-squared:                       0.222\n",
       "Model:                            OLS   Adj. R-squared:                  0.204\n",
       "Method:                 Least Squares   F-statistic:                     12.20\n",
       "Date:                Fri, 05 Aug 2022   Prob (F-statistic):           5.06e-17\n",
       "Time:                        15:05:35   Log-Likelihood:                -1033.7\n",
       "No. Observations:                 395   AIC:                             2087.\n",
       "Df Residuals:                     385   BIC:                             2127.\n",
       "Df Model:                           9                                         \n",
       "Covariance Type:            nonrobust                                         \n",
       "==============================================================================\n",
       "                 coef    std err          t      P>|t|      [0.025      0.975]\n",
       "------------------------------------------------------------------------------\n",
       "const         11.4720      0.920     12.470      0.000       9.663      13.281\n",
       "sex            0.9177      0.364      2.523      0.012       0.202       1.633\n",
       "address       -0.9951      0.413     -2.411      0.016      -1.807      -0.184\n",
       "Medu           0.3904      0.163      2.389      0.017       0.069       0.712\n",
       "reason        -0.3480      0.172     -2.019      0.044      -0.687      -0.009\n",
       "studytime      0.5024      0.216      2.326      0.021       0.078       0.927\n",
       "failures      -1.4017      0.242     -5.797      0.000      -1.877      -0.926\n",
       "schoolsup     -1.3066      0.518     -2.523      0.012      -2.325      -0.288\n",
       "romantic      -0.7909      0.367     -2.157      0.032      -1.512      -0.070\n",
       "goout         -0.4845      0.155     -3.123      0.002      -0.789      -0.179\n",
       "==============================================================================\n",
       "Omnibus:                       20.285   Durbin-Watson:                   2.025\n",
       "Prob(Omnibus):                  0.000   Jarque-Bera (JB):               24.443\n",
       "Skew:                          -0.469   Prob(JB):                     4.92e-06\n",
       "Kurtosis:                       3.779   Cond. No.                         29.5\n",
       "==============================================================================\n",
       "\n",
       "Notes:\n",
       "[1] Standard Errors assume that the covariance matrix of the errors is correctly specified.\n",
       "\"\"\""
      ]
     },
     "execution_count": 77,
     "metadata": {},
     "output_type": "execute_result"
    }
   ],
   "source": [
    "X = df_final.drop(columns=['G1','G2','G3','Fedu','absences','nursery','Dalc','activities','Walc','paid','famrel','freetime','Mjob','Pstatus','guardian','traveltime','school','age',\n",
    "'health','Fjob','higher','famsize','internet','famsup'])\n",
    "y = df_final.G2\n",
    "\n",
    "X_full = sm.add_constant(X) # Estoy agregando el intercepto\n",
    "\n",
    "modelg2_pvalue = sm.OLS(y, X_full).fit()\n",
    "modelg2_pvalue.summary()"
   ]
  },
  {
   "cell_type": "code",
   "execution_count": 78,
   "metadata": {},
   "outputs": [
    {
     "name": "stdout",
     "output_type": "stream",
     "text": [
      "Modelo base:\n",
      "R cuadrado ajustado: 0.20\n",
      "Model AIC: 2108.53\n",
      "Model BIC: 2231.88\n",
      "Model Cond. no: 400.69\n",
      "\n",
      "***********\n",
      "\n",
      "Modelo pvalue:\n",
      "R cuadrado ajustado: 0.20\n",
      "Model AIC: 2087.43\n",
      "Model BIC: 2127.22\n",
      "Model Cond. no: 29.54\n"
     ]
    }
   ],
   "source": [
    "print('Modelo base:')\n",
    "ut.model_metrics(modelg2_base)\n",
    "print('')\n",
    "print('***********')\n",
    "print('')\n",
    "print('Modelo pvalue:')\n",
    "ut.model_metrics(modelg2_pvalue)"
   ]
  },
  {
   "cell_type": "markdown",
   "metadata": {},
   "source": [
    "**Observaciones:**\n",
    "\n",
    "R cuadrado ajustado se conserva, en cuanto a AIC y BIC, nos indican que mejoró algo el modelo, rescatamos que el Conditional Number es muy bajo.\n",
    "\n",
    "Tomaremos el modelo depurado por pvalue y le agregaremos la carga latente para ver si encontramos una mejora."
   ]
  },
  {
   "cell_type": "markdown",
   "metadata": {},
   "source": [
    "**G2- Modelo depurado por pvalue más carga latente**"
   ]
  },
  {
   "cell_type": "code",
   "execution_count": 79,
   "metadata": {},
   "outputs": [
    {
     "data": {
      "text/html": [
       "<table class=\"simpletable\">\n",
       "<caption>OLS Regression Results</caption>\n",
       "<tr>\n",
       "  <th>Dep. Variable:</th>           <td>G2</td>        <th>  R-squared:         </th> <td>   0.222</td>\n",
       "</tr>\n",
       "<tr>\n",
       "  <th>Model:</th>                   <td>OLS</td>       <th>  Adj. R-squared:    </th> <td>   0.202</td>\n",
       "</tr>\n",
       "<tr>\n",
       "  <th>Method:</th>             <td>Least Squares</td>  <th>  F-statistic:       </th> <td>   10.98</td>\n",
       "</tr>\n",
       "<tr>\n",
       "  <th>Date:</th>             <td>Fri, 05 Aug 2022</td> <th>  Prob (F-statistic):</th> <td>1.68e-16</td>\n",
       "</tr>\n",
       "<tr>\n",
       "  <th>Time:</th>                 <td>15:05:35</td>     <th>  Log-Likelihood:    </th> <td> -1033.6</td>\n",
       "</tr>\n",
       "<tr>\n",
       "  <th>No. Observations:</th>      <td>   395</td>      <th>  AIC:               </th> <td>   2089.</td>\n",
       "</tr>\n",
       "<tr>\n",
       "  <th>Df Residuals:</th>          <td>   384</td>      <th>  BIC:               </th> <td>   2133.</td>\n",
       "</tr>\n",
       "<tr>\n",
       "  <th>Df Model:</th>              <td>    10</td>      <th>                     </th>     <td> </td>   \n",
       "</tr>\n",
       "<tr>\n",
       "  <th>Covariance Type:</th>      <td>nonrobust</td>    <th>                     </th>     <td> </td>   \n",
       "</tr>\n",
       "</table>\n",
       "<table class=\"simpletable\">\n",
       "<tr>\n",
       "       <td></td>          <th>coef</th>     <th>std err</th>      <th>t</th>      <th>P>|t|</th>  <th>[0.025</th>    <th>0.975]</th>  \n",
       "</tr>\n",
       "<tr>\n",
       "  <th>const</th>       <td>   11.7893</td> <td>    1.175</td> <td>   10.036</td> <td> 0.000</td> <td>    9.480</td> <td>   14.099</td>\n",
       "</tr>\n",
       "<tr>\n",
       "  <th>sex</th>         <td>    0.8722</td> <td>    0.379</td> <td>    2.302</td> <td> 0.022</td> <td>    0.127</td> <td>    1.617</td>\n",
       "</tr>\n",
       "<tr>\n",
       "  <th>address</th>     <td>   -1.0025</td> <td>    0.414</td> <td>   -2.424</td> <td> 0.016</td> <td>   -1.816</td> <td>   -0.190</td>\n",
       "</tr>\n",
       "<tr>\n",
       "  <th>Medu</th>        <td>    0.3890</td> <td>    0.164</td> <td>    2.378</td> <td> 0.018</td> <td>    0.067</td> <td>    0.711</td>\n",
       "</tr>\n",
       "<tr>\n",
       "  <th>reason</th>      <td>   -0.3451</td> <td>    0.173</td> <td>   -1.998</td> <td> 0.046</td> <td>   -0.685</td> <td>   -0.006</td>\n",
       "</tr>\n",
       "<tr>\n",
       "  <th>studytime</th>   <td>    0.5137</td> <td>    0.218</td> <td>    2.359</td> <td> 0.019</td> <td>    0.086</td> <td>    0.942</td>\n",
       "</tr>\n",
       "<tr>\n",
       "  <th>failures</th>    <td>   -1.4106</td> <td>    0.243</td> <td>   -5.807</td> <td> 0.000</td> <td>   -1.888</td> <td>   -0.933</td>\n",
       "</tr>\n",
       "<tr>\n",
       "  <th>schoolsup</th>   <td>   -1.3112</td> <td>    0.518</td> <td>   -2.529</td> <td> 0.012</td> <td>   -2.331</td> <td>   -0.292</td>\n",
       "</tr>\n",
       "<tr>\n",
       "  <th>romantic</th>    <td>   -0.7955</td> <td>    0.367</td> <td>   -2.166</td> <td> 0.031</td> <td>   -1.517</td> <td>   -0.073</td>\n",
       "</tr>\n",
       "<tr>\n",
       "  <th>goout</th>       <td>   -0.5857</td> <td>    0.280</td> <td>   -2.094</td> <td> 0.037</td> <td>   -1.136</td> <td>   -0.036</td>\n",
       "</tr>\n",
       "<tr>\n",
       "  <th>alcoholismo</th> <td>    0.1937</td> <td>    0.445</td> <td>    0.435</td> <td> 0.664</td> <td>   -0.681</td> <td>    1.069</td>\n",
       "</tr>\n",
       "</table>\n",
       "<table class=\"simpletable\">\n",
       "<tr>\n",
       "  <th>Omnibus:</th>       <td>19.766</td> <th>  Durbin-Watson:     </th> <td>   2.029</td>\n",
       "</tr>\n",
       "<tr>\n",
       "  <th>Prob(Omnibus):</th> <td> 0.000</td> <th>  Jarque-Bera (JB):  </th> <td>  23.765</td>\n",
       "</tr>\n",
       "<tr>\n",
       "  <th>Skew:</th>          <td>-0.460</td> <th>  Prob(JB):          </th> <td>6.91e-06</td>\n",
       "</tr>\n",
       "<tr>\n",
       "  <th>Kurtosis:</th>      <td> 3.772</td> <th>  Cond. No.          </th> <td>    38.7</td>\n",
       "</tr>\n",
       "</table><br/><br/>Notes:<br/>[1] Standard Errors assume that the covariance matrix of the errors is correctly specified."
      ],
      "text/plain": [
       "<class 'statsmodels.iolib.summary.Summary'>\n",
       "\"\"\"\n",
       "                            OLS Regression Results                            \n",
       "==============================================================================\n",
       "Dep. Variable:                     G2   R-squared:                       0.222\n",
       "Model:                            OLS   Adj. R-squared:                  0.202\n",
       "Method:                 Least Squares   F-statistic:                     10.98\n",
       "Date:                Fri, 05 Aug 2022   Prob (F-statistic):           1.68e-16\n",
       "Time:                        15:05:35   Log-Likelihood:                -1033.6\n",
       "No. Observations:                 395   AIC:                             2089.\n",
       "Df Residuals:                     384   BIC:                             2133.\n",
       "Df Model:                          10                                         \n",
       "Covariance Type:            nonrobust                                         \n",
       "===============================================================================\n",
       "                  coef    std err          t      P>|t|      [0.025      0.975]\n",
       "-------------------------------------------------------------------------------\n",
       "const          11.7893      1.175     10.036      0.000       9.480      14.099\n",
       "sex             0.8722      0.379      2.302      0.022       0.127       1.617\n",
       "address        -1.0025      0.414     -2.424      0.016      -1.816      -0.190\n",
       "Medu            0.3890      0.164      2.378      0.018       0.067       0.711\n",
       "reason         -0.3451      0.173     -1.998      0.046      -0.685      -0.006\n",
       "studytime       0.5137      0.218      2.359      0.019       0.086       0.942\n",
       "failures       -1.4106      0.243     -5.807      0.000      -1.888      -0.933\n",
       "schoolsup      -1.3112      0.518     -2.529      0.012      -2.331      -0.292\n",
       "romantic       -0.7955      0.367     -2.166      0.031      -1.517      -0.073\n",
       "goout          -0.5857      0.280     -2.094      0.037      -1.136      -0.036\n",
       "alcoholismo     0.1937      0.445      0.435      0.664      -0.681       1.069\n",
       "==============================================================================\n",
       "Omnibus:                       19.766   Durbin-Watson:                   2.029\n",
       "Prob(Omnibus):                  0.000   Jarque-Bera (JB):               23.765\n",
       "Skew:                          -0.460   Prob(JB):                     6.91e-06\n",
       "Kurtosis:                       3.772   Cond. No.                         38.7\n",
       "==============================================================================\n",
       "\n",
       "Notes:\n",
       "[1] Standard Errors assume that the covariance matrix of the errors is correctly specified.\n",
       "\"\"\""
      ]
     },
     "execution_count": 79,
     "metadata": {},
     "output_type": "execute_result"
    }
   ],
   "source": [
    "df_factor = pd.concat([df_final, X_factor], axis=1)\n",
    "\n",
    "X = df_factor.drop(columns=['G1','G2','G3','Fedu','absences','nursery','Dalc','activities','Walc','paid','famrel','freetime','Mjob','Pstatus','guardian','traveltime','school','age',\n",
    "'health','Fjob','higher','famsize','internet','famsup'])\n",
    "y = df_factor.G2\n",
    "\n",
    "X_full = sm.add_constant(X) # Agregamos constante\n",
    "\n",
    "modelg2_pvalue_factor = sm.OLS(y, X_full).fit()\n",
    "modelg2_pvalue_factor.summary()"
   ]
  },
  {
   "cell_type": "code",
   "execution_count": 80,
   "metadata": {},
   "outputs": [
    {
     "name": "stdout",
     "output_type": "stream",
     "text": [
      "Modelo pvalue:\n",
      "R cuadrado ajustado: 0.20\n",
      "Model AIC: 2087.43\n",
      "Model BIC: 2127.22\n",
      "Model Cond. no: 29.54\n",
      "\n",
      "***********\n",
      "\n",
      "Modelo pvalue más carga latente:\n",
      "R cuadrado ajustado: 0.20\n",
      "Model AIC: 2089.23\n",
      "Model BIC: 2133.00\n",
      "Model Cond. no: 38.68\n"
     ]
    }
   ],
   "source": [
    "print('Modelo pvalue:')\n",
    "ut.model_metrics(modelg2_pvalue)\n",
    "print('')\n",
    "print('***********')\n",
    "print('')\n",
    "print('Modelo pvalue más carga latente:')\n",
    "ut.model_metrics(modelg2_pvalue_factor)"
   ]
  },
  {
   "cell_type": "markdown",
   "metadata": {},
   "source": [
    "**Observaciones:**\n",
    "\n",
    "Modelo con carga latente mantiene el R2 cuadrado ajustado, en cambio los AIC y BIC empeorán mínimamente, pero empeoran ... Condicional Number también empeora. Por lo tanto, elegiremos al modelo depurado con pvalue como nuestro mejor modelo explicativo, con todas las variables que están siendo significativas en nuestra variable dependiente.\n",
    "\n",
    "**Interpretación modelo pvalue de G2**"
   ]
  },
  {
   "cell_type": "code",
   "execution_count": 81,
   "metadata": {},
   "outputs": [
    {
     "data": {
      "text/html": [
       "<table class=\"simpletable\">\n",
       "<caption>OLS Regression Results</caption>\n",
       "<tr>\n",
       "  <th>Dep. Variable:</th>           <td>G2</td>        <th>  R-squared:         </th> <td>   0.222</td>\n",
       "</tr>\n",
       "<tr>\n",
       "  <th>Model:</th>                   <td>OLS</td>       <th>  Adj. R-squared:    </th> <td>   0.204</td>\n",
       "</tr>\n",
       "<tr>\n",
       "  <th>Method:</th>             <td>Least Squares</td>  <th>  F-statistic:       </th> <td>   12.20</td>\n",
       "</tr>\n",
       "<tr>\n",
       "  <th>Date:</th>             <td>Fri, 05 Aug 2022</td> <th>  Prob (F-statistic):</th> <td>5.06e-17</td>\n",
       "</tr>\n",
       "<tr>\n",
       "  <th>Time:</th>                 <td>15:05:35</td>     <th>  Log-Likelihood:    </th> <td> -1033.7</td>\n",
       "</tr>\n",
       "<tr>\n",
       "  <th>No. Observations:</th>      <td>   395</td>      <th>  AIC:               </th> <td>   2087.</td>\n",
       "</tr>\n",
       "<tr>\n",
       "  <th>Df Residuals:</th>          <td>   385</td>      <th>  BIC:               </th> <td>   2127.</td>\n",
       "</tr>\n",
       "<tr>\n",
       "  <th>Df Model:</th>              <td>     9</td>      <th>                     </th>     <td> </td>   \n",
       "</tr>\n",
       "<tr>\n",
       "  <th>Covariance Type:</th>      <td>nonrobust</td>    <th>                     </th>     <td> </td>   \n",
       "</tr>\n",
       "</table>\n",
       "<table class=\"simpletable\">\n",
       "<tr>\n",
       "      <td></td>         <th>coef</th>     <th>std err</th>      <th>t</th>      <th>P>|t|</th>  <th>[0.025</th>    <th>0.975]</th>  \n",
       "</tr>\n",
       "<tr>\n",
       "  <th>const</th>     <td>   11.4720</td> <td>    0.920</td> <td>   12.470</td> <td> 0.000</td> <td>    9.663</td> <td>   13.281</td>\n",
       "</tr>\n",
       "<tr>\n",
       "  <th>sex</th>       <td>    0.9177</td> <td>    0.364</td> <td>    2.523</td> <td> 0.012</td> <td>    0.202</td> <td>    1.633</td>\n",
       "</tr>\n",
       "<tr>\n",
       "  <th>address</th>   <td>   -0.9951</td> <td>    0.413</td> <td>   -2.411</td> <td> 0.016</td> <td>   -1.807</td> <td>   -0.184</td>\n",
       "</tr>\n",
       "<tr>\n",
       "  <th>Medu</th>      <td>    0.3904</td> <td>    0.163</td> <td>    2.389</td> <td> 0.017</td> <td>    0.069</td> <td>    0.712</td>\n",
       "</tr>\n",
       "<tr>\n",
       "  <th>reason</th>    <td>   -0.3480</td> <td>    0.172</td> <td>   -2.019</td> <td> 0.044</td> <td>   -0.687</td> <td>   -0.009</td>\n",
       "</tr>\n",
       "<tr>\n",
       "  <th>studytime</th> <td>    0.5024</td> <td>    0.216</td> <td>    2.326</td> <td> 0.021</td> <td>    0.078</td> <td>    0.927</td>\n",
       "</tr>\n",
       "<tr>\n",
       "  <th>failures</th>  <td>   -1.4017</td> <td>    0.242</td> <td>   -5.797</td> <td> 0.000</td> <td>   -1.877</td> <td>   -0.926</td>\n",
       "</tr>\n",
       "<tr>\n",
       "  <th>schoolsup</th> <td>   -1.3066</td> <td>    0.518</td> <td>   -2.523</td> <td> 0.012</td> <td>   -2.325</td> <td>   -0.288</td>\n",
       "</tr>\n",
       "<tr>\n",
       "  <th>romantic</th>  <td>   -0.7909</td> <td>    0.367</td> <td>   -2.157</td> <td> 0.032</td> <td>   -1.512</td> <td>   -0.070</td>\n",
       "</tr>\n",
       "<tr>\n",
       "  <th>goout</th>     <td>   -0.4845</td> <td>    0.155</td> <td>   -3.123</td> <td> 0.002</td> <td>   -0.789</td> <td>   -0.179</td>\n",
       "</tr>\n",
       "</table>\n",
       "<table class=\"simpletable\">\n",
       "<tr>\n",
       "  <th>Omnibus:</th>       <td>20.285</td> <th>  Durbin-Watson:     </th> <td>   2.025</td>\n",
       "</tr>\n",
       "<tr>\n",
       "  <th>Prob(Omnibus):</th> <td> 0.000</td> <th>  Jarque-Bera (JB):  </th> <td>  24.443</td>\n",
       "</tr>\n",
       "<tr>\n",
       "  <th>Skew:</th>          <td>-0.469</td> <th>  Prob(JB):          </th> <td>4.92e-06</td>\n",
       "</tr>\n",
       "<tr>\n",
       "  <th>Kurtosis:</th>      <td> 3.779</td> <th>  Cond. No.          </th> <td>    29.5</td>\n",
       "</tr>\n",
       "</table><br/><br/>Notes:<br/>[1] Standard Errors assume that the covariance matrix of the errors is correctly specified."
      ],
      "text/plain": [
       "<class 'statsmodels.iolib.summary.Summary'>\n",
       "\"\"\"\n",
       "                            OLS Regression Results                            \n",
       "==============================================================================\n",
       "Dep. Variable:                     G2   R-squared:                       0.222\n",
       "Model:                            OLS   Adj. R-squared:                  0.204\n",
       "Method:                 Least Squares   F-statistic:                     12.20\n",
       "Date:                Fri, 05 Aug 2022   Prob (F-statistic):           5.06e-17\n",
       "Time:                        15:05:35   Log-Likelihood:                -1033.7\n",
       "No. Observations:                 395   AIC:                             2087.\n",
       "Df Residuals:                     385   BIC:                             2127.\n",
       "Df Model:                           9                                         \n",
       "Covariance Type:            nonrobust                                         \n",
       "==============================================================================\n",
       "                 coef    std err          t      P>|t|      [0.025      0.975]\n",
       "------------------------------------------------------------------------------\n",
       "const         11.4720      0.920     12.470      0.000       9.663      13.281\n",
       "sex            0.9177      0.364      2.523      0.012       0.202       1.633\n",
       "address       -0.9951      0.413     -2.411      0.016      -1.807      -0.184\n",
       "Medu           0.3904      0.163      2.389      0.017       0.069       0.712\n",
       "reason        -0.3480      0.172     -2.019      0.044      -0.687      -0.009\n",
       "studytime      0.5024      0.216      2.326      0.021       0.078       0.927\n",
       "failures      -1.4017      0.242     -5.797      0.000      -1.877      -0.926\n",
       "schoolsup     -1.3066      0.518     -2.523      0.012      -2.325      -0.288\n",
       "romantic      -0.7909      0.367     -2.157      0.032      -1.512      -0.070\n",
       "goout         -0.4845      0.155     -3.123      0.002      -0.789      -0.179\n",
       "==============================================================================\n",
       "Omnibus:                       20.285   Durbin-Watson:                   2.025\n",
       "Prob(Omnibus):                  0.000   Jarque-Bera (JB):               24.443\n",
       "Skew:                          -0.469   Prob(JB):                     4.92e-06\n",
       "Kurtosis:                       3.779   Cond. No.                         29.5\n",
       "==============================================================================\n",
       "\n",
       "Notes:\n",
       "[1] Standard Errors assume that the covariance matrix of the errors is correctly specified.\n",
       "\"\"\""
      ]
     },
     "execution_count": 81,
     "metadata": {},
     "output_type": "execute_result"
    }
   ],
   "source": [
    "modelg2_pvalue.summary()"
   ]
  },
  {
   "cell_type": "code",
   "execution_count": 82,
   "metadata": {},
   "outputs": [
    {
     "data": {
      "text/plain": [
       "10.713924050632912"
      ]
     },
     "execution_count": 82,
     "metadata": {},
     "output_type": "execute_result"
    }
   ],
   "source": [
    "df['G2'].mean()"
   ]
  },
  {
   "cell_type": "markdown",
   "metadata": {},
   "source": [
    "**Interpretación:**\n",
    "\n",
    "* La constanste está cerca de la media de la variable dependiente y esto es bueno para el modelo, ya que es el punto de partida del peso de las variables.\n",
    "\n",
    "* sex nos indica que un estudiante al ser hombre[Clase 1] estaría subiendo su nota en 0.91.\n",
    "\n",
    "* address al aumentar en una unidad, disminuirá la nota promedio en -0.99\n",
    "\n",
    "* Medu nos indica que mientras más alto el nivel educacional de la madre, mejores notas tendrá el estudiante. Por ejemplo, si tenemos 3 unidades en Medu, multiplicamos su coeficiente por 3 y obtendremos en cuanto estaría aumentando la nota del estudiante. 0.39040*3= 1.17 ... Un estudiante con una madre que tenga hasta educación media, subirá en 1.17 su promedio del segundo semestre.\n",
    "\n",
    "* reason nos indica si este aumenta en 1 unidad, la nota del estudiante bajaría en -0.3480.\n",
    "\n",
    "* studytime nos indica que a medida que el estudiante dedica más tiempo al estudio, su nota irá mejorando en 0.5024.\n",
    "\n",
    "* failures nos indica que a medida que el estudiante tenga más cursos reprobados, su nota promedio del segundo semestre disminuirá en -1.4.\n",
    "\n",
    "* schoolsup nos indica que a medida que el estudiante tenga apoyo del colegio, su nota promedio del segundo semestre disminuirá en -1.3.\n",
    "\n",
    "* romantic nos indica que los estudiantes al tener una relación amorosa estaría afectando en -0.79 su nota promedio del segundo semestre.\n",
    "\n",
    "* goout nos indica que los estudiantes mientras más salen con amigos, su nota promedio del segundo semestre estaría disminuyendo en -0.48\n",
    "\n",
    "**4.2.3 G3 Promedio final - Modelo base**"
   ]
  },
  {
   "cell_type": "code",
   "execution_count": 83,
   "metadata": {},
   "outputs": [
    {
     "data": {
      "text/html": [
       "<table class=\"simpletable\">\n",
       "<caption>OLS Regression Results</caption>\n",
       "<tr>\n",
       "  <th>Dep. Variable:</th>           <td>G3</td>        <th>  R-squared:         </th> <td>   0.255</td>\n",
       "</tr>\n",
       "<tr>\n",
       "  <th>Model:</th>                   <td>OLS</td>       <th>  Adj. R-squared:    </th> <td>   0.194</td>\n",
       "</tr>\n",
       "<tr>\n",
       "  <th>Method:</th>             <td>Least Squares</td>  <th>  F-statistic:       </th> <td>   4.155</td>\n",
       "</tr>\n",
       "<tr>\n",
       "  <th>Date:</th>             <td>Fri, 05 Aug 2022</td> <th>  Prob (F-statistic):</th> <td>2.95e-11</td>\n",
       "</tr>\n",
       "<tr>\n",
       "  <th>Time:</th>                 <td>15:05:35</td>     <th>  Log-Likelihood:    </th> <td> -1100.4</td>\n",
       "</tr>\n",
       "<tr>\n",
       "  <th>No. Observations:</th>      <td>   395</td>      <th>  AIC:               </th> <td>   2263.</td>\n",
       "</tr>\n",
       "<tr>\n",
       "  <th>Df Residuals:</th>          <td>   364</td>      <th>  BIC:               </th> <td>   2386.</td>\n",
       "</tr>\n",
       "<tr>\n",
       "  <th>Df Model:</th>              <td>    30</td>      <th>                     </th>     <td> </td>   \n",
       "</tr>\n",
       "<tr>\n",
       "  <th>Covariance Type:</th>      <td>nonrobust</td>    <th>                     </th>     <td> </td>   \n",
       "</tr>\n",
       "</table>\n",
       "<table class=\"simpletable\">\n",
       "<tr>\n",
       "       <td></td>         <th>coef</th>     <th>std err</th>      <th>t</th>      <th>P>|t|</th>  <th>[0.025</th>    <th>0.975]</th>  \n",
       "</tr>\n",
       "<tr>\n",
       "  <th>const</th>      <td>   15.7716</td> <td>    3.991</td> <td>    3.952</td> <td> 0.000</td> <td>    7.924</td> <td>   23.619</td>\n",
       "</tr>\n",
       "<tr>\n",
       "  <th>school</th>     <td>    1.0231</td> <td>    0.771</td> <td>    1.327</td> <td> 0.185</td> <td>   -0.493</td> <td>    2.539</td>\n",
       "</tr>\n",
       "<tr>\n",
       "  <th>sex</th>        <td>    1.1947</td> <td>    0.490</td> <td>    2.436</td> <td> 0.015</td> <td>    0.230</td> <td>    2.159</td>\n",
       "</tr>\n",
       "<tr>\n",
       "  <th>age</th>        <td>   -0.3070</td> <td>    0.206</td> <td>   -1.490</td> <td> 0.137</td> <td>   -0.712</td> <td>    0.098</td>\n",
       "</tr>\n",
       "<tr>\n",
       "  <th>address</th>    <td>   -0.6092</td> <td>    0.570</td> <td>   -1.070</td> <td> 0.286</td> <td>   -1.729</td> <td>    0.511</td>\n",
       "</tr>\n",
       "<tr>\n",
       "  <th>famsize</th>    <td>    0.6373</td> <td>    0.481</td> <td>    1.326</td> <td> 0.186</td> <td>   -0.308</td> <td>    1.583</td>\n",
       "</tr>\n",
       "<tr>\n",
       "  <th>Pstatus</th>    <td>    0.5150</td> <td>    0.721</td> <td>    0.715</td> <td> 0.475</td> <td>   -0.902</td> <td>    1.932</td>\n",
       "</tr>\n",
       "<tr>\n",
       "  <th>Medu</th>       <td>    0.4115</td> <td>    0.274</td> <td>    1.500</td> <td> 0.134</td> <td>   -0.128</td> <td>    0.951</td>\n",
       "</tr>\n",
       "<tr>\n",
       "  <th>Fedu</th>       <td>   -0.0752</td> <td>    0.266</td> <td>   -0.283</td> <td> 0.777</td> <td>   -0.598</td> <td>    0.447</td>\n",
       "</tr>\n",
       "<tr>\n",
       "  <th>Mjob</th>       <td>   -0.0428</td> <td>    0.180</td> <td>   -0.237</td> <td> 0.813</td> <td>   -0.398</td> <td>    0.312</td>\n",
       "</tr>\n",
       "<tr>\n",
       "  <th>Fjob</th>       <td>   -0.3179</td> <td>    0.213</td> <td>   -1.495</td> <td> 0.136</td> <td>   -0.736</td> <td>    0.100</td>\n",
       "</tr>\n",
       "<tr>\n",
       "  <th>reason</th>     <td>   -0.4887</td> <td>    0.217</td> <td>   -2.252</td> <td> 0.025</td> <td>   -0.916</td> <td>   -0.062</td>\n",
       "</tr>\n",
       "<tr>\n",
       "  <th>guardian</th>   <td>   -0.1082</td> <td>    0.367</td> <td>   -0.295</td> <td> 0.768</td> <td>   -0.829</td> <td>    0.613</td>\n",
       "</tr>\n",
       "<tr>\n",
       "  <th>traveltime</th> <td>   -0.1909</td> <td>    0.333</td> <td>   -0.574</td> <td> 0.566</td> <td>   -0.845</td> <td>    0.463</td>\n",
       "</tr>\n",
       "<tr>\n",
       "  <th>studytime</th>  <td>    0.4752</td> <td>    0.281</td> <td>    1.691</td> <td> 0.092</td> <td>   -0.077</td> <td>    1.028</td>\n",
       "</tr>\n",
       "<tr>\n",
       "  <th>failures</th>   <td>   -1.5850</td> <td>    0.323</td> <td>   -4.907</td> <td> 0.000</td> <td>   -2.220</td> <td>   -0.950</td>\n",
       "</tr>\n",
       "<tr>\n",
       "  <th>schoolsup</th>  <td>   -1.1978</td> <td>    0.670</td> <td>   -1.788</td> <td> 0.075</td> <td>   -2.515</td> <td>    0.119</td>\n",
       "</tr>\n",
       "<tr>\n",
       "  <th>famsup</th>     <td>    0.7585</td> <td>    0.472</td> <td>    1.609</td> <td> 0.109</td> <td>   -0.169</td> <td>    1.686</td>\n",
       "</tr>\n",
       "<tr>\n",
       "  <th>paid</th>       <td>    0.1799</td> <td>    0.467</td> <td>    0.385</td> <td> 0.700</td> <td>   -0.738</td> <td>    1.098</td>\n",
       "</tr>\n",
       "<tr>\n",
       "  <th>activities</th> <td>    0.5105</td> <td>    0.436</td> <td>    1.171</td> <td> 0.242</td> <td>   -0.346</td> <td>    1.367</td>\n",
       "</tr>\n",
       "<tr>\n",
       "  <th>nursery</th>    <td>    0.0198</td> <td>    0.541</td> <td>    0.037</td> <td> 0.971</td> <td>   -1.044</td> <td>    1.083</td>\n",
       "</tr>\n",
       "<tr>\n",
       "  <th>higher</th>     <td>   -1.6289</td> <td>    1.047</td> <td>   -1.556</td> <td> 0.120</td> <td>   -3.687</td> <td>    0.429</td>\n",
       "</tr>\n",
       "<tr>\n",
       "  <th>internet</th>   <td>   -0.5252</td> <td>    0.603</td> <td>   -0.870</td> <td> 0.385</td> <td>   -1.712</td> <td>    0.661</td>\n",
       "</tr>\n",
       "<tr>\n",
       "  <th>romantic</th>   <td>   -1.1552</td> <td>    0.463</td> <td>   -2.496</td> <td> 0.013</td> <td>   -2.065</td> <td>   -0.245</td>\n",
       "</tr>\n",
       "<tr>\n",
       "  <th>famrel</th>     <td>    0.2254</td> <td>    0.244</td> <td>    0.923</td> <td> 0.357</td> <td>   -0.255</td> <td>    0.706</td>\n",
       "</tr>\n",
       "<tr>\n",
       "  <th>freetime</th>   <td>    0.2735</td> <td>    0.231</td> <td>    1.183</td> <td> 0.238</td> <td>   -0.181</td> <td>    0.728</td>\n",
       "</tr>\n",
       "<tr>\n",
       "  <th>goout</th>      <td>   -0.5539</td> <td>    0.221</td> <td>   -2.503</td> <td> 0.013</td> <td>   -0.989</td> <td>   -0.119</td>\n",
       "</tr>\n",
       "<tr>\n",
       "  <th>Dalc</th>       <td>   -0.4205</td> <td>    0.324</td> <td>   -1.298</td> <td> 0.195</td> <td>   -1.058</td> <td>    0.217</td>\n",
       "</tr>\n",
       "<tr>\n",
       "  <th>Walc</th>       <td>    0.2945</td> <td>    0.242</td> <td>    1.217</td> <td> 0.224</td> <td>   -0.181</td> <td>    0.770</td>\n",
       "</tr>\n",
       "<tr>\n",
       "  <th>health</th>     <td>   -0.0341</td> <td>    0.158</td> <td>   -0.215</td> <td> 0.830</td> <td>   -0.346</td> <td>    0.278</td>\n",
       "</tr>\n",
       "<tr>\n",
       "  <th>absences</th>   <td>    0.0479</td> <td>    0.028</td> <td>    1.691</td> <td> 0.092</td> <td>   -0.008</td> <td>    0.104</td>\n",
       "</tr>\n",
       "</table>\n",
       "<table class=\"simpletable\">\n",
       "<tr>\n",
       "  <th>Omnibus:</th>       <td>22.493</td> <th>  Durbin-Watson:     </th> <td>   2.106</td>\n",
       "</tr>\n",
       "<tr>\n",
       "  <th>Prob(Omnibus):</th> <td> 0.000</td> <th>  Jarque-Bera (JB):  </th> <td>  24.728</td>\n",
       "</tr>\n",
       "<tr>\n",
       "  <th>Skew:</th>          <td>-0.598</td> <th>  Prob(JB):          </th> <td>4.27e-06</td>\n",
       "</tr>\n",
       "<tr>\n",
       "  <th>Kurtosis:</th>      <td> 3.267</td> <th>  Cond. No.          </th> <td>    401.</td>\n",
       "</tr>\n",
       "</table><br/><br/>Notes:<br/>[1] Standard Errors assume that the covariance matrix of the errors is correctly specified."
      ],
      "text/plain": [
       "<class 'statsmodels.iolib.summary.Summary'>\n",
       "\"\"\"\n",
       "                            OLS Regression Results                            \n",
       "==============================================================================\n",
       "Dep. Variable:                     G3   R-squared:                       0.255\n",
       "Model:                            OLS   Adj. R-squared:                  0.194\n",
       "Method:                 Least Squares   F-statistic:                     4.155\n",
       "Date:                Fri, 05 Aug 2022   Prob (F-statistic):           2.95e-11\n",
       "Time:                        15:05:35   Log-Likelihood:                -1100.4\n",
       "No. Observations:                 395   AIC:                             2263.\n",
       "Df Residuals:                     364   BIC:                             2386.\n",
       "Df Model:                          30                                         \n",
       "Covariance Type:            nonrobust                                         \n",
       "==============================================================================\n",
       "                 coef    std err          t      P>|t|      [0.025      0.975]\n",
       "------------------------------------------------------------------------------\n",
       "const         15.7716      3.991      3.952      0.000       7.924      23.619\n",
       "school         1.0231      0.771      1.327      0.185      -0.493       2.539\n",
       "sex            1.1947      0.490      2.436      0.015       0.230       2.159\n",
       "age           -0.3070      0.206     -1.490      0.137      -0.712       0.098\n",
       "address       -0.6092      0.570     -1.070      0.286      -1.729       0.511\n",
       "famsize        0.6373      0.481      1.326      0.186      -0.308       1.583\n",
       "Pstatus        0.5150      0.721      0.715      0.475      -0.902       1.932\n",
       "Medu           0.4115      0.274      1.500      0.134      -0.128       0.951\n",
       "Fedu          -0.0752      0.266     -0.283      0.777      -0.598       0.447\n",
       "Mjob          -0.0428      0.180     -0.237      0.813      -0.398       0.312\n",
       "Fjob          -0.3179      0.213     -1.495      0.136      -0.736       0.100\n",
       "reason        -0.4887      0.217     -2.252      0.025      -0.916      -0.062\n",
       "guardian      -0.1082      0.367     -0.295      0.768      -0.829       0.613\n",
       "traveltime    -0.1909      0.333     -0.574      0.566      -0.845       0.463\n",
       "studytime      0.4752      0.281      1.691      0.092      -0.077       1.028\n",
       "failures      -1.5850      0.323     -4.907      0.000      -2.220      -0.950\n",
       "schoolsup     -1.1978      0.670     -1.788      0.075      -2.515       0.119\n",
       "famsup         0.7585      0.472      1.609      0.109      -0.169       1.686\n",
       "paid           0.1799      0.467      0.385      0.700      -0.738       1.098\n",
       "activities     0.5105      0.436      1.171      0.242      -0.346       1.367\n",
       "nursery        0.0198      0.541      0.037      0.971      -1.044       1.083\n",
       "higher        -1.6289      1.047     -1.556      0.120      -3.687       0.429\n",
       "internet      -0.5252      0.603     -0.870      0.385      -1.712       0.661\n",
       "romantic      -1.1552      0.463     -2.496      0.013      -2.065      -0.245\n",
       "famrel         0.2254      0.244      0.923      0.357      -0.255       0.706\n",
       "freetime       0.2735      0.231      1.183      0.238      -0.181       0.728\n",
       "goout         -0.5539      0.221     -2.503      0.013      -0.989      -0.119\n",
       "Dalc          -0.4205      0.324     -1.298      0.195      -1.058       0.217\n",
       "Walc           0.2945      0.242      1.217      0.224      -0.181       0.770\n",
       "health        -0.0341      0.158     -0.215      0.830      -0.346       0.278\n",
       "absences       0.0479      0.028      1.691      0.092      -0.008       0.104\n",
       "==============================================================================\n",
       "Omnibus:                       22.493   Durbin-Watson:                   2.106\n",
       "Prob(Omnibus):                  0.000   Jarque-Bera (JB):               24.728\n",
       "Skew:                          -0.598   Prob(JB):                     4.27e-06\n",
       "Kurtosis:                       3.267   Cond. No.                         401.\n",
       "==============================================================================\n",
       "\n",
       "Notes:\n",
       "[1] Standard Errors assume that the covariance matrix of the errors is correctly specified.\n",
       "\"\"\""
      ]
     },
     "execution_count": 83,
     "metadata": {},
     "output_type": "execute_result"
    }
   ],
   "source": [
    "X_g3 = df_final.drop(columns=['G1','G2','G3'])\n",
    "y = df_final.G3\n",
    "\n",
    "X_full = sm.add_constant(X_g3) # Estoy agregando el intercepto\n",
    "\n",
    "modelg3_base = sm.OLS(y, X_full).fit()\n",
    "modelg3_base.summary()"
   ]
  },
  {
   "cell_type": "markdown",
   "metadata": {},
   "source": [
    "**G3- Modelo base depurado por VIF**\n",
    "\n",
    "Depuraremos por VIF para bajar el Conditional Number y verificar si esto mejora nuestro modelo"
   ]
  },
  {
   "cell_type": "code",
   "execution_count": 84,
   "metadata": {},
   "outputs": [
    {
     "data": {
      "text/plain": [
       "school        1.417309\n",
       "sex           2.494535\n",
       "address       1.627687\n",
       "famsize       1.536750\n",
       "Pstatus       1.217432\n",
       "Fedu          6.121222\n",
       "Mjob          5.293638\n",
       "reason        4.926792\n",
       "guardian      7.007607\n",
       "traveltime    5.912904\n",
       "studytime     6.500063\n",
       "failures      1.498159\n",
       "schoolsup     1.249099\n",
       "famsup        1.912389\n",
       "paid          2.231644\n",
       "activities    2.069085\n",
       "nursery       1.352621\n",
       "higher        1.264287\n",
       "internet      1.376280\n",
       "romantic      1.652550\n",
       "Dalc          6.983742\n",
       "Walc          7.841381\n",
       "health        7.687760\n",
       "absences      1.676372\n",
       "dtype: float64"
      ]
     },
     "execution_count": 84,
     "metadata": {},
     "output_type": "execute_result"
    }
   ],
   "source": [
    "vif, indices = ut.VIF(X_g3,vars_to_ignore=['age','famrel','Medu','freetime','goout','Fjob']) # vars_to_ignore=['age','famrel','Medu','freetime','goout']\n",
    "\n",
    "vif"
   ]
  },
  {
   "cell_type": "markdown",
   "metadata": {},
   "source": [
    "Ya con nuestras a ignorar, creamos un modelo depurado por el VIF el cual lo compararemos con el base"
   ]
  },
  {
   "cell_type": "code",
   "execution_count": 85,
   "metadata": {},
   "outputs": [
    {
     "name": "stdout",
     "output_type": "stream",
     "text": [
      "Modelo base:\n",
      "R cuadrado ajustado: 0.19\n",
      "Model AIC: 2262.74\n",
      "Model BIC: 2386.09\n",
      "Model Cond. no: 400.69\n",
      "\n",
      "***********\n",
      "\n",
      "Modelo vif:\n",
      "R cuadrado ajustado: 0.18\n",
      "Model AIC: 2265.98\n",
      "Model BIC: 2365.46\n",
      "Model Cond. no: 90.19\n"
     ]
    }
   ],
   "source": [
    "X_g3 = df_final.drop(columns=['G1','G2','G3','age','famrel','Medu','freetime','goout','Fjob'])\n",
    "y = df_final.G3\n",
    "\n",
    "X_full = sm.add_constant(X_g3) # Estoy agregando el intercepto\n",
    "\n",
    "modelg3_vif = sm.OLS(y, X_full).fit()\n",
    "modelg3_vif.summary()\n",
    "\n",
    "print('Modelo base:')\n",
    "ut.model_metrics(modelg3_base)\n",
    "print('')\n",
    "print('***********')\n",
    "print('')\n",
    "print('Modelo vif:')\n",
    "ut.model_metrics(modelg3_vif)"
   ]
  },
  {
   "cell_type": "markdown",
   "metadata": {},
   "source": [
    "**Observaciones:**\n",
    "\n",
    "R cuadrado ajustado disminuyó casi imperceptiblemente, AIC es mejor en modelo base, pero en el modelo depurado es peor, BIC pasa al revés, en modelo base BIC es peor y en modelo VIF es mejor. No podemos decir que es un mejor modelo ya que están casi iguales, solo bajo considerablemente el Conditional Number. Continuaremos con otro modelo, pero depurado por pvalues."
   ]
  },
  {
   "cell_type": "markdown",
   "metadata": {},
   "source": [
    "**G3- Modelo base depurado por pvalue**"
   ]
  },
  {
   "cell_type": "code",
   "execution_count": 86,
   "metadata": {},
   "outputs": [
    {
     "data": {
      "text/html": [
       "<table class=\"simpletable\">\n",
       "<caption>OLS Regression Results</caption>\n",
       "<tr>\n",
       "  <th>Dep. Variable:</th>           <td>G3</td>        <th>  R-squared:         </th> <td>   0.193</td>\n",
       "</tr>\n",
       "<tr>\n",
       "  <th>Model:</th>                   <td>OLS</td>       <th>  Adj. R-squared:    </th> <td>   0.181</td>\n",
       "</tr>\n",
       "<tr>\n",
       "  <th>Method:</th>             <td>Least Squares</td>  <th>  F-statistic:       </th> <td>   15.51</td>\n",
       "</tr>\n",
       "<tr>\n",
       "  <th>Date:</th>             <td>Fri, 05 Aug 2022</td> <th>  Prob (F-statistic):</th> <td>5.74e-16</td>\n",
       "</tr>\n",
       "<tr>\n",
       "  <th>Time:</th>                 <td>15:05:36</td>     <th>  Log-Likelihood:    </th> <td> -1116.1</td>\n",
       "</tr>\n",
       "<tr>\n",
       "  <th>No. Observations:</th>      <td>   395</td>      <th>  AIC:               </th> <td>   2246.</td>\n",
       "</tr>\n",
       "<tr>\n",
       "  <th>Df Residuals:</th>          <td>   388</td>      <th>  BIC:               </th> <td>   2274.</td>\n",
       "</tr>\n",
       "<tr>\n",
       "  <th>Df Model:</th>              <td>     6</td>      <th>                     </th>     <td> </td>   \n",
       "</tr>\n",
       "<tr>\n",
       "  <th>Covariance Type:</th>      <td>nonrobust</td>    <th>                     </th>     <td> </td>   \n",
       "</tr>\n",
       "</table>\n",
       "<table class=\"simpletable\">\n",
       "<tr>\n",
       "      <td></td>        <th>coef</th>     <th>std err</th>      <th>t</th>      <th>P>|t|</th>  <th>[0.025</th>    <th>0.975]</th>  \n",
       "</tr>\n",
       "<tr>\n",
       "  <th>const</th>    <td>   11.8661</td> <td>    0.915</td> <td>   12.968</td> <td> 0.000</td> <td>   10.067</td> <td>   13.665</td>\n",
       "</tr>\n",
       "<tr>\n",
       "  <th>sex</th>      <td>    1.1025</td> <td>    0.421</td> <td>    2.619</td> <td> 0.009</td> <td>    0.275</td> <td>    1.930</td>\n",
       "</tr>\n",
       "<tr>\n",
       "  <th>Medu</th>     <td>    0.5232</td> <td>    0.199</td> <td>    2.635</td> <td> 0.009</td> <td>    0.133</td> <td>    0.914</td>\n",
       "</tr>\n",
       "<tr>\n",
       "  <th>reason</th>   <td>   -0.5171</td> <td>    0.211</td> <td>   -2.450</td> <td> 0.015</td> <td>   -0.932</td> <td>   -0.102</td>\n",
       "</tr>\n",
       "<tr>\n",
       "  <th>failures</th> <td>   -1.8622</td> <td>    0.293</td> <td>   -6.361</td> <td> 0.000</td> <td>   -2.438</td> <td>   -1.287</td>\n",
       "</tr>\n",
       "<tr>\n",
       "  <th>romantic</th> <td>   -1.0170</td> <td>    0.446</td> <td>   -2.279</td> <td> 0.023</td> <td>   -1.894</td> <td>   -0.140</td>\n",
       "</tr>\n",
       "<tr>\n",
       "  <th>goout</th>    <td>   -0.4585</td> <td>    0.190</td> <td>   -2.416</td> <td> 0.016</td> <td>   -0.832</td> <td>   -0.085</td>\n",
       "</tr>\n",
       "</table>\n",
       "<table class=\"simpletable\">\n",
       "<tr>\n",
       "  <th>Omnibus:</th>       <td>28.593</td> <th>  Durbin-Watson:     </th> <td>   2.133</td>\n",
       "</tr>\n",
       "<tr>\n",
       "  <th>Prob(Omnibus):</th> <td> 0.000</td> <th>  Jarque-Bera (JB):  </th> <td>  32.733</td>\n",
       "</tr>\n",
       "<tr>\n",
       "  <th>Skew:</th>          <td>-0.669</td> <th>  Prob(JB):          </th> <td>7.80e-08</td>\n",
       "</tr>\n",
       "<tr>\n",
       "  <th>Kurtosis:</th>      <td> 3.446</td> <th>  Cond. No.          </th> <td>    21.9</td>\n",
       "</tr>\n",
       "</table><br/><br/>Notes:<br/>[1] Standard Errors assume that the covariance matrix of the errors is correctly specified."
      ],
      "text/plain": [
       "<class 'statsmodels.iolib.summary.Summary'>\n",
       "\"\"\"\n",
       "                            OLS Regression Results                            \n",
       "==============================================================================\n",
       "Dep. Variable:                     G3   R-squared:                       0.193\n",
       "Model:                            OLS   Adj. R-squared:                  0.181\n",
       "Method:                 Least Squares   F-statistic:                     15.51\n",
       "Date:                Fri, 05 Aug 2022   Prob (F-statistic):           5.74e-16\n",
       "Time:                        15:05:36   Log-Likelihood:                -1116.1\n",
       "No. Observations:                 395   AIC:                             2246.\n",
       "Df Residuals:                     388   BIC:                             2274.\n",
       "Df Model:                           6                                         \n",
       "Covariance Type:            nonrobust                                         \n",
       "==============================================================================\n",
       "                 coef    std err          t      P>|t|      [0.025      0.975]\n",
       "------------------------------------------------------------------------------\n",
       "const         11.8661      0.915     12.968      0.000      10.067      13.665\n",
       "sex            1.1025      0.421      2.619      0.009       0.275       1.930\n",
       "Medu           0.5232      0.199      2.635      0.009       0.133       0.914\n",
       "reason        -0.5171      0.211     -2.450      0.015      -0.932      -0.102\n",
       "failures      -1.8622      0.293     -6.361      0.000      -2.438      -1.287\n",
       "romantic      -1.0170      0.446     -2.279      0.023      -1.894      -0.140\n",
       "goout         -0.4585      0.190     -2.416      0.016      -0.832      -0.085\n",
       "==============================================================================\n",
       "Omnibus:                       28.593   Durbin-Watson:                   2.133\n",
       "Prob(Omnibus):                  0.000   Jarque-Bera (JB):               32.733\n",
       "Skew:                          -0.669   Prob(JB):                     7.80e-08\n",
       "Kurtosis:                       3.446   Cond. No.                         21.9\n",
       "==============================================================================\n",
       "\n",
       "Notes:\n",
       "[1] Standard Errors assume that the covariance matrix of the errors is correctly specified.\n",
       "\"\"\""
      ]
     },
     "execution_count": 86,
     "metadata": {},
     "output_type": "execute_result"
    }
   ],
   "source": [
    "X_pvalue = df_final.drop(columns=['G1','G2','G3','nursery','health','Fedu','Mjob','guardian','paid','traveltime','Pstatus','internet','famrel','Walc','Dalc','school',\n",
    "'age','activities','freetime','studytime','absences','address','famsup','Fjob','famsize','higher','schoolsup'])\n",
    "y = df_final.G3\n",
    "\n",
    "X_full = sm.add_constant(X_pvalue) # Estoy agregando el intercepto\n",
    "\n",
    "modelg3_pvalue = sm.OLS(y, X_full).fit()\n",
    "modelg3_pvalue.summary()"
   ]
  },
  {
   "cell_type": "code",
   "execution_count": 87,
   "metadata": {},
   "outputs": [
    {
     "name": "stdout",
     "output_type": "stream",
     "text": [
      "Modelo base:\n",
      "R cuadrado ajustado: 0.19\n",
      "Model AIC: 2262.74\n",
      "Model BIC: 2386.09\n",
      "Model Cond. no: 400.69\n",
      "\n",
      "***********\n",
      "\n",
      "Modelo pvalue:\n",
      "R cuadrado ajustado: 0.18\n",
      "Model AIC: 2246.13\n",
      "Model BIC: 2273.98\n",
      "Model Cond. no: 21.92\n"
     ]
    }
   ],
   "source": [
    "print('Modelo base:')\n",
    "ut.model_metrics(modelg3_base)\n",
    "print('')\n",
    "print('***********')\n",
    "print('')\n",
    "print('Modelo pvalue:')\n",
    "ut.model_metrics(modelg3_pvalue)"
   ]
  },
  {
   "cell_type": "markdown",
   "metadata": {},
   "source": [
    "**Observaciones:**\n",
    "\n",
    "A pesar de la mínima disminución del R cuadrado ajustado en pvalue en comparación al Modelo base, el AIC y BIC nos indican que es un mejor modelo explicativo y si nos fijamos en el Conditional Number, este bajó considerablemente para decir que este modelo no tiene multicolinealidad. Teniendo este modelo pvalue, que es mejor que los otros, procederemos a integrar la carga latente para verificar si el modelo mejora."
   ]
  },
  {
   "cell_type": "markdown",
   "metadata": {},
   "source": [
    "**Modelo pvalue con carga latente**"
   ]
  },
  {
   "cell_type": "code",
   "execution_count": 88,
   "metadata": {},
   "outputs": [
    {
     "data": {
      "text/html": [
       "<table class=\"simpletable\">\n",
       "<caption>OLS Regression Results</caption>\n",
       "<tr>\n",
       "  <th>Dep. Variable:</th>           <td>G3</td>        <th>  R-squared:         </th> <td>   0.194</td>\n",
       "</tr>\n",
       "<tr>\n",
       "  <th>Model:</th>                   <td>OLS</td>       <th>  Adj. R-squared:    </th> <td>   0.179</td>\n",
       "</tr>\n",
       "<tr>\n",
       "  <th>Method:</th>             <td>Least Squares</td>  <th>  F-statistic:       </th> <td>   13.27</td>\n",
       "</tr>\n",
       "<tr>\n",
       "  <th>Date:</th>             <td>Fri, 05 Aug 2022</td> <th>  Prob (F-statistic):</th> <td>2.32e-15</td>\n",
       "</tr>\n",
       "<tr>\n",
       "  <th>Time:</th>                 <td>15:05:36</td>     <th>  Log-Likelihood:    </th> <td> -1116.0</td>\n",
       "</tr>\n",
       "<tr>\n",
       "  <th>No. Observations:</th>      <td>   395</td>      <th>  AIC:               </th> <td>   2248.</td>\n",
       "</tr>\n",
       "<tr>\n",
       "  <th>Df Residuals:</th>          <td>   387</td>      <th>  BIC:               </th> <td>   2280.</td>\n",
       "</tr>\n",
       "<tr>\n",
       "  <th>Df Model:</th>              <td>     7</td>      <th>                     </th>     <td> </td>   \n",
       "</tr>\n",
       "<tr>\n",
       "  <th>Covariance Type:</th>      <td>nonrobust</td>    <th>                     </th>     <td> </td>   \n",
       "</tr>\n",
       "</table>\n",
       "<table class=\"simpletable\">\n",
       "<tr>\n",
       "       <td></td>          <th>coef</th>     <th>std err</th>      <th>t</th>      <th>P>|t|</th>  <th>[0.025</th>    <th>0.975]</th>  \n",
       "</tr>\n",
       "<tr>\n",
       "  <th>const</th>       <td>   12.0920</td> <td>    1.319</td> <td>    9.169</td> <td> 0.000</td> <td>    9.499</td> <td>   14.685</td>\n",
       "</tr>\n",
       "<tr>\n",
       "  <th>sex</th>         <td>    1.0686</td> <td>    0.445</td> <td>    2.402</td> <td> 0.017</td> <td>    0.194</td> <td>    1.943</td>\n",
       "</tr>\n",
       "<tr>\n",
       "  <th>Medu</th>        <td>    0.5228</td> <td>    0.199</td> <td>    2.630</td> <td> 0.009</td> <td>    0.132</td> <td>    0.914</td>\n",
       "</tr>\n",
       "<tr>\n",
       "  <th>reason</th>      <td>   -0.5152</td> <td>    0.212</td> <td>   -2.436</td> <td> 0.015</td> <td>   -0.931</td> <td>   -0.099</td>\n",
       "</tr>\n",
       "<tr>\n",
       "  <th>failures</th>    <td>   -1.8696</td> <td>    0.295</td> <td>   -6.343</td> <td> 0.000</td> <td>   -2.449</td> <td>   -1.290</td>\n",
       "</tr>\n",
       "<tr>\n",
       "  <th>romantic</th>    <td>   -1.0193</td> <td>    0.447</td> <td>   -2.281</td> <td> 0.023</td> <td>   -1.898</td> <td>   -0.141</td>\n",
       "</tr>\n",
       "<tr>\n",
       "  <th>goout</th>       <td>   -0.5260</td> <td>    0.341</td> <td>   -1.541</td> <td> 0.124</td> <td>   -1.197</td> <td>    0.145</td>\n",
       "</tr>\n",
       "<tr>\n",
       "  <th>alcoholismo</th> <td>    0.1290</td> <td>    0.542</td> <td>    0.238</td> <td> 0.812</td> <td>   -0.936</td> <td>    1.194</td>\n",
       "</tr>\n",
       "</table>\n",
       "<table class=\"simpletable\">\n",
       "<tr>\n",
       "  <th>Omnibus:</th>       <td>28.414</td> <th>  Durbin-Watson:     </th> <td>   2.136</td>\n",
       "</tr>\n",
       "<tr>\n",
       "  <th>Prob(Omnibus):</th> <td> 0.000</td> <th>  Jarque-Bera (JB):  </th> <td>  32.492</td>\n",
       "</tr>\n",
       "<tr>\n",
       "  <th>Skew:</th>          <td>-0.666</td> <th>  Prob(JB):          </th> <td>8.80e-08</td>\n",
       "</tr>\n",
       "<tr>\n",
       "  <th>Kurtosis:</th>      <td> 3.446</td> <th>  Cond. No.          </th> <td>    33.2</td>\n",
       "</tr>\n",
       "</table><br/><br/>Notes:<br/>[1] Standard Errors assume that the covariance matrix of the errors is correctly specified."
      ],
      "text/plain": [
       "<class 'statsmodels.iolib.summary.Summary'>\n",
       "\"\"\"\n",
       "                            OLS Regression Results                            \n",
       "==============================================================================\n",
       "Dep. Variable:                     G3   R-squared:                       0.194\n",
       "Model:                            OLS   Adj. R-squared:                  0.179\n",
       "Method:                 Least Squares   F-statistic:                     13.27\n",
       "Date:                Fri, 05 Aug 2022   Prob (F-statistic):           2.32e-15\n",
       "Time:                        15:05:36   Log-Likelihood:                -1116.0\n",
       "No. Observations:                 395   AIC:                             2248.\n",
       "Df Residuals:                     387   BIC:                             2280.\n",
       "Df Model:                           7                                         \n",
       "Covariance Type:            nonrobust                                         \n",
       "===============================================================================\n",
       "                  coef    std err          t      P>|t|      [0.025      0.975]\n",
       "-------------------------------------------------------------------------------\n",
       "const          12.0920      1.319      9.169      0.000       9.499      14.685\n",
       "sex             1.0686      0.445      2.402      0.017       0.194       1.943\n",
       "Medu            0.5228      0.199      2.630      0.009       0.132       0.914\n",
       "reason         -0.5152      0.212     -2.436      0.015      -0.931      -0.099\n",
       "failures       -1.8696      0.295     -6.343      0.000      -2.449      -1.290\n",
       "romantic       -1.0193      0.447     -2.281      0.023      -1.898      -0.141\n",
       "goout          -0.5260      0.341     -1.541      0.124      -1.197       0.145\n",
       "alcoholismo     0.1290      0.542      0.238      0.812      -0.936       1.194\n",
       "==============================================================================\n",
       "Omnibus:                       28.414   Durbin-Watson:                   2.136\n",
       "Prob(Omnibus):                  0.000   Jarque-Bera (JB):               32.492\n",
       "Skew:                          -0.666   Prob(JB):                     8.80e-08\n",
       "Kurtosis:                       3.446   Cond. No.                         33.2\n",
       "==============================================================================\n",
       "\n",
       "Notes:\n",
       "[1] Standard Errors assume that the covariance matrix of the errors is correctly specified.\n",
       "\"\"\""
      ]
     },
     "execution_count": 88,
     "metadata": {},
     "output_type": "execute_result"
    }
   ],
   "source": [
    "df_facor = pd.concat([df_final, X_factor], axis=1)\n",
    "\n",
    "X_factor = df_factor.drop(columns=['G1','G2','G3','nursery','health','Fedu','Mjob','guardian','paid','traveltime','Pstatus','internet','famrel','Walc','Dalc','school',\n",
    "'age','activities','freetime','studytime','absences','address','famsup','Fjob','famsize','higher','schoolsup'])\n",
    "y = df_final.G3\n",
    "\n",
    "X_full = sm.add_constant(X_factor) # Estoy agregando el intercepto\n",
    "\n",
    "modelg3_pvalue_factor = sm.OLS(y, X_full).fit()\n",
    "modelg3_pvalue_factor.summary()"
   ]
  },
  {
   "cell_type": "code",
   "execution_count": 89,
   "metadata": {},
   "outputs": [
    {
     "name": "stdout",
     "output_type": "stream",
     "text": [
      "Modelo pvalue:\n",
      "R cuadrado ajustado: 0.18\n",
      "Model AIC: 2246.13\n",
      "Model BIC: 2273.98\n",
      "Model Cond. no: 21.92\n",
      "\n",
      "***********\n",
      "\n",
      "Modelo pvalue_factor:\n",
      "R cuadrado ajustado: 0.18\n",
      "Model AIC: 2248.07\n",
      "Model BIC: 2279.91\n",
      "Model Cond. no: 33.18\n"
     ]
    }
   ],
   "source": [
    "print('Modelo pvalue:')\n",
    "ut.model_metrics(modelg3_pvalue)\n",
    "print('')\n",
    "print('***********')\n",
    "print('')\n",
    "print('Modelo pvalue_factor:')\n",
    "ut.model_metrics(modelg3_pvalue_factor)"
   ]
  },
  {
   "cell_type": "markdown",
   "metadata": {},
   "source": [
    "**Observaciones:**\n",
    "\n",
    "R ajustado se mantiene igual, modelo empeora en cuanto a AIC y BIC, también empeora en conditional nombre. Por lo tanto, elegiremos al modelo depurado por pvalue como el mejor en cuanto a explicación y procederemos a interpretarlo."
   ]
  },
  {
   "cell_type": "markdown",
   "metadata": {},
   "source": [
    "**Interpretación modelo pvalue**"
   ]
  },
  {
   "cell_type": "code",
   "execution_count": 90,
   "metadata": {},
   "outputs": [
    {
     "data": {
      "text/html": [
       "<table class=\"simpletable\">\n",
       "<caption>OLS Regression Results</caption>\n",
       "<tr>\n",
       "  <th>Dep. Variable:</th>           <td>G3</td>        <th>  R-squared:         </th> <td>   0.193</td>\n",
       "</tr>\n",
       "<tr>\n",
       "  <th>Model:</th>                   <td>OLS</td>       <th>  Adj. R-squared:    </th> <td>   0.181</td>\n",
       "</tr>\n",
       "<tr>\n",
       "  <th>Method:</th>             <td>Least Squares</td>  <th>  F-statistic:       </th> <td>   15.51</td>\n",
       "</tr>\n",
       "<tr>\n",
       "  <th>Date:</th>             <td>Fri, 05 Aug 2022</td> <th>  Prob (F-statistic):</th> <td>5.74e-16</td>\n",
       "</tr>\n",
       "<tr>\n",
       "  <th>Time:</th>                 <td>15:05:37</td>     <th>  Log-Likelihood:    </th> <td> -1116.1</td>\n",
       "</tr>\n",
       "<tr>\n",
       "  <th>No. Observations:</th>      <td>   395</td>      <th>  AIC:               </th> <td>   2246.</td>\n",
       "</tr>\n",
       "<tr>\n",
       "  <th>Df Residuals:</th>          <td>   388</td>      <th>  BIC:               </th> <td>   2274.</td>\n",
       "</tr>\n",
       "<tr>\n",
       "  <th>Df Model:</th>              <td>     6</td>      <th>                     </th>     <td> </td>   \n",
       "</tr>\n",
       "<tr>\n",
       "  <th>Covariance Type:</th>      <td>nonrobust</td>    <th>                     </th>     <td> </td>   \n",
       "</tr>\n",
       "</table>\n",
       "<table class=\"simpletable\">\n",
       "<tr>\n",
       "      <td></td>        <th>coef</th>     <th>std err</th>      <th>t</th>      <th>P>|t|</th>  <th>[0.025</th>    <th>0.975]</th>  \n",
       "</tr>\n",
       "<tr>\n",
       "  <th>const</th>    <td>   11.8661</td> <td>    0.915</td> <td>   12.968</td> <td> 0.000</td> <td>   10.067</td> <td>   13.665</td>\n",
       "</tr>\n",
       "<tr>\n",
       "  <th>sex</th>      <td>    1.1025</td> <td>    0.421</td> <td>    2.619</td> <td> 0.009</td> <td>    0.275</td> <td>    1.930</td>\n",
       "</tr>\n",
       "<tr>\n",
       "  <th>Medu</th>     <td>    0.5232</td> <td>    0.199</td> <td>    2.635</td> <td> 0.009</td> <td>    0.133</td> <td>    0.914</td>\n",
       "</tr>\n",
       "<tr>\n",
       "  <th>reason</th>   <td>   -0.5171</td> <td>    0.211</td> <td>   -2.450</td> <td> 0.015</td> <td>   -0.932</td> <td>   -0.102</td>\n",
       "</tr>\n",
       "<tr>\n",
       "  <th>failures</th> <td>   -1.8622</td> <td>    0.293</td> <td>   -6.361</td> <td> 0.000</td> <td>   -2.438</td> <td>   -1.287</td>\n",
       "</tr>\n",
       "<tr>\n",
       "  <th>romantic</th> <td>   -1.0170</td> <td>    0.446</td> <td>   -2.279</td> <td> 0.023</td> <td>   -1.894</td> <td>   -0.140</td>\n",
       "</tr>\n",
       "<tr>\n",
       "  <th>goout</th>    <td>   -0.4585</td> <td>    0.190</td> <td>   -2.416</td> <td> 0.016</td> <td>   -0.832</td> <td>   -0.085</td>\n",
       "</tr>\n",
       "</table>\n",
       "<table class=\"simpletable\">\n",
       "<tr>\n",
       "  <th>Omnibus:</th>       <td>28.593</td> <th>  Durbin-Watson:     </th> <td>   2.133</td>\n",
       "</tr>\n",
       "<tr>\n",
       "  <th>Prob(Omnibus):</th> <td> 0.000</td> <th>  Jarque-Bera (JB):  </th> <td>  32.733</td>\n",
       "</tr>\n",
       "<tr>\n",
       "  <th>Skew:</th>          <td>-0.669</td> <th>  Prob(JB):          </th> <td>7.80e-08</td>\n",
       "</tr>\n",
       "<tr>\n",
       "  <th>Kurtosis:</th>      <td> 3.446</td> <th>  Cond. No.          </th> <td>    21.9</td>\n",
       "</tr>\n",
       "</table><br/><br/>Notes:<br/>[1] Standard Errors assume that the covariance matrix of the errors is correctly specified."
      ],
      "text/plain": [
       "<class 'statsmodels.iolib.summary.Summary'>\n",
       "\"\"\"\n",
       "                            OLS Regression Results                            \n",
       "==============================================================================\n",
       "Dep. Variable:                     G3   R-squared:                       0.193\n",
       "Model:                            OLS   Adj. R-squared:                  0.181\n",
       "Method:                 Least Squares   F-statistic:                     15.51\n",
       "Date:                Fri, 05 Aug 2022   Prob (F-statistic):           5.74e-16\n",
       "Time:                        15:05:37   Log-Likelihood:                -1116.1\n",
       "No. Observations:                 395   AIC:                             2246.\n",
       "Df Residuals:                     388   BIC:                             2274.\n",
       "Df Model:                           6                                         \n",
       "Covariance Type:            nonrobust                                         \n",
       "==============================================================================\n",
       "                 coef    std err          t      P>|t|      [0.025      0.975]\n",
       "------------------------------------------------------------------------------\n",
       "const         11.8661      0.915     12.968      0.000      10.067      13.665\n",
       "sex            1.1025      0.421      2.619      0.009       0.275       1.930\n",
       "Medu           0.5232      0.199      2.635      0.009       0.133       0.914\n",
       "reason        -0.5171      0.211     -2.450      0.015      -0.932      -0.102\n",
       "failures      -1.8622      0.293     -6.361      0.000      -2.438      -1.287\n",
       "romantic      -1.0170      0.446     -2.279      0.023      -1.894      -0.140\n",
       "goout         -0.4585      0.190     -2.416      0.016      -0.832      -0.085\n",
       "==============================================================================\n",
       "Omnibus:                       28.593   Durbin-Watson:                   2.133\n",
       "Prob(Omnibus):                  0.000   Jarque-Bera (JB):               32.733\n",
       "Skew:                          -0.669   Prob(JB):                     7.80e-08\n",
       "Kurtosis:                       3.446   Cond. No.                         21.9\n",
       "==============================================================================\n",
       "\n",
       "Notes:\n",
       "[1] Standard Errors assume that the covariance matrix of the errors is correctly specified.\n",
       "\"\"\""
      ]
     },
     "execution_count": 90,
     "metadata": {},
     "output_type": "execute_result"
    }
   ],
   "source": [
    "modelg3_pvalue.summary()"
   ]
  },
  {
   "cell_type": "code",
   "execution_count": 91,
   "metadata": {},
   "outputs": [
    {
     "data": {
      "text/plain": [
       "10.446428571428571"
      ]
     },
     "execution_count": 91,
     "metadata": {},
     "output_type": "execute_result"
    }
   ],
   "source": [
    "df['G3'].mean()"
   ]
  },
  {
   "cell_type": "markdown",
   "metadata": {},
   "source": [
    "**Interpretamos nuestro mejor modelo, el cual es pvalue:**\n",
    "\n",
    "* Constante es cercana a la media del promedio G3.\n",
    "\n",
    "* sex nos indica que si el estudiante es hombre, su nota estaría mejorando en 1.1.\n",
    "\n",
    "* Medu nos indica que a medida que la madre tiene más educación, esto se vería reflejado en un aumento del 0.5 en la nota promedio final del estudiante.\n",
    "\n",
    "* reason nos indica que si este aumenta en una unidad, la nota promedio empeorará en -0.51.\n",
    "\n",
    "* failures nos indica que el estudiante al presentar una mayor cantidad de cursos reprobados, la nota promedio final empeoraría en -1.8.\n",
    "\n",
    "* romantic nos indica que el estudiante al tener una relación amorosa su promedio final se vería afectado en -1.\n",
    "\n",
    "* goout nos indica que a medida que el estudiante aumenta sus salidas con amigos, su promedio final se vería afectado en -0.45."
   ]
  },
  {
   "cell_type": "markdown",
   "metadata": {},
   "source": [
    "# **5- Modelación Predictiva de variable objetivo G3 (Promedio Final del Estudiante)**\n",
    "\n",
    "Para realizar la modelación predictiva, crearemos varios modelos, el primero será el base, el cual desde este, lo iremos modificando para ir evaluando mediante métricas si van empeorando o mejorando.\n",
    "\n",
    "Para medir el desempeño de los modelos, utilizaremos validación cruzada con LeaveOneOut por la poca cantidad de observaciones en la data[395]. La métricas que pediremos al cross validation será:\n",
    "\n",
    "* RMSE: Medimos el promedio de los errores al cuadrado. A cross validation le pediremos la raíz del valor mediante el scoring y obtendremos la media de los datos entregados. \n",
    "\n",
    "**Elegiremos como mejor modelo al que tenga el puntaje RMSE más bajo.**"
   ]
  },
  {
   "cell_type": "markdown",
   "metadata": {},
   "source": [
    "**5.1 Modelo predictivo Base**\n",
    "\n",
    "El modelo base no cuenta con ninguna modificación, solo con la matriz de atributos y el vector objetivo.\n",
    "\n",
    "> Recordemos que el dataframe df_final ya viene con los valores perdidos imputados y todas las categorías como números."
   ]
  },
  {
   "cell_type": "code",
   "execution_count": 92,
   "metadata": {},
   "outputs": [
    {
     "name": "stdout",
     "output_type": "stream",
     "text": [
      "RMSE: 3.3201890622015124\n"
     ]
    }
   ],
   "source": [
    "X = df_final.drop(columns=['G1','G2','G3'])\n",
    "y = df_final.G3\n",
    "\n",
    "lr = LinearRegression()\n",
    "\n",
    "lr.fit(X, y)\n",
    "\n",
    "modelbase_rmse = -cross_val_score(lr, X, y, cv=LeaveOneOut(), scoring='neg_root_mean_squared_error').mean() # Utilizamos validación cruzada con LeaveOneOut por la cantidad de datos\n",
    "print(f'RMSE: {modelbase_rmse}')\n"
   ]
  },
  {
   "cell_type": "markdown",
   "metadata": {},
   "source": [
    "**5.2 Modelo predictivo con Carga latente 'Alcoholismo'**\n",
    "\n",
    "Al modelo base le agregamos la Carga latente que hayamos anteriormente."
   ]
  },
  {
   "cell_type": "code",
   "execution_count": 93,
   "metadata": {},
   "outputs": [
    {
     "name": "stdout",
     "output_type": "stream",
     "text": [
      "RMSE: 3.3200250327156167\n"
     ]
    }
   ],
   "source": [
    "df_factor = pd.concat([df_final,X_factor], axis=1)\n",
    "\n",
    "X_factor = df_factor.drop(columns=['G1','G2','G3'])\n",
    "y_factor = df_factor.G3\n",
    "\n",
    "lr = LinearRegression()\n",
    "\n",
    "lr.fit(X_factor, y_factor)\n",
    "\n",
    "modelfactor_rmse = -cross_val_score(lr, X_factor, y_factor, cv=LeaveOneOut(), scoring='neg_root_mean_squared_error').mean() # Utilizamos validación cruzada con LeaveOneOut por la cantidad de datos\n",
    "\n",
    "print(f'RMSE: {modelfactor_rmse}')"
   ]
  },
  {
   "cell_type": "markdown",
   "metadata": {},
   "source": [
    "**5.3 Modelo predictivo depurado por pvalue**\n",
    "\n",
    "Este modelo es creado a partir del modelo descriptivo ganador, donde solo dejamos las variables significativas."
   ]
  },
  {
   "cell_type": "code",
   "execution_count": 94,
   "metadata": {},
   "outputs": [
    {
     "name": "stdout",
     "output_type": "stream",
     "text": [
      "RMSE: 3.1643981951494653\n"
     ]
    }
   ],
   "source": [
    "X_pvalue = df_final.drop(columns=['G1','G2','G3','nursery','health','Fedu','Mjob','guardian','paid','traveltime','Pstatus','internet','famrel','Walc','Dalc','school',\n",
    "'age','activities','freetime','studytime','absences','address','famsup','Fjob','famsize','higher','schoolsup'])\n",
    "y = df_final.G3\n",
    "\n",
    "lr = LinearRegression()\n",
    "\n",
    "lr.fit(X_pvalue, y)\n",
    "\n",
    "model_pvalue = -cross_val_score(lr, X_pvalue, y, cv=LeaveOneOut(), scoring='neg_root_mean_squared_error').mean()\n",
    "\n",
    "print(f'RMSE: {model_pvalue}')"
   ]
  },
  {
   "cell_type": "markdown",
   "metadata": {},
   "source": [
    "#### **5.4 Eligimos el mejor modelo**\n",
    "\n",
    "Ya con nuestros 3 modelos armados y con el puntaje RMSE de cada uno, procedemos a elegir el que tenga mayor puntaje."
   ]
  },
  {
   "cell_type": "code",
   "execution_count": 95,
   "metadata": {},
   "outputs": [
    {
     "name": "stdout",
     "output_type": "stream",
     "text": [
      "RMSE Modelo base: 3.32\n",
      "RMSE Modelo 2- Carga latente: 3.32\n",
      "RMSE Modelo 3- Depurado por pvalue: 3.16\n"
     ]
    }
   ],
   "source": [
    "print(f'RMSE Modelo base: {modelbase_rmse:.2f}')\n",
    "print(f'RMSE Modelo 2- Carga latente: {modelfactor_rmse:.2f}')\n",
    "print(f'RMSE Modelo 3- Depurado por pvalue: {model_pvalue:.2f}')"
   ]
  },
  {
   "cell_type": "markdown",
   "metadata": {},
   "source": [
    "## Mejor Modelo:\n",
    "\n",
    "Siguiendo el criterio de elegir el mejor modelo a partir del RMSE más bajo, nos quedamos con:\n",
    "\n",
    "> ## **Modelo 3: Depurado por pvalue**\n",
    "\n",
    "Como conclusión, podemos decir que a pesar de que un modelo cuente con muchas variables o más información, no quiere decir que este mejorará y que al ir quedándonos con las variables significativas van a ir presentando una mejoría en cuanto a su Error cuadrático medio."
   ]
  },
  {
   "cell_type": "markdown",
   "metadata": {},
   "source": [
    "---"
   ]
  }
 ],
 "metadata": {
  "kernelspec": {
   "display_name": "Python 3.9.7 ('base')",
   "language": "python",
   "name": "python3"
  },
  "language_info": {
   "codemirror_mode": {
    "name": "ipython",
    "version": 3
   },
   "file_extension": ".py",
   "mimetype": "text/x-python",
   "name": "python",
   "nbconvert_exporter": "python",
   "pygments_lexer": "ipython3",
   "version": "3.9.7"
  },
  "orig_nbformat": 4,
  "vscode": {
   "interpreter": {
    "hash": "65c44e26cad2d151cdc2aee35b955460fc0bc7c0c1795da80e6ea6c0d50fc495"
   }
  }
 },
 "nbformat": 4,
 "nbformat_minor": 2
}
